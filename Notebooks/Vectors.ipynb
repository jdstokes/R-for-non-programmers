{
 "cells": [
  {
   "cell_type": "markdown",
   "metadata": {},
   "source": [
    "# Vectors\n",
    "Vectors allow us to store more values inside one. Vactors can be ow only one type. It might seem useless but will be awesome when we get to looping, data.frames simlulations, randomising etc."
   ]
  },
  {
   "cell_type": "code",
   "execution_count": null,
   "metadata": {
    "collapsed": true
   },
   "outputs": [],
   "source": [
    "str1 = \"I\"\n",
    "str2 = \"am\"\n",
    "str3 = \"great\"\n",
    "num1 = 0\n",
    "num2 = -5\n",
    "num3 = pi\n",
    "\n",
    "string_vec = c(str1, str2, str3)\n",
    "\n",
    "numeric_vec = c(num1, num2, num3)"
   ]
  },
  {
   "cell_type": "markdown",
   "metadata": {},
   "source": [
    "Vectors can be easilly combined"
   ]
  },
  {
   "cell_type": "code",
   "execution_count": null,
   "metadata": {
    "collapsed": true
   },
   "outputs": [],
   "source": [
    "combined_vec = c(numeric_vec, numeric_vec)\n",
    "print(combined_vec)"
   ]
  },
  {
   "cell_type": "markdown",
   "metadata": {},
   "source": [
    "Remember hoow vectors can only store one TYPE of variabe? So what would happen if we do this?"
   ]
  },
  {
   "cell_type": "code",
   "execution_count": null,
   "metadata": {
    "collapsed": true
   },
   "outputs": [],
   "source": [
    "combined_vec = c(str1, num2)"
   ]
  },
  {
   "cell_type": "markdown",
   "metadata": {},
   "source": [
    "Well? No ERROR? let's have a look at it"
   ]
  },
  {
   "cell_type": "code",
   "execution_count": null,
   "metadata": {
    "collapsed": true
   },
   "outputs": [],
   "source": [
    "combined_vec\n",
    "class(combined_vec)"
   ]
  },
  {
   "cell_type": "markdown",
   "metadata": {},
   "source": [
    "### Vector creation\n",
    "There are many ways how to create vectors. Below are some of the most common one."
   ]
  },
  {
   "cell_type": "markdown",
   "metadata": {},
   "source": [
    "Extremely common way to create integer vectors is the following."
   ]
  },
  {
   "cell_type": "code",
   "execution_count": null,
   "metadata": {
    "collapsed": true
   },
   "outputs": [],
   "source": [
    "numeric_vec2 = 1:5\n",
    "numeric_vec2\n",
    "numeric_vec3 = -5:-10\n",
    "numeric_vec3"
   ]
  },
  {
   "cell_type": "markdown",
   "metadata": {},
   "source": [
    "We can create simple vectors with the rep function"
   ]
  },
  {
   "cell_type": "code",
   "execution_count": null,
   "metadata": {
    "collapsed": true
   },
   "outputs": [],
   "source": [
    "all_ones = rep(1, 100)"
   ]
  },
  {
   "cell_type": "markdown",
   "metadata": {},
   "source": [
    "We can also create sequences with the use of seq function."
   ]
  },
  {
   "cell_type": "code",
   "execution_count": null,
   "metadata": {
    "collapsed": true
   },
   "outputs": [],
   "source": [
    "small_increments = seq(1, 100, by = 0.1)\n",
    "larger_increments = seq(2, 100, length.out = 50)"
   ]
  },
  {
   "cell_type": "markdown",
   "metadata": {},
   "source": [
    "If you want to just increment by one, use the column operator."
   ]
  },
  {
   "cell_type": "markdown",
   "metadata": {},
   "source": [
    "Another way to create vectors is through logical comparison."
   ]
  },
  {
   "cell_type": "code",
   "execution_count": 1,
   "metadata": {
    "collapsed": false
   },
   "outputs": [
    {
     "data": {
      "text/html": [
       "<ol class=list-inline>\n",
       "\t<li>TRUE</li>\n",
       "\t<li>TRUE</li>\n",
       "\t<li>TRUE</li>\n",
       "\t<li>TRUE</li>\n",
       "\t<li>TRUE</li>\n",
       "</ol>\n"
      ],
      "text/latex": [
       "\\begin{enumerate*}\n",
       "\\item TRUE\n",
       "\\item TRUE\n",
       "\\item TRUE\n",
       "\\item TRUE\n",
       "\\item TRUE\n",
       "\\end{enumerate*}\n"
      ],
      "text/markdown": [
       "1. TRUE\n",
       "2. TRUE\n",
       "3. TRUE\n",
       "4. TRUE\n",
       "5. TRUE\n",
       "\n",
       "\n"
      ],
      "text/plain": [
       "[1] TRUE TRUE TRUE TRUE TRUE"
      ]
     },
     "metadata": {},
     "output_type": "display_data"
    }
   ],
   "source": [
    "1:5 == seq(1,5)"
   ]
  },
  {
   "cell_type": "code",
   "execution_count": 13,
   "metadata": {
    "collapsed": false
   },
   "outputs": [
    {
     "data": {
      "text/html": [
       "<ol class=list-inline>\n",
       "\t<li>FALSE</li>\n",
       "\t<li>FALSE</li>\n",
       "\t<li>FALSE</li>\n",
       "\t<li>FALSE</li>\n",
       "\t<li>FALSE</li>\n",
       "\t<li>FALSE</li>\n",
       "\t<li>FALSE</li>\n",
       "\t<li>TRUE</li>\n",
       "\t<li>TRUE</li>\n",
       "\t<li>TRUE</li>\n",
       "</ol>\n"
      ],
      "text/latex": [
       "\\begin{enumerate*}\n",
       "\\item FALSE\n",
       "\\item FALSE\n",
       "\\item FALSE\n",
       "\\item FALSE\n",
       "\\item FALSE\n",
       "\\item FALSE\n",
       "\\item FALSE\n",
       "\\item TRUE\n",
       "\\item TRUE\n",
       "\\item TRUE\n",
       "\\end{enumerate*}\n"
      ],
      "text/markdown": [
       "1. FALSE\n",
       "2. FALSE\n",
       "3. FALSE\n",
       "4. FALSE\n",
       "5. FALSE\n",
       "6. FALSE\n",
       "7. FALSE\n",
       "8. TRUE\n",
       "9. TRUE\n",
       "10. TRUE\n",
       "\n",
       "\n"
      ],
      "text/plain": [
       " [1] FALSE FALSE FALSE FALSE FALSE FALSE FALSE  TRUE  TRUE  TRUE"
      ]
     },
     "metadata": {},
     "output_type": "display_data"
    }
   ],
   "source": [
    "1:10 > 7"
   ]
  },
  {
   "cell_type": "markdown",
   "metadata": {},
   "source": [
    "We can also do something more fancier, such as random vectors. Will come in handy for sure"
   ]
  },
  {
   "cell_type": "code",
   "execution_count": 5,
   "metadata": {
    "collapsed": false
   },
   "outputs": [
    {
     "data": {
      "text/html": [
       "<ol class=list-inline>\n",
       "\t<li>0.774368490325287</li>\n",
       "\t<li>0.197224191389978</li>\n",
       "\t<li>0.978013844229281</li>\n",
       "\t<li>0.201327350223437</li>\n",
       "\t<li>0.36124442727305</li>\n",
       "\t<li>0.742611942114308</li>\n",
       "\t<li>0.97872843942605</li>\n",
       "\t<li>0.498113709036261</li>\n",
       "\t<li>0.0133158357348293</li>\n",
       "\t<li>0.259946128586307</li>\n",
       "\t<li>0.775893080746755</li>\n",
       "\t<li>0.0163790525402874</li>\n",
       "\t<li>0.0957447842229158</li>\n",
       "\t<li>0.142163540003821</li>\n",
       "\t<li>0.21112623764202</li>\n",
       "\t<li>0.811256443616003</li>\n",
       "\t<li>0.0365471958648413</li>\n",
       "\t<li>0.891637413064018</li>\n",
       "\t<li>0.483236411120743</li>\n",
       "\t<li>0.46666452800855</li>\n",
       "\t<li>0.984224080340937</li>\n",
       "\t<li>0.601345547009259</li>\n",
       "\t<li>0.038344347383827</li>\n",
       "\t<li>0.141495691146702</li>\n",
       "\t<li>0.806385525269434</li>\n",
       "</ol>\n"
      ],
      "text/latex": [
       "\\begin{enumerate*}\n",
       "\\item 0.774368490325287\n",
       "\\item 0.197224191389978\n",
       "\\item 0.978013844229281\n",
       "\\item 0.201327350223437\n",
       "\\item 0.36124442727305\n",
       "\\item 0.742611942114308\n",
       "\\item 0.97872843942605\n",
       "\\item 0.498113709036261\n",
       "\\item 0.0133158357348293\n",
       "\\item 0.259946128586307\n",
       "\\item 0.775893080746755\n",
       "\\item 0.0163790525402874\n",
       "\\item 0.0957447842229158\n",
       "\\item 0.142163540003821\n",
       "\\item 0.21112623764202\n",
       "\\item 0.811256443616003\n",
       "\\item 0.0365471958648413\n",
       "\\item 0.891637413064018\n",
       "\\item 0.483236411120743\n",
       "\\item 0.46666452800855\n",
       "\\item 0.984224080340937\n",
       "\\item 0.601345547009259\n",
       "\\item 0.038344347383827\n",
       "\\item 0.141495691146702\n",
       "\\item 0.806385525269434\n",
       "\\end{enumerate*}\n"
      ],
      "text/markdown": [
       "1. 0.774368490325287\n",
       "2. 0.197224191389978\n",
       "3. 0.978013844229281\n",
       "4. 0.201327350223437\n",
       "5. 0.36124442727305\n",
       "6. 0.742611942114308\n",
       "7. 0.97872843942605\n",
       "8. 0.498113709036261\n",
       "9. 0.0133158357348293\n",
       "10. 0.259946128586307\n",
       "11. 0.775893080746755\n",
       "12. 0.0163790525402874\n",
       "13. 0.0957447842229158\n",
       "14. 0.142163540003821\n",
       "15. 0.21112623764202\n",
       "16. 0.811256443616003\n",
       "17. 0.0365471958648413\n",
       "18. 0.891637413064018\n",
       "19. 0.483236411120743\n",
       "20. 0.46666452800855\n",
       "21. 0.984224080340937\n",
       "22. 0.601345547009259\n",
       "23. 0.038344347383827\n",
       "24. 0.141495691146702\n",
       "25. 0.806385525269434\n",
       "\n",
       "\n"
      ],
      "text/plain": [
       " [1] 0.77436849 0.19722419 0.97801384 0.20132735 0.36124443 0.74261194\n",
       " [7] 0.97872844 0.49811371 0.01331584 0.25994613 0.77589308 0.01637905\n",
       "[13] 0.09574478 0.14216354 0.21112624 0.81125644 0.03654720 0.89163741\n",
       "[19] 0.48323641 0.46666453 0.98422408 0.60134555 0.03834435 0.14149569\n",
       "[25] 0.80638553"
      ]
     },
     "metadata": {},
     "output_type": "display_data"
    }
   ],
   "source": [
    "set.seed(666)\n",
    "uniform_deviations = runif(25)\n",
    "uniform_deviations"
   ]
  },
  {
   "cell_type": "code",
   "execution_count": 6,
   "metadata": {
    "collapsed": false
   },
   "outputs": [
    {
     "data": {
      "text/html": [
       "<ol class=list-inline>\n",
       "\t<li>7</li>\n",
       "\t<li>2</li>\n",
       "\t<li>15</li>\n",
       "\t<li>13</li>\n",
       "\t<li>18</li>\n",
       "\t<li>10</li>\n",
       "\t<li>8</li>\n",
       "\t<li>23</li>\n",
       "\t<li>9</li>\n",
       "\t<li>11</li>\n",
       "\t<li>19</li>\n",
       "\t<li>4</li>\n",
       "\t<li>12</li>\n",
       "\t<li>20</li>\n",
       "\t<li>25</li>\n",
       "\t<li>3</li>\n",
       "\t<li>5</li>\n",
       "\t<li>1</li>\n",
       "\t<li>16</li>\n",
       "\t<li>6</li>\n",
       "\t<li>14</li>\n",
       "\t<li>24</li>\n",
       "\t<li>17</li>\n",
       "\t<li>22</li>\n",
       "\t<li>21</li>\n",
       "</ol>\n"
      ],
      "text/latex": [
       "\\begin{enumerate*}\n",
       "\\item 7\n",
       "\\item 2\n",
       "\\item 15\n",
       "\\item 13\n",
       "\\item 18\n",
       "\\item 10\n",
       "\\item 8\n",
       "\\item 23\n",
       "\\item 9\n",
       "\\item 11\n",
       "\\item 19\n",
       "\\item 4\n",
       "\\item 12\n",
       "\\item 20\n",
       "\\item 25\n",
       "\\item 3\n",
       "\\item 5\n",
       "\\item 1\n",
       "\\item 16\n",
       "\\item 6\n",
       "\\item 14\n",
       "\\item 24\n",
       "\\item 17\n",
       "\\item 22\n",
       "\\item 21\n",
       "\\end{enumerate*}\n"
      ],
      "text/markdown": [
       "1. 7\n",
       "2. 2\n",
       "3. 15\n",
       "4. 13\n",
       "5. 18\n",
       "6. 10\n",
       "7. 8\n",
       "8. 23\n",
       "9. 9\n",
       "10. 11\n",
       "11. 19\n",
       "12. 4\n",
       "13. 12\n",
       "14. 20\n",
       "15. 25\n",
       "16. 3\n",
       "17. 5\n",
       "18. 1\n",
       "19. 16\n",
       "20. 6\n",
       "21. 14\n",
       "22. 24\n",
       "23. 17\n",
       "24. 22\n",
       "25. 21\n",
       "\n",
       "\n"
      ],
      "text/plain": [
       " [1]  7  2 15 13 18 10  8 23  9 11 19  4 12 20 25  3  5  1 16  6 14 24 17 22 21"
      ]
     },
     "metadata": {},
     "output_type": "display_data"
    }
   ],
   "source": [
    "rand1 = sample(c(1:25), 25, rep=F) #cant't repeat\n",
    "rand1"
   ]
  },
  {
   "cell_type": "code",
   "execution_count": 7,
   "metadata": {
    "collapsed": false
   },
   "outputs": [
    {
     "data": {
      "text/html": [
       "<ol class=list-inline>\n",
       "\t<li>2</li>\n",
       "\t<li>3</li>\n",
       "\t<li>4</li>\n",
       "\t<li>19</li>\n",
       "\t<li>1</li>\n",
       "\t<li>18</li>\n",
       "\t<li>4</li>\n",
       "\t<li>23</li>\n",
       "\t<li>3</li>\n",
       "\t<li>1</li>\n",
       "\t<li>20</li>\n",
       "\t<li>21</li>\n",
       "\t<li>7</li>\n",
       "\t<li>17</li>\n",
       "\t<li>24</li>\n",
       "\t<li>7</li>\n",
       "\t<li>7</li>\n",
       "\t<li>23</li>\n",
       "\t<li>15</li>\n",
       "\t<li>23</li>\n",
       "\t<li>16</li>\n",
       "\t<li>9</li>\n",
       "\t<li>17</li>\n",
       "\t<li>22</li>\n",
       "\t<li>2</li>\n",
       "</ol>\n"
      ],
      "text/latex": [
       "\\begin{enumerate*}\n",
       "\\item 2\n",
       "\\item 3\n",
       "\\item 4\n",
       "\\item 19\n",
       "\\item 1\n",
       "\\item 18\n",
       "\\item 4\n",
       "\\item 23\n",
       "\\item 3\n",
       "\\item 1\n",
       "\\item 20\n",
       "\\item 21\n",
       "\\item 7\n",
       "\\item 17\n",
       "\\item 24\n",
       "\\item 7\n",
       "\\item 7\n",
       "\\item 23\n",
       "\\item 15\n",
       "\\item 23\n",
       "\\item 16\n",
       "\\item 9\n",
       "\\item 17\n",
       "\\item 22\n",
       "\\item 2\n",
       "\\end{enumerate*}\n"
      ],
      "text/markdown": [
       "1. 2\n",
       "2. 3\n",
       "3. 4\n",
       "4. 19\n",
       "5. 1\n",
       "6. 18\n",
       "7. 4\n",
       "8. 23\n",
       "9. 3\n",
       "10. 1\n",
       "11. 20\n",
       "12. 21\n",
       "13. 7\n",
       "14. 17\n",
       "15. 24\n",
       "16. 7\n",
       "17. 7\n",
       "18. 23\n",
       "19. 15\n",
       "20. 23\n",
       "21. 16\n",
       "22. 9\n",
       "23. 17\n",
       "24. 22\n",
       "25. 2\n",
       "\n",
       "\n"
      ],
      "text/plain": [
       " [1]  2  3  4 19  1 18  4 23  3  1 20 21  7 17 24  7  7 23 15 23 16  9 17 22  2"
      ]
     },
     "metadata": {},
     "output_type": "display_data"
    }
   ],
   "source": [
    "rand2 = sample(c(1:25), 25, rep=T) #can repeat\n",
    "rand2"
   ]
  },
  {
   "cell_type": "code",
   "execution_count": 10,
   "metadata": {
    "collapsed": false
   },
   "outputs": [],
   "source": [
    "favourite_games = sample(c(\"CS Files\", \"Terra Mystica\", \"Cosmic Encounter\", \"Pandemic\", \"Takenoko\"))\n",
    "favourite_games"
   ]
  },
  {
   "cell_type": "markdown",
   "metadata": {},
   "source": [
    "### Vector access\n",
    "vectors (and matrices) are accessed witht the [] sign - [row, column]/[i, j]. First position is the nth element in vector or nth row in matrix, second number is "
   ]
  },
  {
   "cell_type": "code",
   "execution_count": 2,
   "metadata": {
    "collapsed": false
   },
   "outputs": [
    {
     "data": {
      "text/html": [
       "2"
      ],
      "text/latex": [
       "2"
      ],
      "text/markdown": [
       "2"
      ],
      "text/plain": [
       "[1] 2"
      ]
     },
     "metadata": {},
     "output_type": "display_data"
    },
    {
     "data": {
      "text/html": [
       "\"Takenoko\""
      ],
      "text/latex": [
       "\"Takenoko\""
      ],
      "text/markdown": [
       "\"Takenoko\""
      ],
      "text/plain": [
       "[1] \"Takenoko\""
      ]
     },
     "metadata": {},
     "output_type": "display_data"
    },
    {
     "data": {
      "text/html": [
       "<ol class=list-inline>\n",
       "\t<li>\"Pandemic\"</li>\n",
       "\t<li>\"Takenoko\"</li>\n",
       "\t<li>\"Terra Mystica\"</li>\n",
       "</ol>\n"
      ],
      "text/latex": [
       "\\begin{enumerate*}\n",
       "\\item \"Pandemic\"\n",
       "\\item \"Takenoko\"\n",
       "\\item \"Terra Mystica\"\n",
       "\\end{enumerate*}\n"
      ],
      "text/markdown": [
       "1. \"Pandemic\"\n",
       "2. \"Takenoko\"\n",
       "3. \"Terra Mystica\"\n",
       "\n",
       "\n"
      ],
      "text/plain": [
       "[1] \"Pandemic\"      \"Takenoko\"      \"Terra Mystica\""
      ]
     },
     "metadata": {},
     "output_type": "display_data"
    }
   ],
   "source": [
    "num_vec = 1:5\n",
    "games_vec = sample(c(\"CS Files\", \"Terra Mystica\", \"Cosmic Encounter\", \"Pandemic\", \"Takenoko\"))\n",
    "\n",
    "num_vec[1] * num_vec[2]\n",
    "games_vec[2]\n",
    "games_vec[c(1:3)]"
   ]
  },
  {
   "cell_type": "code",
   "execution_count": 4,
   "metadata": {
    "collapsed": false
   },
   "outputs": [
    {
     "data": {
      "text/html": [
       "5"
      ],
      "text/latex": [
       "5"
      ],
      "text/markdown": [
       "5"
      ],
      "text/plain": [
       "[1] 5"
      ]
     },
     "metadata": {},
     "output_type": "display_data"
    }
   ],
   "source": [
    "num_vec = 1:5\n",
    "games_vec = c(\"CS Files\", \"Terra Mystica\", \"Cosmic Encounter\", \"Pandemic\", \"Takenoko\")\n",
    "games_vec[which(num_vec > 4)]"
   ]
  },
  {
   "cell_type": "markdown",
   "metadata": {},
   "source": [
    "Another very common way to access vectors is through logical vectors.;"
   ]
  },
  {
   "cell_type": "code",
   "execution_count": 17,
   "metadata": {
    "collapsed": false
   },
   "outputs": [
    {
     "data": {
      "text/html": [
       "<ol class=list-inline>\n",
       "\t<li>TRUE</li>\n",
       "\t<li>FALSE</li>\n",
       "\t<li>TRUE</li>\n",
       "\t<li>FALSE</li>\n",
       "\t<li>TRUE</li>\n",
       "\t<li>FALSE</li>\n",
       "\t<li>TRUE</li>\n",
       "\t<li>FALSE</li>\n",
       "\t<li>TRUE</li>\n",
       "\t<li>FALSE</li>\n",
       "</ol>\n"
      ],
      "text/latex": [
       "\\begin{enumerate*}\n",
       "\\item TRUE\n",
       "\\item FALSE\n",
       "\\item TRUE\n",
       "\\item FALSE\n",
       "\\item TRUE\n",
       "\\item FALSE\n",
       "\\item TRUE\n",
       "\\item FALSE\n",
       "\\item TRUE\n",
       "\\item FALSE\n",
       "\\end{enumerate*}\n"
      ],
      "text/markdown": [
       "1. TRUE\n",
       "2. FALSE\n",
       "3. TRUE\n",
       "4. FALSE\n",
       "5. TRUE\n",
       "6. FALSE\n",
       "7. TRUE\n",
       "8. FALSE\n",
       "9. TRUE\n",
       "10. FALSE\n",
       "\n",
       "\n"
      ],
      "text/plain": [
       " [1]  TRUE FALSE  TRUE FALSE  TRUE FALSE  TRUE FALSE  TRUE FALSE"
      ]
     },
     "metadata": {},
     "output_type": "display_data"
    },
    {
     "data": {
      "text/html": [
       "<ol class=list-inline>\n",
       "\t<li>1</li>\n",
       "\t<li>2</li>\n",
       "\t<li>3</li>\n",
       "\t<li>4</li>\n",
       "\t<li>5</li>\n",
       "\t<li>6</li>\n",
       "\t<li>7</li>\n",
       "\t<li>8</li>\n",
       "\t<li>9</li>\n",
       "\t<li>10</li>\n",
       "</ol>\n"
      ],
      "text/latex": [
       "\\begin{enumerate*}\n",
       "\\item 1\n",
       "\\item 2\n",
       "\\item 3\n",
       "\\item 4\n",
       "\\item 5\n",
       "\\item 6\n",
       "\\item 7\n",
       "\\item 8\n",
       "\\item 9\n",
       "\\item 10\n",
       "\\end{enumerate*}\n"
      ],
      "text/markdown": [
       "1. 1\n",
       "2. 2\n",
       "3. 3\n",
       "4. 4\n",
       "5. 5\n",
       "6. 6\n",
       "7. 7\n",
       "8. 8\n",
       "9. 9\n",
       "10. 10\n",
       "\n",
       "\n"
      ],
      "text/plain": [
       " [1]  1  2  3  4  5  6  7  8  9 10"
      ]
     },
     "metadata": {},
     "output_type": "display_data"
    },
    {
     "data": {
      "text/html": [
       "<ol class=list-inline>\n",
       "\t<li>1</li>\n",
       "\t<li>3</li>\n",
       "\t<li>5</li>\n",
       "\t<li>7</li>\n",
       "\t<li>9</li>\n",
       "</ol>\n"
      ],
      "text/latex": [
       "\\begin{enumerate*}\n",
       "\\item 1\n",
       "\\item 3\n",
       "\\item 5\n",
       "\\item 7\n",
       "\\item 9\n",
       "\\end{enumerate*}\n"
      ],
      "text/markdown": [
       "1. 1\n",
       "2. 3\n",
       "3. 5\n",
       "4. 7\n",
       "5. 9\n",
       "\n",
       "\n"
      ],
      "text/plain": [
       "[1] 1 3 5 7 9"
      ]
     },
     "metadata": {},
     "output_type": "display_data"
    }
   ],
   "source": [
    "logical_vec = rep(c(T, F), 5)\n",
    "logical_vec\n",
    "num_vec = 1:10\n",
    "num_vec\n",
    "num_vec[logical_vec]"
   ]
  },
  {
   "cell_type": "markdown",
   "metadata": {},
   "source": [
    "### Vector math\n",
    "You can do easy vector math just like in real life."
   ]
  },
  {
   "cell_type": "code",
   "execution_count": null,
   "metadata": {
    "collapsed": true
   },
   "outputs": [],
   "source": [
    "num_vec1 = 1:5\n",
    "num_vec2 = -1:-5\n",
    "num_vec2 + num_vec1"
   ]
  },
  {
   "cell_type": "markdown",
   "metadata": {},
   "source": [
    "What happens when you try to do math with unequal length of vectors?"
   ]
  },
  {
   "cell_type": "markdown",
   "metadata": {},
   "source": [
    "## Practice time\n",
    "Try to solve following problems\n",
    "1. Create a vector of our names and then select one \"winner\" at random.\n",
    "2. Create a vector of numbers from 1 to 99 by two (1 3 5 .. 99) and then select three elements at random.\n",
    "3. Create a random logical vector of length 50 (T F T F F F T F etc.)\n",
    "4. Create a random vector of \"Male\" \"Female\" elements of lenght 50\n",
    "5. Use set.seed function to create vectors 3 and 4 and use them to select only one gender."
   ]
  }
 ],
 "metadata": {
  "kernelspec": {
   "display_name": "R",
   "language": "R",
   "name": "ir"
  },
  "language_info": {
   "codemirror_mode": "r",
   "file_extension": ".r",
   "mimetype": "text/x-r-source",
   "name": "R",
   "pygments_lexer": "r",
   "version": "3.2.3"
  }
 },
 "nbformat": 4,
 "nbformat_minor": 0
}
