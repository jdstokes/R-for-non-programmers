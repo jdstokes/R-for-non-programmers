{
 "cells": [
  {
   "cell_type": "markdown",
   "metadata": {},
   "source": [
    "# Vectors\n",
    "Vectors allow us to store more values inside one. Vactors can be ow only one type. It might seem useless but will be awesome when we get to looping, data.frames simlulations, randomising etc."
   ]
  },
  {
   "cell_type": "code",
   "execution_count": 20,
   "metadata": {
    "collapsed": true
   },
   "outputs": [],
   "source": [
    "str1 = \"I\"\n",
    "str2 = \"am\"\n",
    "str3 = \"great\"\n",
    "num1 = 0\n",
    "num2 = -5\n",
    "num3 = pi\n",
    "\n",
    "string_vec = c(str1, str2, str3)\n",
    "\n",
    "numeric_vec = c(num1, num2, num3)"
   ]
  },
  {
   "cell_type": "markdown",
   "metadata": {},
   "source": [
    "Vectors can be easilly combined"
   ]
  },
  {
   "cell_type": "code",
   "execution_count": 21,
   "metadata": {
    "collapsed": false
   },
   "outputs": [
    {
     "name": "stdout",
     "output_type": "stream",
     "text": [
      "[1]  0.000000 -5.000000  3.141593  0.000000 -5.000000  3.141593\n"
     ]
    }
   ],
   "source": [
    "combined_vec = c(numeric_vec, numeric_vec)\n",
    "print(combined_vec)"
   ]
  },
  {
   "cell_type": "markdown",
   "metadata": {},
   "source": [
    "Remember hoow vectors can only store one TYPE of variabe? So what would happen if we do this?"
   ]
  },
  {
   "cell_type": "code",
   "execution_count": 22,
   "metadata": {
    "collapsed": true
   },
   "outputs": [],
   "source": [
    "combined_vec = c(str1, num2)"
   ]
  },
  {
   "cell_type": "markdown",
   "metadata": {},
   "source": [
    "Well? No ERROR? let's have a look at it"
   ]
  },
  {
   "cell_type": "code",
   "execution_count": 23,
   "metadata": {
    "collapsed": false
   },
   "outputs": [
    {
     "data": {
      "text/html": [
       "<ol class=list-inline>\n",
       "\t<li>'I'</li>\n",
       "\t<li>'-5'</li>\n",
       "</ol>\n"
      ],
      "text/latex": [
       "\\begin{enumerate*}\n",
       "\\item 'I'\n",
       "\\item '-5'\n",
       "\\end{enumerate*}\n"
      ],
      "text/markdown": [
       "1. 'I'\n",
       "2. '-5'\n",
       "\n",
       "\n"
      ],
      "text/plain": [
       "[1] \"I\"  \"-5\""
      ]
     },
     "metadata": {},
     "output_type": "display_data"
    },
    {
     "data": {
      "text/html": [
       "'character'"
      ],
      "text/latex": [
       "'character'"
      ],
      "text/markdown": [
       "'character'"
      ],
      "text/plain": [
       "[1] \"character\""
      ]
     },
     "metadata": {},
     "output_type": "display_data"
    }
   ],
   "source": [
    "combined_vec\n",
    "class(combined_vec)"
   ]
  },
  {
   "cell_type": "markdown",
   "metadata": {},
   "source": [
    "### Vector creation\n",
    "There are many ways how to create vectors. Below are some of the most common one."
   ]
  },
  {
   "cell_type": "markdown",
   "metadata": {},
   "source": [
    "Extremely common way to create integer vectors is the following."
   ]
  },
  {
   "cell_type": "code",
   "execution_count": 24,
   "metadata": {
    "collapsed": false
   },
   "outputs": [
    {
     "data": {
      "text/html": [
       "<ol class=list-inline>\n",
       "\t<li>1</li>\n",
       "\t<li>2</li>\n",
       "\t<li>3</li>\n",
       "\t<li>4</li>\n",
       "\t<li>5</li>\n",
       "</ol>\n"
      ],
      "text/latex": [
       "\\begin{enumerate*}\n",
       "\\item 1\n",
       "\\item 2\n",
       "\\item 3\n",
       "\\item 4\n",
       "\\item 5\n",
       "\\end{enumerate*}\n"
      ],
      "text/markdown": [
       "1. 1\n",
       "2. 2\n",
       "3. 3\n",
       "4. 4\n",
       "5. 5\n",
       "\n",
       "\n"
      ],
      "text/plain": [
       "[1] 1 2 3 4 5"
      ]
     },
     "metadata": {},
     "output_type": "display_data"
    },
    {
     "data": {
      "text/html": [
       "<ol class=list-inline>\n",
       "\t<li>-5</li>\n",
       "\t<li>-6</li>\n",
       "\t<li>-7</li>\n",
       "\t<li>-8</li>\n",
       "\t<li>-9</li>\n",
       "\t<li>-10</li>\n",
       "</ol>\n"
      ],
      "text/latex": [
       "\\begin{enumerate*}\n",
       "\\item -5\n",
       "\\item -6\n",
       "\\item -7\n",
       "\\item -8\n",
       "\\item -9\n",
       "\\item -10\n",
       "\\end{enumerate*}\n"
      ],
      "text/markdown": [
       "1. -5\n",
       "2. -6\n",
       "3. -7\n",
       "4. -8\n",
       "5. -9\n",
       "6. -10\n",
       "\n",
       "\n"
      ],
      "text/plain": [
       "[1]  -5  -6  -7  -8  -9 -10"
      ]
     },
     "metadata": {},
     "output_type": "display_data"
    }
   ],
   "source": [
    "numeric_vec2 = 1:5\n",
    "numeric_vec2\n",
    "numeric_vec3 = -5:-10\n",
    "numeric_vec3"
   ]
  },
  {
   "cell_type": "markdown",
   "metadata": {},
   "source": [
    "We can create simple vectors with the rep function"
   ]
  },
  {
   "cell_type": "code",
   "execution_count": 25,
   "metadata": {
    "collapsed": true
   },
   "outputs": [],
   "source": [
    "all_ones = rep(1, 100)"
   ]
  },
  {
   "cell_type": "markdown",
   "metadata": {},
   "source": [
    "We can also create sequences with the use of seq function."
   ]
  },
  {
   "cell_type": "code",
   "execution_count": 26,
   "metadata": {
    "collapsed": true
   },
   "outputs": [],
   "source": [
    "small_increments = seq(1, 100, by = 0.1)\n",
    "larger_increments = seq(2, 100, length.out = 50)"
   ]
  },
  {
   "cell_type": "markdown",
   "metadata": {},
   "source": [
    "If you want to just increment by one, use the column operator."
   ]
  },
  {
   "cell_type": "markdown",
   "metadata": {},
   "source": [
    "Another way to create vectors is through logical comparison."
   ]
  },
  {
   "cell_type": "code",
   "execution_count": 27,
   "metadata": {
    "collapsed": false
   },
   "outputs": [
    {
     "data": {
      "text/html": [
       "<ol class=list-inline>\n",
       "\t<li>TRUE</li>\n",
       "\t<li>TRUE</li>\n",
       "\t<li>TRUE</li>\n",
       "\t<li>TRUE</li>\n",
       "\t<li>TRUE</li>\n",
       "</ol>\n"
      ],
      "text/latex": [
       "\\begin{enumerate*}\n",
       "\\item TRUE\n",
       "\\item TRUE\n",
       "\\item TRUE\n",
       "\\item TRUE\n",
       "\\item TRUE\n",
       "\\end{enumerate*}\n"
      ],
      "text/markdown": [
       "1. TRUE\n",
       "2. TRUE\n",
       "3. TRUE\n",
       "4. TRUE\n",
       "5. TRUE\n",
       "\n",
       "\n"
      ],
      "text/plain": [
       "[1] TRUE TRUE TRUE TRUE TRUE"
      ]
     },
     "metadata": {},
     "output_type": "display_data"
    }
   ],
   "source": [
    "1:5 == seq(1,5)"
   ]
  },
  {
   "cell_type": "code",
   "execution_count": 28,
   "metadata": {
    "collapsed": false
   },
   "outputs": [
    {
     "data": {
      "text/html": [
       "<ol class=list-inline>\n",
       "\t<li>FALSE</li>\n",
       "\t<li>FALSE</li>\n",
       "\t<li>FALSE</li>\n",
       "\t<li>FALSE</li>\n",
       "\t<li>FALSE</li>\n",
       "\t<li>FALSE</li>\n",
       "\t<li>FALSE</li>\n",
       "\t<li>TRUE</li>\n",
       "\t<li>TRUE</li>\n",
       "\t<li>TRUE</li>\n",
       "</ol>\n"
      ],
      "text/latex": [
       "\\begin{enumerate*}\n",
       "\\item FALSE\n",
       "\\item FALSE\n",
       "\\item FALSE\n",
       "\\item FALSE\n",
       "\\item FALSE\n",
       "\\item FALSE\n",
       "\\item FALSE\n",
       "\\item TRUE\n",
       "\\item TRUE\n",
       "\\item TRUE\n",
       "\\end{enumerate*}\n"
      ],
      "text/markdown": [
       "1. FALSE\n",
       "2. FALSE\n",
       "3. FALSE\n",
       "4. FALSE\n",
       "5. FALSE\n",
       "6. FALSE\n",
       "7. FALSE\n",
       "8. TRUE\n",
       "9. TRUE\n",
       "10. TRUE\n",
       "\n",
       "\n"
      ],
      "text/plain": [
       " [1] FALSE FALSE FALSE FALSE FALSE FALSE FALSE  TRUE  TRUE  TRUE"
      ]
     },
     "metadata": {},
     "output_type": "display_data"
    }
   ],
   "source": [
    "1:10 > 7"
   ]
  },
  {
   "cell_type": "markdown",
   "metadata": {},
   "source": [
    "We can also do something more fancier, such as random vectors. Will come in handy for sure"
   ]
  },
  {
   "cell_type": "code",
   "execution_count": 29,
   "metadata": {
    "collapsed": false
   },
   "outputs": [
    {
     "data": {
      "text/html": [
       "<ol class=list-inline>\n",
       "\t<li>0.774368490325287</li>\n",
       "\t<li>0.197224191389978</li>\n",
       "\t<li>0.978013844229281</li>\n",
       "\t<li>0.201327350223437</li>\n",
       "\t<li>0.36124442727305</li>\n",
       "\t<li>0.742611942114308</li>\n",
       "\t<li>0.97872843942605</li>\n",
       "\t<li>0.498113709036261</li>\n",
       "\t<li>0.0133158357348293</li>\n",
       "\t<li>0.259946128586307</li>\n",
       "\t<li>0.775893080746755</li>\n",
       "\t<li>0.0163790525402874</li>\n",
       "\t<li>0.0957447842229158</li>\n",
       "\t<li>0.142163540003821</li>\n",
       "\t<li>0.21112623764202</li>\n",
       "\t<li>0.811256443616003</li>\n",
       "\t<li>0.0365471958648413</li>\n",
       "\t<li>0.891637413064018</li>\n",
       "\t<li>0.483236411120743</li>\n",
       "\t<li>0.46666452800855</li>\n",
       "\t<li>0.984224080340937</li>\n",
       "\t<li>0.601345547009259</li>\n",
       "\t<li>0.038344347383827</li>\n",
       "\t<li>0.141495691146702</li>\n",
       "\t<li>0.806385525269434</li>\n",
       "</ol>\n"
      ],
      "text/latex": [
       "\\begin{enumerate*}\n",
       "\\item 0.774368490325287\n",
       "\\item 0.197224191389978\n",
       "\\item 0.978013844229281\n",
       "\\item 0.201327350223437\n",
       "\\item 0.36124442727305\n",
       "\\item 0.742611942114308\n",
       "\\item 0.97872843942605\n",
       "\\item 0.498113709036261\n",
       "\\item 0.0133158357348293\n",
       "\\item 0.259946128586307\n",
       "\\item 0.775893080746755\n",
       "\\item 0.0163790525402874\n",
       "\\item 0.0957447842229158\n",
       "\\item 0.142163540003821\n",
       "\\item 0.21112623764202\n",
       "\\item 0.811256443616003\n",
       "\\item 0.0365471958648413\n",
       "\\item 0.891637413064018\n",
       "\\item 0.483236411120743\n",
       "\\item 0.46666452800855\n",
       "\\item 0.984224080340937\n",
       "\\item 0.601345547009259\n",
       "\\item 0.038344347383827\n",
       "\\item 0.141495691146702\n",
       "\\item 0.806385525269434\n",
       "\\end{enumerate*}\n"
      ],
      "text/markdown": [
       "1. 0.774368490325287\n",
       "2. 0.197224191389978\n",
       "3. 0.978013844229281\n",
       "4. 0.201327350223437\n",
       "5. 0.36124442727305\n",
       "6. 0.742611942114308\n",
       "7. 0.97872843942605\n",
       "8. 0.498113709036261\n",
       "9. 0.0133158357348293\n",
       "10. 0.259946128586307\n",
       "11. 0.775893080746755\n",
       "12. 0.0163790525402874\n",
       "13. 0.0957447842229158\n",
       "14. 0.142163540003821\n",
       "15. 0.21112623764202\n",
       "16. 0.811256443616003\n",
       "17. 0.0365471958648413\n",
       "18. 0.891637413064018\n",
       "19. 0.483236411120743\n",
       "20. 0.46666452800855\n",
       "21. 0.984224080340937\n",
       "22. 0.601345547009259\n",
       "23. 0.038344347383827\n",
       "24. 0.141495691146702\n",
       "25. 0.806385525269434\n",
       "\n",
       "\n"
      ],
      "text/plain": [
       " [1] 0.77436849 0.19722419 0.97801384 0.20132735 0.36124443 0.74261194\n",
       " [7] 0.97872844 0.49811371 0.01331584 0.25994613 0.77589308 0.01637905\n",
       "[13] 0.09574478 0.14216354 0.21112624 0.81125644 0.03654720 0.89163741\n",
       "[19] 0.48323641 0.46666453 0.98422408 0.60134555 0.03834435 0.14149569\n",
       "[25] 0.80638553"
      ]
     },
     "metadata": {},
     "output_type": "display_data"
    }
   ],
   "source": [
    "set.seed(666)\n",
    "uniform_deviations = runif(25)\n",
    "uniform_deviations"
   ]
  },
  {
   "cell_type": "code",
   "execution_count": 30,
   "metadata": {
    "collapsed": false
   },
   "outputs": [
    {
     "data": {
      "text/html": [
       "<ol class=list-inline>\n",
       "\t<li>7</li>\n",
       "\t<li>2</li>\n",
       "\t<li>15</li>\n",
       "\t<li>13</li>\n",
       "\t<li>18</li>\n",
       "\t<li>10</li>\n",
       "\t<li>8</li>\n",
       "\t<li>23</li>\n",
       "\t<li>9</li>\n",
       "\t<li>11</li>\n",
       "\t<li>19</li>\n",
       "\t<li>4</li>\n",
       "\t<li>12</li>\n",
       "\t<li>20</li>\n",
       "\t<li>25</li>\n",
       "\t<li>3</li>\n",
       "\t<li>5</li>\n",
       "\t<li>1</li>\n",
       "\t<li>16</li>\n",
       "\t<li>6</li>\n",
       "\t<li>14</li>\n",
       "\t<li>24</li>\n",
       "\t<li>17</li>\n",
       "\t<li>22</li>\n",
       "\t<li>21</li>\n",
       "</ol>\n"
      ],
      "text/latex": [
       "\\begin{enumerate*}\n",
       "\\item 7\n",
       "\\item 2\n",
       "\\item 15\n",
       "\\item 13\n",
       "\\item 18\n",
       "\\item 10\n",
       "\\item 8\n",
       "\\item 23\n",
       "\\item 9\n",
       "\\item 11\n",
       "\\item 19\n",
       "\\item 4\n",
       "\\item 12\n",
       "\\item 20\n",
       "\\item 25\n",
       "\\item 3\n",
       "\\item 5\n",
       "\\item 1\n",
       "\\item 16\n",
       "\\item 6\n",
       "\\item 14\n",
       "\\item 24\n",
       "\\item 17\n",
       "\\item 22\n",
       "\\item 21\n",
       "\\end{enumerate*}\n"
      ],
      "text/markdown": [
       "1. 7\n",
       "2. 2\n",
       "3. 15\n",
       "4. 13\n",
       "5. 18\n",
       "6. 10\n",
       "7. 8\n",
       "8. 23\n",
       "9. 9\n",
       "10. 11\n",
       "11. 19\n",
       "12. 4\n",
       "13. 12\n",
       "14. 20\n",
       "15. 25\n",
       "16. 3\n",
       "17. 5\n",
       "18. 1\n",
       "19. 16\n",
       "20. 6\n",
       "21. 14\n",
       "22. 24\n",
       "23. 17\n",
       "24. 22\n",
       "25. 21\n",
       "\n",
       "\n"
      ],
      "text/plain": [
       " [1]  7  2 15 13 18 10  8 23  9 11 19  4 12 20 25  3  5  1 16  6 14 24 17 22 21"
      ]
     },
     "metadata": {},
     "output_type": "display_data"
    }
   ],
   "source": [
    "rand1 = sample(c(1:25), 25, rep=F) #cant't repeat\n",
    "rand1"
   ]
  },
  {
   "cell_type": "code",
   "execution_count": 31,
   "metadata": {
    "collapsed": false
   },
   "outputs": [
    {
     "data": {
      "text/html": [
       "<ol class=list-inline>\n",
       "\t<li>2</li>\n",
       "\t<li>3</li>\n",
       "\t<li>4</li>\n",
       "\t<li>19</li>\n",
       "\t<li>1</li>\n",
       "\t<li>18</li>\n",
       "\t<li>4</li>\n",
       "\t<li>23</li>\n",
       "\t<li>3</li>\n",
       "\t<li>1</li>\n",
       "\t<li>20</li>\n",
       "\t<li>21</li>\n",
       "\t<li>7</li>\n",
       "\t<li>17</li>\n",
       "\t<li>24</li>\n",
       "\t<li>7</li>\n",
       "\t<li>7</li>\n",
       "\t<li>23</li>\n",
       "\t<li>15</li>\n",
       "\t<li>23</li>\n",
       "\t<li>16</li>\n",
       "\t<li>9</li>\n",
       "\t<li>17</li>\n",
       "\t<li>22</li>\n",
       "\t<li>2</li>\n",
       "</ol>\n"
      ],
      "text/latex": [
       "\\begin{enumerate*}\n",
       "\\item 2\n",
       "\\item 3\n",
       "\\item 4\n",
       "\\item 19\n",
       "\\item 1\n",
       "\\item 18\n",
       "\\item 4\n",
       "\\item 23\n",
       "\\item 3\n",
       "\\item 1\n",
       "\\item 20\n",
       "\\item 21\n",
       "\\item 7\n",
       "\\item 17\n",
       "\\item 24\n",
       "\\item 7\n",
       "\\item 7\n",
       "\\item 23\n",
       "\\item 15\n",
       "\\item 23\n",
       "\\item 16\n",
       "\\item 9\n",
       "\\item 17\n",
       "\\item 22\n",
       "\\item 2\n",
       "\\end{enumerate*}\n"
      ],
      "text/markdown": [
       "1. 2\n",
       "2. 3\n",
       "3. 4\n",
       "4. 19\n",
       "5. 1\n",
       "6. 18\n",
       "7. 4\n",
       "8. 23\n",
       "9. 3\n",
       "10. 1\n",
       "11. 20\n",
       "12. 21\n",
       "13. 7\n",
       "14. 17\n",
       "15. 24\n",
       "16. 7\n",
       "17. 7\n",
       "18. 23\n",
       "19. 15\n",
       "20. 23\n",
       "21. 16\n",
       "22. 9\n",
       "23. 17\n",
       "24. 22\n",
       "25. 2\n",
       "\n",
       "\n"
      ],
      "text/plain": [
       " [1]  2  3  4 19  1 18  4 23  3  1 20 21  7 17 24  7  7 23 15 23 16  9 17 22  2"
      ]
     },
     "metadata": {},
     "output_type": "display_data"
    }
   ],
   "source": [
    "rand2 = sample(c(1:25), 25, rep=T) #can repeat\n",
    "rand2"
   ]
  },
  {
   "cell_type": "code",
   "execution_count": 32,
   "metadata": {
    "collapsed": false
   },
   "outputs": [
    {
     "data": {
      "text/html": [
       "<ol class=list-inline>\n",
       "\t<li>'Pandemic'</li>\n",
       "\t<li>'Cosmic Encounter'</li>\n",
       "\t<li>'CS Files'</li>\n",
       "\t<li>'Terra Mystica'</li>\n",
       "\t<li>'Takenoko'</li>\n",
       "</ol>\n"
      ],
      "text/latex": [
       "\\begin{enumerate*}\n",
       "\\item 'Pandemic'\n",
       "\\item 'Cosmic Encounter'\n",
       "\\item 'CS Files'\n",
       "\\item 'Terra Mystica'\n",
       "\\item 'Takenoko'\n",
       "\\end{enumerate*}\n"
      ],
      "text/markdown": [
       "1. 'Pandemic'\n",
       "2. 'Cosmic Encounter'\n",
       "3. 'CS Files'\n",
       "4. 'Terra Mystica'\n",
       "5. 'Takenoko'\n",
       "\n",
       "\n"
      ],
      "text/plain": [
       "[1] \"Pandemic\"         \"Cosmic Encounter\" \"CS Files\"         \"Terra Mystica\"   \n",
       "[5] \"Takenoko\"        "
      ]
     },
     "metadata": {},
     "output_type": "display_data"
    }
   ],
   "source": [
    "favourite_games = sample(c(\"CS Files\", \"Terra Mystica\", \"Cosmic Encounter\", \"Pandemic\", \"Takenoko\"))\n",
    "favourite_games"
   ]
  },
  {
   "cell_type": "markdown",
   "metadata": {},
   "source": [
    "### Vector access\n",
    "vectors (and matrices) are accessed witht the [] sign - [row, column]/[i, j]. First position is the nth element in vector or nth row in matrix, second number is "
   ]
  },
  {
   "cell_type": "code",
   "execution_count": 33,
   "metadata": {
    "collapsed": false
   },
   "outputs": [
    {
     "data": {
      "text/html": [
       "2"
      ],
      "text/latex": [
       "2"
      ],
      "text/markdown": [
       "2"
      ],
      "text/plain": [
       "[1] 2"
      ]
     },
     "metadata": {},
     "output_type": "display_data"
    },
    {
     "data": {
      "text/html": [
       "'Takenoko'"
      ],
      "text/latex": [
       "'Takenoko'"
      ],
      "text/markdown": [
       "'Takenoko'"
      ],
      "text/plain": [
       "[1] \"Takenoko\""
      ]
     },
     "metadata": {},
     "output_type": "display_data"
    },
    {
     "data": {
      "text/html": [
       "<ol class=list-inline>\n",
       "\t<li>'Pandemic'</li>\n",
       "\t<li>'Takenoko'</li>\n",
       "\t<li>'CS Files'</li>\n",
       "</ol>\n"
      ],
      "text/latex": [
       "\\begin{enumerate*}\n",
       "\\item 'Pandemic'\n",
       "\\item 'Takenoko'\n",
       "\\item 'CS Files'\n",
       "\\end{enumerate*}\n"
      ],
      "text/markdown": [
       "1. 'Pandemic'\n",
       "2. 'Takenoko'\n",
       "3. 'CS Files'\n",
       "\n",
       "\n"
      ],
      "text/plain": [
       "[1] \"Pandemic\" \"Takenoko\" \"CS Files\""
      ]
     },
     "metadata": {},
     "output_type": "display_data"
    }
   ],
   "source": [
    "num_vec = 1:5\n",
    "games_vec = sample(c(\"CS Files\", \"Terra Mystica\", \"Cosmic Encounter\", \"Pandemic\", \"Takenoko\"))\n",
    "\n",
    "num_vec[1] * num_vec[2]\n",
    "games_vec[2]\n",
    "games_vec[c(1:3)]"
   ]
  },
  {
   "cell_type": "code",
   "execution_count": 34,
   "metadata": {
    "collapsed": false
   },
   "outputs": [
    {
     "data": {
      "text/html": [
       "'Takenoko'"
      ],
      "text/latex": [
       "'Takenoko'"
      ],
      "text/markdown": [
       "'Takenoko'"
      ],
      "text/plain": [
       "[1] \"Takenoko\""
      ]
     },
     "metadata": {},
     "output_type": "display_data"
    }
   ],
   "source": [
    "num_vec = 1:5\n",
    "games_vec = c(\"CS Files\", \"Terra Mystica\", \"Cosmic Encounter\", \"Pandemic\", \"Takenoko\")\n",
    "games_vec[which(num_vec > 4)]"
   ]
  },
  {
   "cell_type": "markdown",
   "metadata": {},
   "source": [
    "Another very common way to access vectors is through logical vectors.;"
   ]
  },
  {
   "cell_type": "code",
   "execution_count": 35,
   "metadata": {
    "collapsed": false,
    "scrolled": true
   },
   "outputs": [
    {
     "data": {
      "text/html": [
       "<ol class=list-inline>\n",
       "\t<li>TRUE</li>\n",
       "\t<li>FALSE</li>\n",
       "\t<li>TRUE</li>\n",
       "\t<li>FALSE</li>\n",
       "\t<li>TRUE</li>\n",
       "\t<li>FALSE</li>\n",
       "\t<li>TRUE</li>\n",
       "\t<li>FALSE</li>\n",
       "\t<li>TRUE</li>\n",
       "\t<li>FALSE</li>\n",
       "</ol>\n"
      ],
      "text/latex": [
       "\\begin{enumerate*}\n",
       "\\item TRUE\n",
       "\\item FALSE\n",
       "\\item TRUE\n",
       "\\item FALSE\n",
       "\\item TRUE\n",
       "\\item FALSE\n",
       "\\item TRUE\n",
       "\\item FALSE\n",
       "\\item TRUE\n",
       "\\item FALSE\n",
       "\\end{enumerate*}\n"
      ],
      "text/markdown": [
       "1. TRUE\n",
       "2. FALSE\n",
       "3. TRUE\n",
       "4. FALSE\n",
       "5. TRUE\n",
       "6. FALSE\n",
       "7. TRUE\n",
       "8. FALSE\n",
       "9. TRUE\n",
       "10. FALSE\n",
       "\n",
       "\n"
      ],
      "text/plain": [
       " [1]  TRUE FALSE  TRUE FALSE  TRUE FALSE  TRUE FALSE  TRUE FALSE"
      ]
     },
     "metadata": {},
     "output_type": "display_data"
    },
    {
     "data": {
      "text/html": [
       "<ol class=list-inline>\n",
       "\t<li>1</li>\n",
       "\t<li>2</li>\n",
       "\t<li>3</li>\n",
       "\t<li>4</li>\n",
       "\t<li>5</li>\n",
       "\t<li>6</li>\n",
       "\t<li>7</li>\n",
       "\t<li>8</li>\n",
       "\t<li>9</li>\n",
       "\t<li>10</li>\n",
       "</ol>\n"
      ],
      "text/latex": [
       "\\begin{enumerate*}\n",
       "\\item 1\n",
       "\\item 2\n",
       "\\item 3\n",
       "\\item 4\n",
       "\\item 5\n",
       "\\item 6\n",
       "\\item 7\n",
       "\\item 8\n",
       "\\item 9\n",
       "\\item 10\n",
       "\\end{enumerate*}\n"
      ],
      "text/markdown": [
       "1. 1\n",
       "2. 2\n",
       "3. 3\n",
       "4. 4\n",
       "5. 5\n",
       "6. 6\n",
       "7. 7\n",
       "8. 8\n",
       "9. 9\n",
       "10. 10\n",
       "\n",
       "\n"
      ],
      "text/plain": [
       " [1]  1  2  3  4  5  6  7  8  9 10"
      ]
     },
     "metadata": {},
     "output_type": "display_data"
    },
    {
     "data": {
      "text/html": [
       "<ol class=list-inline>\n",
       "\t<li>1</li>\n",
       "\t<li>3</li>\n",
       "\t<li>5</li>\n",
       "\t<li>7</li>\n",
       "\t<li>9</li>\n",
       "</ol>\n"
      ],
      "text/latex": [
       "\\begin{enumerate*}\n",
       "\\item 1\n",
       "\\item 3\n",
       "\\item 5\n",
       "\\item 7\n",
       "\\item 9\n",
       "\\end{enumerate*}\n"
      ],
      "text/markdown": [
       "1. 1\n",
       "2. 3\n",
       "3. 5\n",
       "4. 7\n",
       "5. 9\n",
       "\n",
       "\n"
      ],
      "text/plain": [
       "[1] 1 3 5 7 9"
      ]
     },
     "metadata": {},
     "output_type": "display_data"
    }
   ],
   "source": [
    "logical_vec = rep(c(T, F), 5)\n",
    "logical_vec\n",
    "num_vec = 1:10\n",
    "num_vec\n",
    "num_vec[logical_vec]"
   ]
  },
  {
   "cell_type": "markdown",
   "metadata": {},
   "source": [
    "We can also exclude elements from vectors by using - sign"
   ]
  },
  {
   "cell_type": "code",
   "execution_count": 36,
   "metadata": {
    "collapsed": false,
    "scrolled": true
   },
   "outputs": [
    {
     "data": {
      "text/html": [
       "<ol class=list-inline>\n",
       "\t<li>'Sansa'</li>\n",
       "\t<li>'Hodor'</li>\n",
       "\t<li>'Arya'</li>\n",
       "\t<li>'Ned'</li>\n",
       "\t<li>'Bran'</li>\n",
       "\t<li>'Rickon'</li>\n",
       "</ol>\n"
      ],
      "text/latex": [
       "\\begin{enumerate*}\n",
       "\\item 'Sansa'\n",
       "\\item 'Hodor'\n",
       "\\item 'Arya'\n",
       "\\item 'Ned'\n",
       "\\item 'Bran'\n",
       "\\item 'Rickon'\n",
       "\\end{enumerate*}\n"
      ],
      "text/markdown": [
       "1. 'Sansa'\n",
       "2. 'Hodor'\n",
       "3. 'Arya'\n",
       "4. 'Ned'\n",
       "5. 'Bran'\n",
       "6. 'Rickon'\n",
       "\n",
       "\n"
      ],
      "text/plain": [
       "[1] \"Sansa\"  \"Hodor\"  \"Arya\"   \"Ned\"    \"Bran\"   \"Rickon\""
      ]
     },
     "metadata": {},
     "output_type": "display_data"
    },
    {
     "data": {
      "text/html": [
       "<ol class=list-inline>\n",
       "\t<li>'Arya'</li>\n",
       "\t<li>'Ned'</li>\n",
       "\t<li>'Bran'</li>\n",
       "</ol>\n"
      ],
      "text/latex": [
       "\\begin{enumerate*}\n",
       "\\item 'Arya'\n",
       "\\item 'Ned'\n",
       "\\item 'Bran'\n",
       "\\end{enumerate*}\n"
      ],
      "text/markdown": [
       "1. 'Arya'\n",
       "2. 'Ned'\n",
       "3. 'Bran'\n",
       "\n",
       "\n"
      ],
      "text/plain": [
       "[1] \"Arya\" \"Ned\"  \"Bran\""
      ]
     },
     "metadata": {},
     "output_type": "display_data"
    }
   ],
   "source": [
    "game_of_dead_people = c(\"Jon\", \"Sansa\", \"Hodor\", \"Arya\", \"Ned\", \"Bran\", \"Rickon\")\n",
    "game_of_dead_people[-1]\n",
    "game_of_dead_people[-c(1:3, 7)]"
   ]
  },
  {
   "cell_type": "markdown",
   "metadata": {},
   "source": [
    "### Vector subsetting \n",
    "we can easily subset vectors by numbers, but what if we want to remove Bran from it but don't know which element it is?"
   ]
  },
  {
   "cell_type": "markdown",
   "metadata": {},
   "source": [
    "We can easily use which function"
   ]
  },
  {
   "cell_type": "code",
   "execution_count": 37,
   "metadata": {
    "collapsed": false,
    "scrolled": true
   },
   "outputs": [
    {
     "data": {
      "text/html": [
       "6"
      ],
      "text/latex": [
       "6"
      ],
      "text/markdown": [
       "6"
      ],
      "text/plain": [
       "[1] 6"
      ]
     },
     "metadata": {},
     "output_type": "display_data"
    },
    {
     "data": {
      "text/html": [
       "'Bran'"
      ],
      "text/latex": [
       "'Bran'"
      ],
      "text/markdown": [
       "'Bran'"
      ],
      "text/plain": [
       "[1] \"Bran\""
      ]
     },
     "metadata": {},
     "output_type": "display_data"
    }
   ],
   "source": [
    "game_of_dead_people = c(\"Jon\", \"Sansa\", \"Hodor\", \"Arya\", \"Ned\", \"Bran\", \"Rickon\")\n",
    "bran_idx = which(game_of_dead_people == \"Bran\")\n",
    "bran_idx\n",
    "game_of_dead_people[bran_idx]"
   ]
  },
  {
   "cell_type": "code",
   "execution_count": 38,
   "metadata": {
    "collapsed": false
   },
   "outputs": [
    {
     "data": {
      "text/html": [
       "<ol class=list-inline>\n",
       "\t<li>1</li>\n",
       "\t<li>2</li>\n",
       "\t<li>3</li>\n",
       "\t<li>4</li>\n",
       "\t<li>5</li>\n",
       "\t<li>7</li>\n",
       "</ol>\n"
      ],
      "text/latex": [
       "\\begin{enumerate*}\n",
       "\\item 1\n",
       "\\item 2\n",
       "\\item 3\n",
       "\\item 4\n",
       "\\item 5\n",
       "\\item 7\n",
       "\\end{enumerate*}\n"
      ],
      "text/markdown": [
       "1. 1\n",
       "2. 2\n",
       "3. 3\n",
       "4. 4\n",
       "5. 5\n",
       "6. 7\n",
       "\n",
       "\n"
      ],
      "text/plain": [
       "[1] 1 2 3 4 5 7"
      ]
     },
     "metadata": {},
     "output_type": "display_data"
    },
    {
     "data": {
      "text/html": [
       "<ol class=list-inline>\n",
       "\t<li>'Jon'</li>\n",
       "\t<li>'Sansa'</li>\n",
       "\t<li>'Hodor'</li>\n",
       "\t<li>'Arya'</li>\n",
       "\t<li>'Ned'</li>\n",
       "\t<li>'Rickon'</li>\n",
       "</ol>\n"
      ],
      "text/latex": [
       "\\begin{enumerate*}\n",
       "\\item 'Jon'\n",
       "\\item 'Sansa'\n",
       "\\item 'Hodor'\n",
       "\\item 'Arya'\n",
       "\\item 'Ned'\n",
       "\\item 'Rickon'\n",
       "\\end{enumerate*}\n"
      ],
      "text/markdown": [
       "1. 'Jon'\n",
       "2. 'Sansa'\n",
       "3. 'Hodor'\n",
       "4. 'Arya'\n",
       "5. 'Ned'\n",
       "6. 'Rickon'\n",
       "\n",
       "\n"
      ],
      "text/plain": [
       "[1] \"Jon\"    \"Sansa\"  \"Hodor\"  \"Arya\"   \"Ned\"    \"Rickon\""
      ]
     },
     "metadata": {},
     "output_type": "display_data"
    }
   ],
   "source": [
    "game_of_dead_people = c(\"Jon\", \"Sansa\", \"Hodor\", \"Arya\", \"Ned\", \"Bran\", \"Rickon\")\n",
    "non_bran_idx = which(game_of_dead_people != \"Bran\")\n",
    "non_bran_idx\n",
    "game_of_dead_people[non_bran_idx]"
   ]
  },
  {
   "cell_type": "code",
   "execution_count": 39,
   "metadata": {
    "collapsed": false,
    "scrolled": true
   },
   "outputs": [
    {
     "data": {
      "text/html": [
       "<ol class=list-inline>\n",
       "\t<li>'Jon'</li>\n",
       "\t<li>'Arya'</li>\n",
       "\t<li>'Ned'</li>\n",
       "</ol>\n"
      ],
      "text/latex": [
       "\\begin{enumerate*}\n",
       "\\item 'Jon'\n",
       "\\item 'Arya'\n",
       "\\item 'Ned'\n",
       "\\end{enumerate*}\n"
      ],
      "text/markdown": [
       "1. 'Jon'\n",
       "2. 'Arya'\n",
       "3. 'Ned'\n",
       "\n",
       "\n"
      ],
      "text/plain": [
       "[1] \"Jon\"  \"Arya\" \"Ned\" "
      ]
     },
     "metadata": {},
     "output_type": "display_data"
    },
    {
     "data": {
      "text/html": [
       "<ol class=list-inline>\n",
       "\t<li>'Sansa'</li>\n",
       "\t<li>'Hodor'</li>\n",
       "\t<li>'Bran'</li>\n",
       "\t<li>'Rickon'</li>\n",
       "</ol>\n"
      ],
      "text/latex": [
       "\\begin{enumerate*}\n",
       "\\item 'Sansa'\n",
       "\\item 'Hodor'\n",
       "\\item 'Bran'\n",
       "\\item 'Rickon'\n",
       "\\end{enumerate*}\n"
      ],
      "text/markdown": [
       "1. 'Sansa'\n",
       "2. 'Hodor'\n",
       "3. 'Bran'\n",
       "4. 'Rickon'\n",
       "\n",
       "\n"
      ],
      "text/plain": [
       "[1] \"Sansa\"  \"Hodor\"  \"Bran\"   \"Rickon\""
      ]
     },
     "metadata": {},
     "output_type": "display_data"
    }
   ],
   "source": [
    "game_of_dead_people = c(\"Jon\", \"Sansa\", \"Hodor\", \"Arya\", \"Ned\", \"Bran\", \"Rickon\")\n",
    "cool_dudes = c(\"Jon\", \"Arya\", \"Ned\")\n",
    "cool_idx = which(game_of_dead_people %in% cool_dudes)\n",
    "uncool_idx = which(!(game_of_dead_people %in% cool_dudes))\n",
    "game_of_dead_people[cool_idx]\n",
    "game_of_dead_people[uncool_idx]"
   ]
  },
  {
   "cell_type": "markdown",
   "metadata": {},
   "source": [
    "And the other, more common way, is to use logical vectors. It works very similary, just drops the function which."
   ]
  },
  {
   "cell_type": "code",
   "execution_count": 40,
   "metadata": {
    "collapsed": false
   },
   "outputs": [
    {
     "data": {
      "text/html": [
       "<ol class=list-inline>\n",
       "\t<li>FALSE</li>\n",
       "\t<li>FALSE</li>\n",
       "\t<li>FALSE</li>\n",
       "\t<li>FALSE</li>\n",
       "\t<li>FALSE</li>\n",
       "\t<li>TRUE</li>\n",
       "\t<li>FALSE</li>\n",
       "</ol>\n"
      ],
      "text/latex": [
       "\\begin{enumerate*}\n",
       "\\item FALSE\n",
       "\\item FALSE\n",
       "\\item FALSE\n",
       "\\item FALSE\n",
       "\\item FALSE\n",
       "\\item TRUE\n",
       "\\item FALSE\n",
       "\\end{enumerate*}\n"
      ],
      "text/markdown": [
       "1. FALSE\n",
       "2. FALSE\n",
       "3. FALSE\n",
       "4. FALSE\n",
       "5. FALSE\n",
       "6. TRUE\n",
       "7. FALSE\n",
       "\n",
       "\n"
      ],
      "text/plain": [
       "[1] FALSE FALSE FALSE FALSE FALSE  TRUE FALSE"
      ]
     },
     "metadata": {},
     "output_type": "display_data"
    },
    {
     "data": {
      "text/html": [
       "'Bran'"
      ],
      "text/latex": [
       "'Bran'"
      ],
      "text/markdown": [
       "'Bran'"
      ],
      "text/plain": [
       "[1] \"Bran\""
      ]
     },
     "metadata": {},
     "output_type": "display_data"
    }
   ],
   "source": [
    "game_of_dead_people = c(\"Jon\", \"Sansa\", \"Hodor\", \"Arya\", \"Ned\", \"Bran\", \"Rickon\")\n",
    "bran_idx = game_of_dead_people == \"Bran\"\n",
    "bran_idx\n",
    "game_of_dead_people[bran_idx]"
   ]
  },
  {
   "cell_type": "code",
   "execution_count": 41,
   "metadata": {
    "collapsed": false
   },
   "outputs": [
    {
     "data": {
      "text/html": [
       "<ol class=list-inline>\n",
       "\t<li>TRUE</li>\n",
       "\t<li>FALSE</li>\n",
       "\t<li>FALSE</li>\n",
       "\t<li>TRUE</li>\n",
       "\t<li>TRUE</li>\n",
       "\t<li>FALSE</li>\n",
       "\t<li>FALSE</li>\n",
       "</ol>\n"
      ],
      "text/latex": [
       "\\begin{enumerate*}\n",
       "\\item TRUE\n",
       "\\item FALSE\n",
       "\\item FALSE\n",
       "\\item TRUE\n",
       "\\item TRUE\n",
       "\\item FALSE\n",
       "\\item FALSE\n",
       "\\end{enumerate*}\n"
      ],
      "text/markdown": [
       "1. TRUE\n",
       "2. FALSE\n",
       "3. FALSE\n",
       "4. TRUE\n",
       "5. TRUE\n",
       "6. FALSE\n",
       "7. FALSE\n",
       "\n",
       "\n"
      ],
      "text/plain": [
       "[1]  TRUE FALSE FALSE  TRUE  TRUE FALSE FALSE"
      ]
     },
     "metadata": {},
     "output_type": "display_data"
    },
    {
     "data": {
      "text/html": [
       "<ol class=list-inline>\n",
       "\t<li>FALSE</li>\n",
       "\t<li>TRUE</li>\n",
       "\t<li>TRUE</li>\n",
       "\t<li>FALSE</li>\n",
       "\t<li>FALSE</li>\n",
       "\t<li>TRUE</li>\n",
       "\t<li>TRUE</li>\n",
       "</ol>\n"
      ],
      "text/latex": [
       "\\begin{enumerate*}\n",
       "\\item FALSE\n",
       "\\item TRUE\n",
       "\\item TRUE\n",
       "\\item FALSE\n",
       "\\item FALSE\n",
       "\\item TRUE\n",
       "\\item TRUE\n",
       "\\end{enumerate*}\n"
      ],
      "text/markdown": [
       "1. FALSE\n",
       "2. TRUE\n",
       "3. TRUE\n",
       "4. FALSE\n",
       "5. FALSE\n",
       "6. TRUE\n",
       "7. TRUE\n",
       "\n",
       "\n"
      ],
      "text/plain": [
       "[1] FALSE  TRUE  TRUE FALSE FALSE  TRUE  TRUE"
      ]
     },
     "metadata": {},
     "output_type": "display_data"
    },
    {
     "data": {
      "text/html": [
       "<ol class=list-inline>\n",
       "\t<li>'Jon'</li>\n",
       "\t<li>'Arya'</li>\n",
       "\t<li>'Ned'</li>\n",
       "</ol>\n"
      ],
      "text/latex": [
       "\\begin{enumerate*}\n",
       "\\item 'Jon'\n",
       "\\item 'Arya'\n",
       "\\item 'Ned'\n",
       "\\end{enumerate*}\n"
      ],
      "text/markdown": [
       "1. 'Jon'\n",
       "2. 'Arya'\n",
       "3. 'Ned'\n",
       "\n",
       "\n"
      ],
      "text/plain": [
       "[1] \"Jon\"  \"Arya\" \"Ned\" "
      ]
     },
     "metadata": {},
     "output_type": "display_data"
    },
    {
     "data": {
      "text/html": [
       "<ol class=list-inline>\n",
       "\t<li>'Sansa'</li>\n",
       "\t<li>'Hodor'</li>\n",
       "\t<li>'Bran'</li>\n",
       "\t<li>'Rickon'</li>\n",
       "</ol>\n"
      ],
      "text/latex": [
       "\\begin{enumerate*}\n",
       "\\item 'Sansa'\n",
       "\\item 'Hodor'\n",
       "\\item 'Bran'\n",
       "\\item 'Rickon'\n",
       "\\end{enumerate*}\n"
      ],
      "text/markdown": [
       "1. 'Sansa'\n",
       "2. 'Hodor'\n",
       "3. 'Bran'\n",
       "4. 'Rickon'\n",
       "\n",
       "\n"
      ],
      "text/plain": [
       "[1] \"Sansa\"  \"Hodor\"  \"Bran\"   \"Rickon\""
      ]
     },
     "metadata": {},
     "output_type": "display_data"
    }
   ],
   "source": [
    "game_of_dead_people = c(\"Jon\", \"Sansa\", \"Hodor\", \"Arya\", \"Ned\", \"Bran\", \"Rickon\")\n",
    "cool_dudes = c(\"Jon\", \"Arya\", \"Ned\")\n",
    "cool_idx = game_of_dead_people %in% cool_dudes\n",
    "uncool_idx = !(game_of_dead_people %in% cool_dudes)\n",
    "cool_idx\n",
    "uncool_idx\n",
    "game_of_dead_people[cool_idx]\n",
    "game_of_dead_people[uncool_idx]"
   ]
  },
  {
   "cell_type": "markdown",
   "metadata": {},
   "source": [
    "### Vector math\n",
    "You can do easy vector math just like in real life."
   ]
  },
  {
   "cell_type": "code",
   "execution_count": 42,
   "metadata": {
    "collapsed": false,
    "scrolled": true
   },
   "outputs": [
    {
     "data": {
      "text/html": [
       "<ol class=list-inline>\n",
       "\t<li>0</li>\n",
       "\t<li>0</li>\n",
       "\t<li>0</li>\n",
       "\t<li>0</li>\n",
       "\t<li>0</li>\n",
       "</ol>\n"
      ],
      "text/latex": [
       "\\begin{enumerate*}\n",
       "\\item 0\n",
       "\\item 0\n",
       "\\item 0\n",
       "\\item 0\n",
       "\\item 0\n",
       "\\end{enumerate*}\n"
      ],
      "text/markdown": [
       "1. 0\n",
       "2. 0\n",
       "3. 0\n",
       "4. 0\n",
       "5. 0\n",
       "\n",
       "\n"
      ],
      "text/plain": [
       "[1] 0 0 0 0 0"
      ]
     },
     "metadata": {},
     "output_type": "display_data"
    }
   ],
   "source": [
    "num_vec1 = 1:5\n",
    "num_vec2 = -1:-5\n",
    "num_vec2 + num_vec1"
   ]
  },
  {
   "cell_type": "code",
   "execution_count": 44,
   "metadata": {
    "collapsed": false
   },
   "outputs": [
    {
     "data": {
      "text/html": [
       "<ol class=list-inline>\n",
       "\t<li>42</li>\n",
       "\t<li>68</li>\n",
       "\t<li>80</li>\n",
       "\t<li>89</li>\n",
       "\t<li>90</li>\n",
       "\t<li>91</li>\n",
       "\t<li>92</li>\n",
       "\t<li>93</li>\n",
       "\t<li>100</li>\n",
       "\t<li>101</li>\n",
       "\t<li>102</li>\n",
       "\t<li>103</li>\n",
       "\t<li>104</li>\n",
       "\t<li>105</li>\n",
       "</ol>\n"
      ],
      "text/latex": [
       "\\begin{enumerate*}\n",
       "\\item 42\n",
       "\\item 68\n",
       "\\item 80\n",
       "\\item 89\n",
       "\\item 90\n",
       "\\item 91\n",
       "\\item 92\n",
       "\\item 93\n",
       "\\item 100\n",
       "\\item 101\n",
       "\\item 102\n",
       "\\item 103\n",
       "\\item 104\n",
       "\\item 105\n",
       "\\end{enumerate*}\n"
      ],
      "text/markdown": [
       "1. 42\n",
       "2. 68\n",
       "3. 80\n",
       "4. 89\n",
       "5. 90\n",
       "6. 91\n",
       "7. 92\n",
       "8. 93\n",
       "9. 100\n",
       "10. 101\n",
       "11. 102\n",
       "12. 103\n",
       "13. 104\n",
       "14. 105\n",
       "\n",
       "\n"
      ],
      "text/plain": [
       " [1]  42  68  80  89  90  91  92  93 100 101 102 103 104 105"
      ]
     },
     "metadata": {},
     "output_type": "display_data"
    }
   ],
   "source": [
    "years = c(1942,1968,1980,1989:1993, 2000:2005)\n",
    "years_since_1900 = years - 1900\n",
    "years_since_1900"
   ]
  },
  {
   "cell_type": "code",
   "execution_count": 45,
   "metadata": {
    "collapsed": false
   },
   "outputs": [
    {
     "data": {
      "text/html": [
       "<ol class=list-inline>\n",
       "\t<li>1.968505</li>\n",
       "\t<li>3.93701</li>\n",
       "\t<li>3.149608</li>\n",
       "\t<li>5.118113</li>\n",
       "\t<li>0.393701</li>\n",
       "\t<li>18.897648</li>\n",
       "\t<li>4.9212625</li>\n",
       "</ol>\n"
      ],
      "text/latex": [
       "\\begin{enumerate*}\n",
       "\\item 1.968505\n",
       "\\item 3.93701\n",
       "\\item 3.149608\n",
       "\\item 5.118113\n",
       "\\item 0.393701\n",
       "\\item 18.897648\n",
       "\\item 4.9212625\n",
       "\\end{enumerate*}\n"
      ],
      "text/markdown": [
       "1. 1.968505\n",
       "2. 3.93701\n",
       "3. 3.149608\n",
       "4. 5.118113\n",
       "5. 0.393701\n",
       "6. 18.897648\n",
       "7. 4.9212625\n",
       "\n",
       "\n"
      ],
      "text/plain": [
       "[1]  1.968505  3.937010  3.149608  5.118113  0.393701 18.897648  4.921263"
      ]
     },
     "metadata": {},
     "output_type": "display_data"
    }
   ],
   "source": [
    "cm = c(5, 10, 8, 13, 1, 48, 12.5)\n",
    "inches = cm * 0.393701\n",
    "inches"
   ]
  },
  {
   "cell_type": "markdown",
   "metadata": {},
   "source": [
    "Try what happens when you try to do math with unequal length of vectors?"
   ]
  },
  {
   "cell_type": "markdown",
   "metadata": {},
   "source": [
    "## Practice time\n",
    "Try to solve following problems\n",
    "1. Create a vector of our names and then select one \"winner\" at random.\n",
    "2. Create a vector of numbers from 1 to 99 by two (1 3 5 .. 99) and then select three elements at random.\n",
    "3. Create a random logical vector of length 50 (T F T F F F T F etc.)\n",
    "4. Create a random vector of \"Male\" \"Female\" elements of lenght 50\n",
    "5. Use set.seed function to create vectors 3 and 4 and use them to select only one gender."
   ]
  }
 ],
 "metadata": {
  "kernelspec": {
   "display_name": "R",
   "language": "R",
   "name": "ir"
  },
  "language_info": {
   "codemirror_mode": "r",
   "file_extension": ".r",
   "mimetype": "text/x-r-source",
   "name": "R",
   "pygments_lexer": "r",
   "version": "3.2.5"
  }
 },
 "nbformat": 4,
 "nbformat_minor": 0
}
