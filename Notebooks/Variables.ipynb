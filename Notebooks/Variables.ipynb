{
 "cells": [
  {
   "cell_type": "markdown",
   "metadata": {},
   "source": [
    "# Variables\n",
    "\n",
    "Variables allow us to save inbetween constructs or scripts to use them in multiple operations throughout the analysis. Common things to save into variables are:\n",
    "    - tables\n",
    "    - results\n",
    "    - graphs\n",
    "    - constants/settings\n",
    "    \n",
    "Variables in R are of many types:\n",
    "    - integer\n",
    "    - numeric\n",
    "    - complex\n",
    "    - boolean/logical\n",
    "    - character\n",
    "    - vector\n",
    "    - matrix\n",
    "    - list\n",
    "    - (data.frame)\n",
    "\n",
    "Assignment to variables in R works with <- or since 3.0 with = as well. Both are acceptable, <- is preffered. But I hate it and use = as in every other language. It's up to you, just be consistent!"
   ]
  },
  {
   "cell_type": "code",
   "execution_count": null,
   "metadata": {
    "collapsed": true
   },
   "outputs": [],
   "source": [
    "num = 5 #works\n",
    "num2 <- 7 #works, official way - makes R very distinct\n",
    "num + num2"
   ]
  },
  {
   "cell_type": "markdown",
   "metadata": {},
   "source": [
    "Names must start with a letter, but can include numbers and underscore _"
   ]
  },
  {
   "cell_type": "code",
   "execution_count": 14,
   "metadata": {
    "collapsed": false
   },
   "outputs": [
    {
     "ename": "ERROR",
     "evalue": "Error in parse(text = x, srcfile = src): <text>:1:2: unexpected symbol\n1: 2hey\n     ^\n",
     "output_type": "error",
     "traceback": [
      "Error in parse(text = x, srcfile = src): <text>:1:2: unexpected symbol\n1: 2hey\n     ^\nTraceback:\n"
     ]
    }
   ],
   "source": [
    "2hey = \"ERROR\" #produces error\n",
    "hey2 = \"GOOD\"\n",
    "_broken = 5 #produces error\n",
    "not_broken = 5"
   ]
  },
  {
   "cell_type": "markdown",
   "metadata": {},
   "source": [
    "Variables are assigned from the right,"
   ]
  },
  {
   "cell_type": "code",
   "execution_count": null,
   "metadata": {
    "collapsed": true
   },
   "outputs": [],
   "source": [
    "# this actually save the variable, to the pointer a and b\n",
    "a = \"string\"\n",
    "b = 1\n",
    "# BUT\n",
    "\"string\" = b\n",
    "# will save value of b into the variable string\n",
    "print(string)"
   ]
  },
  {
   "cell_type": "markdown",
   "metadata": {},
   "source": [
    "Funnily enough, this also works in R"
   ]
  },
  {
   "cell_type": "code",
   "execution_count": 6,
   "metadata": {
    "collapsed": true
   },
   "outputs": [],
   "source": [
    "\"char\" = \"h\"\n",
    "print(char)\n",
    "# BUT\n",
    "print(\"char\")"
   ]
  },
  {
   "cell_type": "markdown",
   "metadata": {},
   "source": [
    "Now let's have some fun."
   ]
  },
  {
   "cell_type": "markdown",
   "metadata": {},
   "source": [
    "## Numeric\n",
    "Numeric type is to store floating point numbers. Internally 1 is considered 1.00000... "
   ]
  },
  {
   "cell_type": "code",
   "execution_count": null,
   "metadata": {
    "collapsed": true
   },
   "outputs": [],
   "source": [
    "i = 5 # numeric\n",
    "num = 5.1 #numeric\n",
    "class(pi)"
   ]
  },
  {
   "cell_type": "markdown",
   "metadata": {},
   "source": [
    "## Character\n",
    "Character type is used to store character vectors. It can store single character as well as longer strings. Each character has lenght of 1. Anything in \"\" is considered character and is *safe*. You can save unsafe symbols like + or = inside character easily."
   ]
  },
  {
   "cell_type": "code",
   "execution_count": 3,
   "metadata": {
    "collapsed": false
   },
   "outputs": [
    {
     "data": {
      "text/html": [
       "'character'"
      ],
      "text/latex": [
       "'character'"
      ],
      "text/markdown": [
       "'character'"
      ],
      "text/plain": [
       "[1] \"character\""
      ]
     },
     "metadata": {},
     "output_type": "display_data"
    },
    {
     "data": {
      "text/html": [
       "1"
      ],
      "text/latex": [
       "1"
      ],
      "text/markdown": [
       "1"
      ],
      "text/plain": [
       "[1] 1"
      ]
     },
     "metadata": {},
     "output_type": "display_data"
    }
   ],
   "source": [
    "str = \"long character\" # character vector\n",
    "class(str)\n",
    "length(str)"
   ]
  },
  {
   "cell_type": "code",
   "execution_count": 4,
   "metadata": {
    "collapsed": false
   },
   "outputs": [
    {
     "data": {
      "text/html": [
       "'character'"
      ],
      "text/latex": [
       "'character'"
      ],
      "text/markdown": [
       "'character'"
      ],
      "text/plain": [
       "[1] \"character\""
      ]
     },
     "metadata": {},
     "output_type": "display_data"
    },
    {
     "data": {
      "text/html": [
       "1"
      ],
      "text/latex": [
       "1"
      ],
      "text/markdown": [
       "1"
      ],
      "text/plain": [
       "[1] 1"
      ]
     },
     "metadata": {},
     "output_type": "display_data"
    }
   ],
   "source": [
    "char = 'c' #single quotes should work as well - BEWARE Matlab, C# or and others will kill you for that, stick to \"\"\n",
    "class(char)\n",
    "length(char)"
   ]
  },
  {
   "cell_type": "code",
   "execution_count": 5,
   "metadata": {
    "collapsed": false
   },
   "outputs": [
    {
     "data": {
      "text/html": [
       "'numeric'"
      ],
      "text/latex": [
       "'numeric'"
      ],
      "text/markdown": [
       "'numeric'"
      ],
      "text/plain": [
       "[1] \"numeric\""
      ]
     },
     "metadata": {},
     "output_type": "display_data"
    },
    {
     "data": {
      "text/html": [
       "'character'"
      ],
      "text/latex": [
       "'character'"
      ],
      "text/markdown": [
       "'character'"
      ],
      "text/plain": [
       "[1] \"character\""
      ]
     },
     "metadata": {},
     "output_type": "display_data"
    }
   ],
   "source": [
    "class(5) #see the difference\n",
    "class(\"5\")  #see the difference"
   ]
  },
  {
   "cell_type": "code",
   "execution_count": 9,
   "metadata": {
    "collapsed": false
   },
   "outputs": [
    {
     "data": {
      "text/html": [
       "'='"
      ],
      "text/latex": [
       "'='"
      ],
      "text/markdown": [
       "'='"
      ],
      "text/plain": [
       "[1] \"=\""
      ]
     },
     "metadata": {},
     "output_type": "display_data"
    }
   ],
   "source": [
    "#We can store unsafe characters in strings\n",
    "equal_sign = \"=\"\n",
    "equal_sign"
   ]
  },
  {
   "cell_type": "markdown",
   "metadata": {},
   "source": [
    "## Logical\n",
    "Logical value can be only TRUE or FALSE (T and F for short). Any comparison leads to logical value."
   ]
  },
  {
   "cell_type": "code",
   "execution_count": 10,
   "metadata": {
    "collapsed": false
   },
   "outputs": [
    {
     "name": "stdout",
     "output_type": "stream",
     "text": [
      "[1] \"I am always right\"\n"
     ]
    }
   ],
   "source": [
    "bool = TRUE\n",
    "if(bool){\n",
    "    print(\"I am always right\")\n",
    "}"
   ]
  },
  {
   "cell_type": "code",
   "execution_count": 11,
   "metadata": {
    "collapsed": false
   },
   "outputs": [
    {
     "data": {
      "text/html": [
       "'logical'"
      ],
      "text/latex": [
       "'logical'"
      ],
      "text/markdown": [
       "'logical'"
      ],
      "text/plain": [
       "[1] \"logical\""
      ]
     },
     "metadata": {},
     "output_type": "display_data"
    }
   ],
   "source": [
    "bool = 2 < 3\n",
    "if(bool){\n",
    "    print(\"I am always right\")\n",
    "}\n",
    "class(bool)"
   ]
  },
  {
   "cell_type": "markdown",
   "metadata": {},
   "source": [
    "## Lists\n",
    "Lists are complex tyeps that can store references to multiple types. Elements can be added "
   ]
  },
  {
   "cell_type": "code",
   "execution_count": null,
   "metadata": {
    "collapsed": true
   },
   "outputs": [],
   "source": [
    "ls = list(number = 1, text = \"Interesing\")\n",
    "ls$number\n",
    "ls$text\n",
    "class(ls)"
   ]
  },
  {
   "cell_type": "markdown",
   "metadata": {},
   "source": [
    "## NULL and NA\n",
    "NULL and NA are special values that R uses. NA is very unique and it stands for Not Available. NULL will eventually became usefull in returning ERROR results."
   ]
  },
  {
   "cell_type": "code",
   "execution_count": 13,
   "metadata": {
    "collapsed": false
   },
   "outputs": [
    {
     "data": {
      "text/plain": [
       "NULL"
      ]
     },
     "metadata": {},
     "output_type": "display_data"
    },
    {
     "data": {
      "text/html": [
       "TRUE"
      ],
      "text/latex": [
       "TRUE"
      ],
      "text/markdown": [
       "TRUE"
      ],
      "text/plain": [
       "[1] TRUE"
      ]
     },
     "metadata": {},
     "output_type": "display_data"
    }
   ],
   "source": [
    "ls = list(number = 1, text = \"Interesing\")\n",
    "ls$telephone\n",
    "is.null(ls$memory)"
   ]
  },
  {
   "cell_type": "markdown",
   "metadata": {},
   "source": [
    "# Vectors\n",
    "Vectors allow us to store more values inside one. Vactors can be ow only one type. It might seem useless but will be awesome when we get to looping, data.frames etc."
   ]
  },
  {
   "cell_type": "markdown",
   "metadata": {},
   "source": [
    "str1 = \"I\"\n",
    "str2 = \"am\"\n",
    "str3 = \"great\"\n",
    "num1 = 0\n",
    "num2 = -5\n",
    "num3 = pi\n",
    "\n",
    "string_vec = c(str1, str2, str3)\n",
    "\n",
    "numeric_vec = c(num1, num2, num3)\n",
    "\n",
    "numeric_vec2 = 1:5\n",
    "numeric_vec3 = -5:-10"
   ]
  },
  {
   "cell_type": "markdown",
   "metadata": {},
   "source": [
    "Vectors can oly store one TYPE of variabe"
   ]
  },
  {
   "cell_type": "code",
   "execution_count": null,
   "metadata": {
    "collapsed": true
   },
   "outputs": [],
   "source": [
    "combined_vec = c(str1, num2)"
   ]
  },
  {
   "cell_type": "markdown",
   "metadata": {},
   "source": [
    "Well? No ERROR? let's have a look at it"
   ]
  },
  {
   "cell_type": "code",
   "execution_count": null,
   "metadata": {
    "collapsed": true
   },
   "outputs": [],
   "source": [
    "combined_vec\n",
    "class(combined_vec)"
   ]
  },
  {
   "cell_type": "markdown",
   "metadata": {},
   "source": [
    "This is something that programming calls type conversion or type coercion. You asked R to make a vector of two variables that can't make a vector together so it automatically converted one the the least \"defined\" type it knows - which is always character\n",
    "integer -> numeric -> character"
   ]
  },
  {
   "cell_type": "markdown",
   "metadata": {},
   "source": [
    "Vector access"
   ]
  },
  {
   "cell_type": "code",
   "execution_count": null,
   "metadata": {
    "collapsed": true
   },
   "outputs": [],
   "source": [
    "numeric_vec[1] * numeric_vec[2]\n",
    "string_vec[2]\n",
    "string_vec[c(1:3)]"
   ]
  },
  {
   "cell_type": "markdown",
   "metadata": {},
   "source": [
    "vector math"
   ]
  },
  {
   "cell_type": "code",
   "execution_count": null,
   "metadata": {
    "collapsed": true
   },
   "outputs": [],
   "source": [
    "num_vec1 = 1:5\n",
    "num_vec2 = -1:-5\n",
    "num_vec2 + num_vec1"
   ]
  },
  {
   "cell_type": "code",
   "execution_count": null,
   "metadata": {
    "collapsed": true
   },
   "outputs": [],
   "source": [
    "# CONVERTING VARIABLES\n",
    "num_vec1 = 1:5\n",
    "as.character(num_vec1)\n",
    "as.numeric(\"1\")\n",
    "\n",
    "# different lengths of vectors?\n",
    "# Besides characters or numeric values, any variable can also save an R object\n",
    "# For example, lists are R objects, data.frames are objects, functions etc."
   ]
  }
 ],
 "metadata": {
  "kernelspec": {
   "display_name": "R",
   "language": "R",
   "name": "ir"
  },
  "language_info": {
   "codemirror_mode": "r",
   "file_extension": ".r",
   "mimetype": "text/x-r-source",
   "name": "R",
   "pygments_lexer": "r",
   "version": "3.2.5"
  }
 },
 "nbformat": 4,
 "nbformat_minor": 0
}
