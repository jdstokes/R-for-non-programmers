{
 "cells": [
  {
   "cell_type": "markdown",
   "metadata": {},
   "source": [
    "# Functions\n",
    "We've already seen functions like rep, seq or sample in the vector part. Functions allow us to do the same things we coudl eventually do with long scripts, but do it more logically. Function save us time and typign space, shorten up code and make it clear."
   ]
  },
  {
   "cell_type": "markdown",
   "metadata": {},
   "source": [
    "This is an example that you can either use rep function or for loop to achieve same thing. But the rep is logical, shorter and nicer :)"
   ]
  },
  {
   "cell_type": "code",
   "execution_count": 6,
   "metadata": {
    "collapsed": false
   },
   "outputs": [
    {
     "data": {
      "text/html": [
       "<ol class=list-inline>\n",
       "\t<li>TRUE</li>\n",
       "\t<li>TRUE</li>\n",
       "\t<li>TRUE</li>\n",
       "\t<li>TRUE</li>\n",
       "\t<li>TRUE</li>\n",
       "\t<li>TRUE</li>\n",
       "\t<li>TRUE</li>\n",
       "\t<li>TRUE</li>\n",
       "\t<li>TRUE</li>\n",
       "\t<li>TRUE</li>\n",
       "</ol>\n"
      ],
      "text/latex": [
       "\\begin{enumerate*}\n",
       "\\item TRUE\n",
       "\\item TRUE\n",
       "\\item TRUE\n",
       "\\item TRUE\n",
       "\\item TRUE\n",
       "\\item TRUE\n",
       "\\item TRUE\n",
       "\\item TRUE\n",
       "\\item TRUE\n",
       "\\item TRUE\n",
       "\\end{enumerate*}\n"
      ],
      "text/markdown": [
       "1. TRUE\n",
       "2. TRUE\n",
       "3. TRUE\n",
       "4. TRUE\n",
       "5. TRUE\n",
       "6. TRUE\n",
       "7. TRUE\n",
       "8. TRUE\n",
       "9. TRUE\n",
       "10. TRUE\n",
       "\n",
       "\n"
      ],
      "text/plain": [
       " [1] TRUE TRUE TRUE TRUE TRUE TRUE TRUE TRUE TRUE TRUE"
      ]
     },
     "metadata": {},
     "output_type": "display_data"
    }
   ],
   "source": [
    "vec_old = rep(c(\"a\",\"b\"),5)\n",
    "\n",
    "vec = c(\"a\", \"b\")\n",
    "vec_new = c()\n",
    "up_to = 5\n",
    "for (i in 1:up_to){\n",
    "    vec_new = c(vec_new, vec)\n",
    "}\n",
    "\n",
    "vec_new == vec_old"
   ]
  },
  {
   "cell_type": "markdown",
   "metadata": {},
   "source": [
    "## Packaging\n",
    "Functions come in packages. rep, seq, lenght etc. are part of {base} R package. Packages are the most powerful aspect of R."
   ]
  },
  {
   "cell_type": "markdown",
   "metadata": {},
   "source": [
    "Packages are installed like this:"
   ]
  },
  {
   "cell_type": "code",
   "execution_count": null,
   "metadata": {
    "collapsed": true
   },
   "outputs": [],
   "source": [
    "install.packages(\"ggplot2\")\n",
    "pack = c(\"dplyr\", \"ezanova\")\n",
    "install.packages(pack)"
   ]
  },
  {
   "cell_type": "markdown",
   "metadata": {},
   "source": [
    "When installed, you need to allow them in each project/R instance. Loaded packages are vaailable to all scripts in the R session."
   ]
  },
  {
   "cell_type": "code",
   "execution_count": null,
   "metadata": {
    "collapsed": true
   },
   "outputs": [],
   "source": [
    "library(dplyr)\n",
    "library(ggplot)"
   ]
  },
  {
   "cell_type": "markdown",
   "metadata": {},
   "source": [
    "## Your own functions\n",
    "As soon as you are comfortable with scripts, you should write your own functions to get rid of repetitive tasks."
   ]
  },
  {
   "cell_type": "markdown",
   "metadata": {},
   "source": [
    "Functions are defined as:"
   ]
  },
  {
   "cell_type": "code",
   "execution_count": null,
   "metadata": {
    "collapsed": true
   },
   "outputs": [],
   "source": [
    "fun = function(argument1, argument2){\n",
    "    #does something\n",
    "    return(\"SUCESS\")\n",
    "}"
   ]
  },
  {
   "cell_type": "markdown",
   "metadata": {},
   "source": [
    "For example, if you are working with a lots of triangles you can come to the following situation:"
   ]
  },
  {
   "cell_type": "code",
   "execution_count": null,
   "metadata": {
    "collapsed": true
   },
   "outputs": [],
   "source": [
    "sideA1 = 3\n",
    "sideA2 = 4\n",
    "sideA3 = sqrt((sideA1 ^ 2) + (sideA2 ^ 2))\n",
    "\n",
    "sideB1 = 10\n",
    "sideB2 = 15\n",
    "sideB3 = sqrt((sideB1 ^ 2) + (sideB2 ^ 2))"
   ]
  },
  {
   "cell_type": "markdown",
   "metadata": {},
   "source": [
    "it would work, but it looks like crap. We can do several things about it. Firstly, lets put triangles to vectors to keep it neat:"
   ]
  },
  {
   "cell_type": "code",
   "execution_count": 7,
   "metadata": {
    "collapsed": true
   },
   "outputs": [],
   "source": [
    "triangle1 = c(3, 4, NA)\n",
    "triangle2 = c(10, 15, NA)\n",
    "triangle1[3] = sqrt((triangle1[1] ^ 2) + (triangle1[2] ^ 2))\n",
    "triangle2[3] = sqrt((triangle2[1] ^ 2) + (triangle1[2] ^ 2))"
   ]
  },
  {
   "cell_type": "markdown",
   "metadata": {},
   "source": [
    "Nicer, but still looks kinda crap. Lets fix it with a function."
   ]
  },
  {
   "cell_type": "code",
   "execution_count": null,
   "metadata": {
    "collapsed": true
   },
   "outputs": [],
   "source": [
    "# calculate trialngle hypotenuse\n",
    "hypotenuse = function(sideA, sideB){\n",
    "  hypot = sqrt((sideA ^ 2) + (sideB ^ 2))\n",
    "  return(hypot)\n",
    "}"
   ]
  },
  {
   "cell_type": "markdown",
   "metadata": {},
   "source": [
    "Now lets do the same thing with a function."
   ]
  },
  {
   "cell_type": "code",
   "execution_count": null,
   "metadata": {
    "collapsed": true
   },
   "outputs": [],
   "source": [
    "triangle1 = c(3, 4, NA)\n",
    "triangle2 = c(10, 15, NA)\n",
    "triangle1[3] = hypotenuse(triangle1[1], triangle1[2])\n",
    "triangle2[3] = hypotenuse(triangle2[1], triangle2[2])"
   ]
  },
  {
   "cell_type": "markdown",
   "metadata": {},
   "source": [
    "It is not more effective, it is not significanly shorter, but it is more CLEAR TO UNDERSTAND!"
   ]
  },
  {
   "cell_type": "markdown",
   "metadata": {},
   "source": [
    "Do not just write code that works, write code that is clear to read."
   ]
  },
  {
   "cell_type": "markdown",
   "metadata": {},
   "source": [
    "## Function scoping\n",
    "There is something caled scope in programming. It deals with the fact that you will likely have multiple functions/variable of the same name in the project and want them to be different. Exampple:"
   ]
  },
  {
   "cell_type": "code",
   "execution_count": 9,
   "metadata": {
    "collapsed": true
   },
   "outputs": [],
   "source": [
    "add = function(number, number2){\n",
    "    number = number + number2\n",
    "    return(number)\n",
    "}"
   ]
  },
  {
   "cell_type": "markdown",
   "metadata": {},
   "source": [
    "Now what would happen if we run this:"
   ]
  },
  {
   "cell_type": "code",
   "execution_count": 10,
   "metadata": {
    "collapsed": false
   },
   "outputs": [
    {
     "data": {
      "text/html": [
       "20"
      ],
      "text/latex": [
       "20"
      ],
      "text/markdown": [
       "20"
      ],
      "text/plain": [
       "[1] 20"
      ]
     },
     "metadata": {},
     "output_type": "display_data"
    },
    {
     "name": "stdout",
     "output_type": "stream",
     "text": [
      "[1] 5\n"
     ]
    }
   ],
   "source": [
    "number = 5\n",
    "add(10, 10)\n",
    "print(number)"
   ]
  },
  {
   "cell_type": "markdown",
   "metadata": {},
   "source": [
    "But there is a different function."
   ]
  },
  {
   "cell_type": "code",
   "execution_count": 11,
   "metadata": {
    "collapsed": false
   },
   "outputs": [
    {
     "name": "stdout",
     "output_type": "stream",
     "text": [
      "[1] 10\n"
     ]
    }
   ],
   "source": [
    "num = 10\n",
    "change = function(){\n",
    "    num = 0\n",
    "}\n",
    "change()\n",
    "print(number)"
   ]
  },
  {
   "cell_type": "markdown",
   "metadata": {},
   "source": [
    "The logic is not fully clear and is very different form other programming languages. Function searches for the closest recognizable variable near - inside function scope. If it can't find it, it uses variable in the general scope of the entire R environment.\n",
    "\n",
    "Let's consider somehting else"
   ]
  },
  {
   "cell_type": "code",
   "execution_count": 16,
   "metadata": {
    "collapsed": false
   },
   "outputs": [
    {
     "name": "stdout",
     "output_type": "stream",
     "text": [
      "[1] 5\n"
     ]
    }
   ],
   "source": [
    "add = function(number, number2){\n",
    "    number = number + number2\n",
    "    return(number)\n",
    "}\n",
    "change_add = function(){\n",
    "    number = 0\n",
    "    number2 = 5\n",
    "    print(add(number, number2))\n",
    "    \n",
    "}\n",
    "number = 10\n",
    "change_add()"
   ]
  },
  {
   "cell_type": "code",
   "execution_count": 19,
   "metadata": {
    "collapsed": false
   },
   "outputs": [
    {
     "name": "stdout",
     "output_type": "stream",
     "text": [
      "[1] 5\n"
     ]
    }
   ],
   "source": [
    "add = function(number){\n",
    "    number = number + number2\n",
    "    return(number)\n",
    "}\n",
    "change_add = function(){\n",
    "    number = 0\n",
    "    number2 = 20\n",
    "    print(add(number))\n",
    "    \n",
    "}\n",
    "number2 = 5\n",
    "number = 10\n",
    "change_add()"
   ]
  },
  {
   "cell_type": "markdown",
   "metadata": {},
   "source": [
    "R uses so called lexical scope. Therefore it searches for variables insside function and if they are noth there, goes straight to the general environemnt. If not there, it throws an error.\n",
    "\n",
    "more info https://darrenjw.wordpress.com/2011/11/23/lexical-scope-and-function-closures-in-r/"
   ]
  }
 ],
 "metadata": {
  "kernelspec": {
   "display_name": "R",
   "language": "R",
   "name": "ir"
  },
  "language_info": {
   "codemirror_mode": "r",
   "file_extension": ".r",
   "mimetype": "text/x-r-source",
   "name": "R",
   "pygments_lexer": "r",
   "version": "3.2.5"
  }
 },
 "nbformat": 4,
 "nbformat_minor": 0
}
