{
 "cells": [
  {
   "cell_type": "markdown",
   "metadata": {},
   "source": [
    "# Data frames\n",
    "Data frames are basically the common tables you know from excel or from anywhere on the internet. Usually data.frame is the product of your long effort to preprocess and clean the data. To combine what we already know, data.frames are lists of vectors of the same size, which have functionality ot easily access rows of data across multiple vectors.\n",
    "\n",
    "Data frames columns MUST have same length - missing values can be replaced with NAs, NaNs or NULLs;\n",
    "And similarly to the vector restraint, each column must have only a single variable type."
   ]
  },
  {
   "cell_type": "code",
   "execution_count": 1,
   "metadata": {
    "collapsed": false
   },
   "outputs": [],
   "source": [
    "df = data.frame(age = sample(1:50, 15, rep = T), gender = sample(c(\"M\", \"F\"), 15, rep = T))"
   ]
  },
  {
   "cell_type": "markdown",
   "metadata": {
    "collapsed": true
   },
   "source": [
    "There are some simple functions to examine data.frames"
   ]
  },
  {
   "cell_type": "code",
   "execution_count": 2,
   "metadata": {
    "collapsed": false
   },
   "outputs": [
    {
     "data": {
      "text/html": [
       "<table>\n",
       "<thead><tr><th></th><th scope=col>age</th><th scope=col>gender</th></tr></thead>\n",
       "<tbody>\n",
       "\t<tr><th scope=row>1</th><td>8</td><td>F</td></tr>\n",
       "\t<tr><th scope=row>2</th><td>10</td><td>M </td></tr>\n",
       "\t<tr><th scope=row>3</th><td>31</td><td>M </td></tr>\n",
       "\t<tr><th scope=row>4</th><td>23</td><td>M </td></tr>\n",
       "\t<tr><th scope=row>5</th><td>45</td><td>F </td></tr>\n",
       "\t<tr><th scope=row>6</th><td>9</td><td>F</td></tr>\n",
       "</tbody>\n",
       "</table>\n"
      ],
      "text/latex": [
       "\\begin{tabular}{r|ll}\n",
       "  & age & gender\\\\\n",
       "\\hline\n",
       "\t1 & 8 & F\\\\\n",
       "\t2 & 10 & M \\\\\n",
       "\t3 & 31 & M \\\\\n",
       "\t4 & 23 & M \\\\\n",
       "\t5 & 45 & F \\\\\n",
       "\t6 & 9 & F\\\\\n",
       "\\end{tabular}\n"
      ],
      "text/plain": [
       "  age gender\n",
       "1   8      F\n",
       "2  10      M\n",
       "3  31      M\n",
       "4  23      M\n",
       "5  45      F\n",
       "6   9      F"
      ]
     },
     "metadata": {},
     "output_type": "display_data"
    }
   ],
   "source": [
    "head(df)"
   ]
  },
  {
   "cell_type": "code",
   "execution_count": 4,
   "metadata": {
    "collapsed": false
   },
   "outputs": [
    {
     "data": {
      "text/plain": [
       "      age        gender\n",
       " Min.   : 1.00   F:9   \n",
       " 1st Qu.:12.00   M:6   \n",
       " Median :31.00         \n",
       " Mean   :27.87         \n",
       " 3rd Qu.:41.50         \n",
       " Max.   :50.00         "
      ]
     },
     "metadata": {},
     "output_type": "display_data"
    }
   ],
   "source": [
    "summary(df)"
   ]
  },
  {
   "cell_type": "code",
   "execution_count": 3,
   "metadata": {
    "collapsed": false
   },
   "outputs": [
    {
     "data": {
      "text/html": [
       "15"
      ],
      "text/latex": [
       "15"
      ],
      "text/markdown": [
       "15"
      ],
      "text/plain": [
       "[1] 15"
      ]
     },
     "metadata": {},
     "output_type": "display_data"
    },
    {
     "data": {
      "text/html": [
       "2"
      ],
      "text/latex": [
       "2"
      ],
      "text/markdown": [
       "2"
      ],
      "text/plain": [
       "[1] 2"
      ]
     },
     "metadata": {},
     "output_type": "display_data"
    }
   ],
   "source": [
    "nrow(df)\n",
    "ncol(df)"
   ]
  },
  {
   "cell_type": "markdown",
   "metadata": {
    "collapsed": true
   },
   "source": [
    "## Subsetting\n",
    "There are many ways how to subset a data frame. The first thing to realise is that data frame is a list of vectors, therefore we can use similar functionality that lists have. If in doubt, go back to varaibles lecture about lists."
   ]
  },
  {
   "cell_type": "markdown",
   "metadata": {
    "collapsed": true
   },
   "source": [
    "### Columns"
   ]
  },
  {
   "cell_type": "code",
   "execution_count": null,
   "metadata": {
    "collapsed": true
   },
   "outputs": [],
   "source": []
  }
 ],
 "metadata": {
  "kernelspec": {
   "display_name": "R",
   "language": "R",
   "name": "ir"
  },
  "language_info": {
   "codemirror_mode": "r",
   "file_extension": ".r",
   "mimetype": "text/x-r-source",
   "name": "R",
   "pygments_lexer": "r",
   "version": "3.2.3"
  }
 },
 "nbformat": 4,
 "nbformat_minor": 0
}
