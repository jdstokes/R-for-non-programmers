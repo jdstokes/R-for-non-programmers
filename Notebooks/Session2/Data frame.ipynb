{
 "cells": [
  {
   "cell_type": "markdown",
   "metadata": {},
   "source": [
    "# Data frames\n",
    "Data frames are basically the common tables you know from excel or from anywhere on the internet. Usually data.frame is the product of your long effort to preprocess and clean the data. To combine what we already know, data.frames are lists of vectors of the same size, which have functionality ot easily access rows of data across multiple vectors.\n",
    "\n",
    "Data frames columns MUST have same length - missing values can be replaced with NAs, NaNs or NULLs;\n",
    "And similarly to the vector restraint, each column must have only a single variable type."
   ]
  },
  {
   "cell_type": "code",
   "execution_count": 32,
   "metadata": {
    "collapsed": false
   },
   "outputs": [],
   "source": [
    "set.seed(1)\n",
    "age = sample(c(10:25), 25, replace = T)\n",
    "gender = sample(c(\"male\", \"female\"), 25, replace = T)\n",
    "smoker = sample(c(T, F), 25, replace = T)\n",
    "BMI = rnorm(25, 20, 2)\n",
    "\n",
    "df = data.frame(age = age, gender = gender, smoker = smoker, BMI = BMI)"
   ]
  },
  {
   "cell_type": "markdown",
   "metadata": {
    "collapsed": true
   },
   "source": [
    "There are some simple functions to examine data.frames"
   ]
  },
  {
   "cell_type": "code",
   "execution_count": 33,
   "metadata": {
    "collapsed": false
   },
   "outputs": [
    {
     "data": {
      "text/html": [
       "<table>\n",
       "<thead><tr><th></th><th scope=col>age</th><th scope=col>gender</th><th scope=col>smoker</th><th scope=col>BMI</th></tr></thead>\n",
       "<tbody>\n",
       "\t<tr><th scope=row>1</th><td>14              </td><td>male            </td><td>1               </td><td>22.4766082017068</td></tr>\n",
       "\t<tr><th scope=row>2</th><td>15              </td><td>male            </td><td>0               </td><td>19.4413074362915</td></tr>\n",
       "\t<tr><th scope=row>3</th><td>19              </td><td>male            </td><td>1               </td><td>23.5158061796214</td></tr>\n",
       "\t<tr><th scope=row>4</th><td>24              </td><td>female          </td><td>1               </td><td>21.1214921817761</td></tr>\n",
       "\t<tr><th scope=row>5</th><td>13              </td><td>male            </td><td>1               </td><td>19.0944320548937</td></tr>\n",
       "\t<tr><th scope=row>6</th><td>24              </td><td>male            </td><td>1               </td><td>18.3359134077643</td></tr>\n",
       "</tbody>\n",
       "</table>\n"
      ],
      "text/latex": [
       "\\begin{tabular}{r|llll}\n",
       "  & age & gender & smoker & BMI\\\\\n",
       "\\hline\n",
       "\t1 & 14               & male             & 1                & 22.4766082017068\\\\\n",
       "\t2 & 15               & male             & 0                & 19.4413074362915\\\\\n",
       "\t3 & 19               & male             & 1                & 23.5158061796214\\\\\n",
       "\t4 & 24               & female           & 1                & 21.1214921817761\\\\\n",
       "\t5 & 13               & male             & 1                & 19.0944320548937\\\\\n",
       "\t6 & 24               & male             & 1                & 18.3359134077643\\\\\n",
       "\\end{tabular}\n"
      ],
      "text/plain": [
       "  age gender smoker      BMI\n",
       "1  14   male   TRUE 22.47661\n",
       "2  15   male  FALSE 19.44131\n",
       "3  19   male   TRUE 23.51581\n",
       "4  24 female   TRUE 21.12149\n",
       "5  13   male   TRUE 19.09443\n",
       "6  24   male   TRUE 18.33591"
      ]
     },
     "metadata": {},
     "output_type": "display_data"
    }
   ],
   "source": [
    "head(df)"
   ]
  },
  {
   "cell_type": "code",
   "execution_count": 34,
   "metadata": {
    "collapsed": false
   },
   "outputs": [
    {
     "data": {
      "text/plain": [
       "      age           gender     smoker             BMI       \n",
       " Min.   :10.00   female:14   Mode :logical   Min.   :15.55  \n",
       " 1st Qu.:14.00   male  :11   FALSE:8         1st Qu.:18.34  \n",
       " Median :19.00               TRUE :17        Median :19.65  \n",
       " Mean   :18.04               NA's :0         Mean   :19.84  \n",
       " 3rd Qu.:22.00                               3rd Qu.:21.12  \n",
       " Max.   :25.00                               Max.   :24.88  "
      ]
     },
     "metadata": {},
     "output_type": "display_data"
    }
   ],
   "source": [
    "summary(df)"
   ]
  },
  {
   "cell_type": "code",
   "execution_count": 35,
   "metadata": {
    "collapsed": false
   },
   "outputs": [
    {
     "data": {
      "text/html": [
       "25"
      ],
      "text/latex": [
       "25"
      ],
      "text/markdown": [
       "25"
      ],
      "text/plain": [
       "[1] 25"
      ]
     },
     "metadata": {},
     "output_type": "display_data"
    },
    {
     "data": {
      "text/html": [
       "4"
      ],
      "text/latex": [
       "4"
      ],
      "text/markdown": [
       "4"
      ],
      "text/plain": [
       "[1] 4"
      ]
     },
     "metadata": {},
     "output_type": "display_data"
    }
   ],
   "source": [
    "nrow(df)\n",
    "ncol(df)"
   ]
  },
  {
   "cell_type": "markdown",
   "metadata": {
    "collapsed": true
   },
   "source": [
    "## Columns\n",
    "Remember theat each column is basically a vector. Therefore if you select the vector, you can run any functions on it. It is also important to know the different types of subsetting lists. Single [n] will select the n-th element of a list WITH the name of the list - tehrefore it doesn't return a vector per se. Double [[n]] on the "
   ]
  },
  {
   "cell_type": "code",
   "execution_count": 36,
   "metadata": {
    "collapsed": false
   },
   "outputs": [
    {
     "data": {
      "text/html": [
       "<table>\n",
       "<thead><tr><th></th><th scope=col>smoker</th></tr></thead>\n",
       "<tbody>\n",
       "\t<tr><th scope=row>1</th><td>TRUE</td></tr>\n",
       "\t<tr><th scope=row>2</th><td>FALSE</td></tr>\n",
       "\t<tr><th scope=row>3</th><td>TRUE</td></tr>\n",
       "\t<tr><th scope=row>4</th><td>TRUE</td></tr>\n",
       "\t<tr><th scope=row>5</th><td>TRUE</td></tr>\n",
       "\t<tr><th scope=row>6</th><td>TRUE</td></tr>\n",
       "\t<tr><th scope=row>7</th><td>TRUE</td></tr>\n",
       "\t<tr><th scope=row>8</th><td>FALSE</td></tr>\n",
       "\t<tr><th scope=row>9</th><td>FALSE</td></tr>\n",
       "\t<tr><th scope=row>10</th><td>TRUE</td></tr>\n",
       "\t<tr><th scope=row>11</th><td>FALSE</td></tr>\n",
       "\t<tr><th scope=row>12</th><td>TRUE</td></tr>\n",
       "\t<tr><th scope=row>13</th><td>TRUE</td></tr>\n",
       "\t<tr><th scope=row>14</th><td>TRUE</td></tr>\n",
       "\t<tr><th scope=row>15</th><td>FALSE</td></tr>\n",
       "\t<tr><th scope=row>16</th><td>TRUE</td></tr>\n",
       "\t<tr><th scope=row>17</th><td>TRUE</td></tr>\n",
       "\t<tr><th scope=row>18</th><td>FALSE</td></tr>\n",
       "\t<tr><th scope=row>19</th><td>TRUE</td></tr>\n",
       "\t<tr><th scope=row>20</th><td>FALSE</td></tr>\n",
       "\t<tr><th scope=row>21</th><td>TRUE</td></tr>\n",
       "\t<tr><th scope=row>22</th><td>FALSE</td></tr>\n",
       "\t<tr><th scope=row>23</th><td>TRUE</td></tr>\n",
       "\t<tr><th scope=row>24</th><td>TRUE</td></tr>\n",
       "\t<tr><th scope=row>25</th><td>TRUE</td></tr>\n",
       "</tbody>\n",
       "</table>\n"
      ],
      "text/latex": [
       "\\begin{tabular}{r|l}\n",
       "  & smoker\\\\\n",
       "\\hline\n",
       "\t1 & TRUE\\\\\n",
       "\t2 & FALSE\\\\\n",
       "\t3 & TRUE\\\\\n",
       "\t4 & TRUE\\\\\n",
       "\t5 & TRUE\\\\\n",
       "\t6 & TRUE\\\\\n",
       "\t7 & TRUE\\\\\n",
       "\t8 & FALSE\\\\\n",
       "\t9 & FALSE\\\\\n",
       "\t10 & TRUE\\\\\n",
       "\t11 & FALSE\\\\\n",
       "\t12 & TRUE\\\\\n",
       "\t13 & TRUE\\\\\n",
       "\t14 & TRUE\\\\\n",
       "\t15 & FALSE\\\\\n",
       "\t16 & TRUE\\\\\n",
       "\t17 & TRUE\\\\\n",
       "\t18 & FALSE\\\\\n",
       "\t19 & TRUE\\\\\n",
       "\t20 & FALSE\\\\\n",
       "\t21 & TRUE\\\\\n",
       "\t22 & FALSE\\\\\n",
       "\t23 & TRUE\\\\\n",
       "\t24 & TRUE\\\\\n",
       "\t25 & TRUE\\\\\n",
       "\\end{tabular}\n"
      ],
      "text/plain": [
       "   smoker\n",
       "1    TRUE\n",
       "2   FALSE\n",
       "3    TRUE\n",
       "4    TRUE\n",
       "5    TRUE\n",
       "6    TRUE\n",
       "7    TRUE\n",
       "8   FALSE\n",
       "9   FALSE\n",
       "10   TRUE\n",
       "11  FALSE\n",
       "12   TRUE\n",
       "13   TRUE\n",
       "14   TRUE\n",
       "15  FALSE\n",
       "16   TRUE\n",
       "17   TRUE\n",
       "18  FALSE\n",
       "19   TRUE\n",
       "20  FALSE\n",
       "21   TRUE\n",
       "22  FALSE\n",
       "23   TRUE\n",
       "24   TRUE\n",
       "25   TRUE"
      ]
     },
     "metadata": {},
     "output_type": "display_data"
    },
    {
     "data": {
      "text/html": [
       "<ol class=list-inline>\n",
       "\t<li>TRUE</li>\n",
       "\t<li>FALSE</li>\n",
       "\t<li>TRUE</li>\n",
       "\t<li>TRUE</li>\n",
       "\t<li>TRUE</li>\n",
       "\t<li>TRUE</li>\n",
       "\t<li>TRUE</li>\n",
       "\t<li>FALSE</li>\n",
       "\t<li>FALSE</li>\n",
       "\t<li>TRUE</li>\n",
       "\t<li>FALSE</li>\n",
       "\t<li>TRUE</li>\n",
       "\t<li>TRUE</li>\n",
       "\t<li>TRUE</li>\n",
       "\t<li>FALSE</li>\n",
       "\t<li>TRUE</li>\n",
       "\t<li>TRUE</li>\n",
       "\t<li>FALSE</li>\n",
       "\t<li>TRUE</li>\n",
       "\t<li>FALSE</li>\n",
       "\t<li>TRUE</li>\n",
       "\t<li>FALSE</li>\n",
       "\t<li>TRUE</li>\n",
       "\t<li>TRUE</li>\n",
       "\t<li>TRUE</li>\n",
       "</ol>\n"
      ],
      "text/latex": [
       "\\begin{enumerate*}\n",
       "\\item TRUE\n",
       "\\item FALSE\n",
       "\\item TRUE\n",
       "\\item TRUE\n",
       "\\item TRUE\n",
       "\\item TRUE\n",
       "\\item TRUE\n",
       "\\item FALSE\n",
       "\\item FALSE\n",
       "\\item TRUE\n",
       "\\item FALSE\n",
       "\\item TRUE\n",
       "\\item TRUE\n",
       "\\item TRUE\n",
       "\\item FALSE\n",
       "\\item TRUE\n",
       "\\item TRUE\n",
       "\\item FALSE\n",
       "\\item TRUE\n",
       "\\item FALSE\n",
       "\\item TRUE\n",
       "\\item FALSE\n",
       "\\item TRUE\n",
       "\\item TRUE\n",
       "\\item TRUE\n",
       "\\end{enumerate*}\n"
      ],
      "text/markdown": [
       "1. TRUE\n",
       "2. FALSE\n",
       "3. TRUE\n",
       "4. TRUE\n",
       "5. TRUE\n",
       "6. TRUE\n",
       "7. TRUE\n",
       "8. FALSE\n",
       "9. FALSE\n",
       "10. TRUE\n",
       "11. FALSE\n",
       "12. TRUE\n",
       "13. TRUE\n",
       "14. TRUE\n",
       "15. FALSE\n",
       "16. TRUE\n",
       "17. TRUE\n",
       "18. FALSE\n",
       "19. TRUE\n",
       "20. FALSE\n",
       "21. TRUE\n",
       "22. FALSE\n",
       "23. TRUE\n",
       "24. TRUE\n",
       "25. TRUE\n",
       "\n",
       "\n"
      ],
      "text/plain": [
       " [1]  TRUE FALSE  TRUE  TRUE  TRUE  TRUE  TRUE FALSE FALSE  TRUE FALSE  TRUE\n",
       "[13]  TRUE  TRUE FALSE  TRUE  TRUE FALSE  TRUE FALSE  TRUE FALSE  TRUE  TRUE\n",
       "[25]  TRUE"
      ]
     },
     "metadata": {},
     "output_type": "display_data"
    }
   ],
   "source": [
    "df[3]\n",
    "df[[3]]"
   ]
  },
  {
   "cell_type": "markdown",
   "metadata": {},
   "source": [
    "Other way of selecting vectors is to follow the list way of selecting elements by name. That way uses $ operator. This selection is effectively same as the sellection with [[n]]. But remember, that if you want to use name of the column in brackets, you need to put a string there [[\"smoker\"]] (otherwise it will search for a smoker variable)."
   ]
  },
  {
   "cell_type": "code",
   "execution_count": 37,
   "metadata": {
    "collapsed": false
   },
   "outputs": [
    {
     "data": {
      "text/html": [
       "<ol class=list-inline>\n",
       "\t<li>TRUE</li>\n",
       "\t<li>FALSE</li>\n",
       "\t<li>TRUE</li>\n",
       "\t<li>TRUE</li>\n",
       "\t<li>TRUE</li>\n",
       "\t<li>TRUE</li>\n",
       "\t<li>TRUE</li>\n",
       "\t<li>FALSE</li>\n",
       "\t<li>FALSE</li>\n",
       "\t<li>TRUE</li>\n",
       "\t<li>FALSE</li>\n",
       "\t<li>TRUE</li>\n",
       "\t<li>TRUE</li>\n",
       "\t<li>TRUE</li>\n",
       "\t<li>FALSE</li>\n",
       "\t<li>TRUE</li>\n",
       "\t<li>TRUE</li>\n",
       "\t<li>FALSE</li>\n",
       "\t<li>TRUE</li>\n",
       "\t<li>FALSE</li>\n",
       "\t<li>TRUE</li>\n",
       "\t<li>FALSE</li>\n",
       "\t<li>TRUE</li>\n",
       "\t<li>TRUE</li>\n",
       "\t<li>TRUE</li>\n",
       "</ol>\n"
      ],
      "text/latex": [
       "\\begin{enumerate*}\n",
       "\\item TRUE\n",
       "\\item FALSE\n",
       "\\item TRUE\n",
       "\\item TRUE\n",
       "\\item TRUE\n",
       "\\item TRUE\n",
       "\\item TRUE\n",
       "\\item FALSE\n",
       "\\item FALSE\n",
       "\\item TRUE\n",
       "\\item FALSE\n",
       "\\item TRUE\n",
       "\\item TRUE\n",
       "\\item TRUE\n",
       "\\item FALSE\n",
       "\\item TRUE\n",
       "\\item TRUE\n",
       "\\item FALSE\n",
       "\\item TRUE\n",
       "\\item FALSE\n",
       "\\item TRUE\n",
       "\\item FALSE\n",
       "\\item TRUE\n",
       "\\item TRUE\n",
       "\\item TRUE\n",
       "\\end{enumerate*}\n"
      ],
      "text/markdown": [
       "1. TRUE\n",
       "2. FALSE\n",
       "3. TRUE\n",
       "4. TRUE\n",
       "5. TRUE\n",
       "6. TRUE\n",
       "7. TRUE\n",
       "8. FALSE\n",
       "9. FALSE\n",
       "10. TRUE\n",
       "11. FALSE\n",
       "12. TRUE\n",
       "13. TRUE\n",
       "14. TRUE\n",
       "15. FALSE\n",
       "16. TRUE\n",
       "17. TRUE\n",
       "18. FALSE\n",
       "19. TRUE\n",
       "20. FALSE\n",
       "21. TRUE\n",
       "22. FALSE\n",
       "23. TRUE\n",
       "24. TRUE\n",
       "25. TRUE\n",
       "\n",
       "\n"
      ],
      "text/plain": [
       " [1]  TRUE FALSE  TRUE  TRUE  TRUE  TRUE  TRUE FALSE FALSE  TRUE FALSE  TRUE\n",
       "[13]  TRUE  TRUE FALSE  TRUE  TRUE FALSE  TRUE FALSE  TRUE FALSE  TRUE  TRUE\n",
       "[25]  TRUE"
      ]
     },
     "metadata": {},
     "output_type": "display_data"
    },
    {
     "data": {
      "text/html": [
       "<ol class=list-inline>\n",
       "\t<li>TRUE</li>\n",
       "\t<li>FALSE</li>\n",
       "\t<li>TRUE</li>\n",
       "\t<li>TRUE</li>\n",
       "\t<li>TRUE</li>\n",
       "\t<li>TRUE</li>\n",
       "\t<li>TRUE</li>\n",
       "\t<li>FALSE</li>\n",
       "\t<li>FALSE</li>\n",
       "\t<li>TRUE</li>\n",
       "\t<li>FALSE</li>\n",
       "\t<li>TRUE</li>\n",
       "\t<li>TRUE</li>\n",
       "\t<li>TRUE</li>\n",
       "\t<li>FALSE</li>\n",
       "\t<li>TRUE</li>\n",
       "\t<li>TRUE</li>\n",
       "\t<li>FALSE</li>\n",
       "\t<li>TRUE</li>\n",
       "\t<li>FALSE</li>\n",
       "\t<li>TRUE</li>\n",
       "\t<li>FALSE</li>\n",
       "\t<li>TRUE</li>\n",
       "\t<li>TRUE</li>\n",
       "\t<li>TRUE</li>\n",
       "</ol>\n"
      ],
      "text/latex": [
       "\\begin{enumerate*}\n",
       "\\item TRUE\n",
       "\\item FALSE\n",
       "\\item TRUE\n",
       "\\item TRUE\n",
       "\\item TRUE\n",
       "\\item TRUE\n",
       "\\item TRUE\n",
       "\\item FALSE\n",
       "\\item FALSE\n",
       "\\item TRUE\n",
       "\\item FALSE\n",
       "\\item TRUE\n",
       "\\item TRUE\n",
       "\\item TRUE\n",
       "\\item FALSE\n",
       "\\item TRUE\n",
       "\\item TRUE\n",
       "\\item FALSE\n",
       "\\item TRUE\n",
       "\\item FALSE\n",
       "\\item TRUE\n",
       "\\item FALSE\n",
       "\\item TRUE\n",
       "\\item TRUE\n",
       "\\item TRUE\n",
       "\\end{enumerate*}\n"
      ],
      "text/markdown": [
       "1. TRUE\n",
       "2. FALSE\n",
       "3. TRUE\n",
       "4. TRUE\n",
       "5. TRUE\n",
       "6. TRUE\n",
       "7. TRUE\n",
       "8. FALSE\n",
       "9. FALSE\n",
       "10. TRUE\n",
       "11. FALSE\n",
       "12. TRUE\n",
       "13. TRUE\n",
       "14. TRUE\n",
       "15. FALSE\n",
       "16. TRUE\n",
       "17. TRUE\n",
       "18. FALSE\n",
       "19. TRUE\n",
       "20. FALSE\n",
       "21. TRUE\n",
       "22. FALSE\n",
       "23. TRUE\n",
       "24. TRUE\n",
       "25. TRUE\n",
       "\n",
       "\n"
      ],
      "text/plain": [
       " [1]  TRUE FALSE  TRUE  TRUE  TRUE  TRUE  TRUE FALSE FALSE  TRUE FALSE  TRUE\n",
       "[13]  TRUE  TRUE FALSE  TRUE  TRUE FALSE  TRUE FALSE  TRUE FALSE  TRUE  TRUE\n",
       "[25]  TRUE"
      ]
     },
     "metadata": {},
     "output_type": "display_data"
    },
    {
     "data": {
      "text/html": [
       "<ol class=list-inline>\n",
       "\t<li>TRUE</li>\n",
       "\t<li>TRUE</li>\n",
       "\t<li>TRUE</li>\n",
       "\t<li>TRUE</li>\n",
       "\t<li>TRUE</li>\n",
       "\t<li>TRUE</li>\n",
       "\t<li>TRUE</li>\n",
       "\t<li>TRUE</li>\n",
       "\t<li>TRUE</li>\n",
       "\t<li>TRUE</li>\n",
       "\t<li>TRUE</li>\n",
       "\t<li>TRUE</li>\n",
       "\t<li>TRUE</li>\n",
       "\t<li>TRUE</li>\n",
       "\t<li>TRUE</li>\n",
       "\t<li>TRUE</li>\n",
       "\t<li>TRUE</li>\n",
       "\t<li>TRUE</li>\n",
       "\t<li>TRUE</li>\n",
       "\t<li>TRUE</li>\n",
       "\t<li>TRUE</li>\n",
       "\t<li>TRUE</li>\n",
       "\t<li>TRUE</li>\n",
       "\t<li>TRUE</li>\n",
       "\t<li>TRUE</li>\n",
       "</ol>\n"
      ],
      "text/latex": [
       "\\begin{enumerate*}\n",
       "\\item TRUE\n",
       "\\item TRUE\n",
       "\\item TRUE\n",
       "\\item TRUE\n",
       "\\item TRUE\n",
       "\\item TRUE\n",
       "\\item TRUE\n",
       "\\item TRUE\n",
       "\\item TRUE\n",
       "\\item TRUE\n",
       "\\item TRUE\n",
       "\\item TRUE\n",
       "\\item TRUE\n",
       "\\item TRUE\n",
       "\\item TRUE\n",
       "\\item TRUE\n",
       "\\item TRUE\n",
       "\\item TRUE\n",
       "\\item TRUE\n",
       "\\item TRUE\n",
       "\\item TRUE\n",
       "\\item TRUE\n",
       "\\item TRUE\n",
       "\\item TRUE\n",
       "\\item TRUE\n",
       "\\end{enumerate*}\n"
      ],
      "text/markdown": [
       "1. TRUE\n",
       "2. TRUE\n",
       "3. TRUE\n",
       "4. TRUE\n",
       "5. TRUE\n",
       "6. TRUE\n",
       "7. TRUE\n",
       "8. TRUE\n",
       "9. TRUE\n",
       "10. TRUE\n",
       "11. TRUE\n",
       "12. TRUE\n",
       "13. TRUE\n",
       "14. TRUE\n",
       "15. TRUE\n",
       "16. TRUE\n",
       "17. TRUE\n",
       "18. TRUE\n",
       "19. TRUE\n",
       "20. TRUE\n",
       "21. TRUE\n",
       "22. TRUE\n",
       "23. TRUE\n",
       "24. TRUE\n",
       "25. TRUE\n",
       "\n",
       "\n"
      ],
      "text/plain": [
       " [1] TRUE TRUE TRUE TRUE TRUE TRUE TRUE TRUE TRUE TRUE TRUE TRUE TRUE TRUE TRUE\n",
       "[16] TRUE TRUE TRUE TRUE TRUE TRUE TRUE TRUE TRUE TRUE"
      ]
     },
     "metadata": {},
     "output_type": "display_data"
    }
   ],
   "source": [
    "df$smoker\n",
    "df[[\"smoker\"]]\n",
    "df[[\"smoker\"]] == df$smoker"
   ]
  },
  {
   "cell_type": "markdown",
   "metadata": {},
   "source": [
    "And the data.frame own way to select columns is to use its df[ROW, COLUMN] statement. Column part accepts numbers as well as string"
   ]
  },
  {
   "cell_type": "code",
   "execution_count": 38,
   "metadata": {
    "collapsed": false,
    "scrolled": true
   },
   "outputs": [
    {
     "data": {
      "text/html": [
       "<ol class=list-inline>\n",
       "\t<li>TRUE</li>\n",
       "\t<li>FALSE</li>\n",
       "\t<li>TRUE</li>\n",
       "\t<li>TRUE</li>\n",
       "\t<li>TRUE</li>\n",
       "\t<li>TRUE</li>\n",
       "\t<li>TRUE</li>\n",
       "\t<li>FALSE</li>\n",
       "\t<li>FALSE</li>\n",
       "\t<li>TRUE</li>\n",
       "\t<li>FALSE</li>\n",
       "\t<li>TRUE</li>\n",
       "\t<li>TRUE</li>\n",
       "\t<li>TRUE</li>\n",
       "\t<li>FALSE</li>\n",
       "\t<li>TRUE</li>\n",
       "\t<li>TRUE</li>\n",
       "\t<li>FALSE</li>\n",
       "\t<li>TRUE</li>\n",
       "\t<li>FALSE</li>\n",
       "\t<li>TRUE</li>\n",
       "\t<li>FALSE</li>\n",
       "\t<li>TRUE</li>\n",
       "\t<li>TRUE</li>\n",
       "\t<li>TRUE</li>\n",
       "</ol>\n"
      ],
      "text/latex": [
       "\\begin{enumerate*}\n",
       "\\item TRUE\n",
       "\\item FALSE\n",
       "\\item TRUE\n",
       "\\item TRUE\n",
       "\\item TRUE\n",
       "\\item TRUE\n",
       "\\item TRUE\n",
       "\\item FALSE\n",
       "\\item FALSE\n",
       "\\item TRUE\n",
       "\\item FALSE\n",
       "\\item TRUE\n",
       "\\item TRUE\n",
       "\\item TRUE\n",
       "\\item FALSE\n",
       "\\item TRUE\n",
       "\\item TRUE\n",
       "\\item FALSE\n",
       "\\item TRUE\n",
       "\\item FALSE\n",
       "\\item TRUE\n",
       "\\item FALSE\n",
       "\\item TRUE\n",
       "\\item TRUE\n",
       "\\item TRUE\n",
       "\\end{enumerate*}\n"
      ],
      "text/markdown": [
       "1. TRUE\n",
       "2. FALSE\n",
       "3. TRUE\n",
       "4. TRUE\n",
       "5. TRUE\n",
       "6. TRUE\n",
       "7. TRUE\n",
       "8. FALSE\n",
       "9. FALSE\n",
       "10. TRUE\n",
       "11. FALSE\n",
       "12. TRUE\n",
       "13. TRUE\n",
       "14. TRUE\n",
       "15. FALSE\n",
       "16. TRUE\n",
       "17. TRUE\n",
       "18. FALSE\n",
       "19. TRUE\n",
       "20. FALSE\n",
       "21. TRUE\n",
       "22. FALSE\n",
       "23. TRUE\n",
       "24. TRUE\n",
       "25. TRUE\n",
       "\n",
       "\n"
      ],
      "text/plain": [
       " [1]  TRUE FALSE  TRUE  TRUE  TRUE  TRUE  TRUE FALSE FALSE  TRUE FALSE  TRUE\n",
       "[13]  TRUE  TRUE FALSE  TRUE  TRUE FALSE  TRUE FALSE  TRUE FALSE  TRUE  TRUE\n",
       "[25]  TRUE"
      ]
     },
     "metadata": {},
     "output_type": "display_data"
    },
    {
     "data": {
      "text/html": [
       "<ol class=list-inline>\n",
       "\t<li>TRUE</li>\n",
       "\t<li>FALSE</li>\n",
       "\t<li>TRUE</li>\n",
       "\t<li>TRUE</li>\n",
       "\t<li>TRUE</li>\n",
       "\t<li>TRUE</li>\n",
       "\t<li>TRUE</li>\n",
       "\t<li>FALSE</li>\n",
       "\t<li>FALSE</li>\n",
       "\t<li>TRUE</li>\n",
       "\t<li>FALSE</li>\n",
       "\t<li>TRUE</li>\n",
       "\t<li>TRUE</li>\n",
       "\t<li>TRUE</li>\n",
       "\t<li>FALSE</li>\n",
       "\t<li>TRUE</li>\n",
       "\t<li>TRUE</li>\n",
       "\t<li>FALSE</li>\n",
       "\t<li>TRUE</li>\n",
       "\t<li>FALSE</li>\n",
       "\t<li>TRUE</li>\n",
       "\t<li>FALSE</li>\n",
       "\t<li>TRUE</li>\n",
       "\t<li>TRUE</li>\n",
       "\t<li>TRUE</li>\n",
       "</ol>\n"
      ],
      "text/latex": [
       "\\begin{enumerate*}\n",
       "\\item TRUE\n",
       "\\item FALSE\n",
       "\\item TRUE\n",
       "\\item TRUE\n",
       "\\item TRUE\n",
       "\\item TRUE\n",
       "\\item TRUE\n",
       "\\item FALSE\n",
       "\\item FALSE\n",
       "\\item TRUE\n",
       "\\item FALSE\n",
       "\\item TRUE\n",
       "\\item TRUE\n",
       "\\item TRUE\n",
       "\\item FALSE\n",
       "\\item TRUE\n",
       "\\item TRUE\n",
       "\\item FALSE\n",
       "\\item TRUE\n",
       "\\item FALSE\n",
       "\\item TRUE\n",
       "\\item FALSE\n",
       "\\item TRUE\n",
       "\\item TRUE\n",
       "\\item TRUE\n",
       "\\end{enumerate*}\n"
      ],
      "text/markdown": [
       "1. TRUE\n",
       "2. FALSE\n",
       "3. TRUE\n",
       "4. TRUE\n",
       "5. TRUE\n",
       "6. TRUE\n",
       "7. TRUE\n",
       "8. FALSE\n",
       "9. FALSE\n",
       "10. TRUE\n",
       "11. FALSE\n",
       "12. TRUE\n",
       "13. TRUE\n",
       "14. TRUE\n",
       "15. FALSE\n",
       "16. TRUE\n",
       "17. TRUE\n",
       "18. FALSE\n",
       "19. TRUE\n",
       "20. FALSE\n",
       "21. TRUE\n",
       "22. FALSE\n",
       "23. TRUE\n",
       "24. TRUE\n",
       "25. TRUE\n",
       "\n",
       "\n"
      ],
      "text/plain": [
       " [1]  TRUE FALSE  TRUE  TRUE  TRUE  TRUE  TRUE FALSE FALSE  TRUE FALSE  TRUE\n",
       "[13]  TRUE  TRUE FALSE  TRUE  TRUE FALSE  TRUE FALSE  TRUE FALSE  TRUE  TRUE\n",
       "[25]  TRUE"
      ]
     },
     "metadata": {},
     "output_type": "display_data"
    }
   ],
   "source": [
    "df[,3]\n",
    "df[,\"smoker\"]\n"
   ]
  },
  {
   "cell_type": "code",
   "execution_count": 39,
   "metadata": {
    "collapsed": false
   },
   "outputs": [
    {
     "data": {
      "text/html": [
       "<ol class=list-inline>\n",
       "\t<li>22.4766082017068</li>\n",
       "\t<li>19.4413074362915</li>\n",
       "\t<li>23.5158061796214</li>\n",
       "\t<li>21.1214921817761</li>\n",
       "\t<li>19.0944320548937</li>\n",
       "\t<li>18.3359134077643</li>\n",
       "\t<li>17.6668589058306</li>\n",
       "\t<li>17.8688188392234</li>\n",
       "\t<li>16.872435897858</li>\n",
       "\t<li>22.3130739943004</li>\n",
       "\t<li>21.6640942571448</li>\n",
       "\t<li>19.5453426171505</li>\n",
       "\t<li>20.5322747233442</li>\n",
       "\t<li>19.2465945628327</li>\n",
       "\t<li>24.8827292577892</li>\n",
       "\t<li>18.4093217654893</li>\n",
       "\t<li>19.8902450525768</li>\n",
       "\t<li>20.5002826457083</li>\n",
       "\t<li>21.2364865871325</li>\n",
       "\t<li>19.6547529947083</li>\n",
       "\t<li>15.5521994519801</li>\n",
       "\t<li>17.4727712300588</li>\n",
       "\t<li>20.7174577919427</li>\n",
       "\t<li>19.9779090430687</li>\n",
       "\t<li>18.1187016747628</li>\n",
       "</ol>\n"
      ],
      "text/latex": [
       "\\begin{enumerate*}\n",
       "\\item 22.4766082017068\n",
       "\\item 19.4413074362915\n",
       "\\item 23.5158061796214\n",
       "\\item 21.1214921817761\n",
       "\\item 19.0944320548937\n",
       "\\item 18.3359134077643\n",
       "\\item 17.6668589058306\n",
       "\\item 17.8688188392234\n",
       "\\item 16.872435897858\n",
       "\\item 22.3130739943004\n",
       "\\item 21.6640942571448\n",
       "\\item 19.5453426171505\n",
       "\\item 20.5322747233442\n",
       "\\item 19.2465945628327\n",
       "\\item 24.8827292577892\n",
       "\\item 18.4093217654893\n",
       "\\item 19.8902450525768\n",
       "\\item 20.5002826457083\n",
       "\\item 21.2364865871325\n",
       "\\item 19.6547529947083\n",
       "\\item 15.5521994519801\n",
       "\\item 17.4727712300588\n",
       "\\item 20.7174577919427\n",
       "\\item 19.9779090430687\n",
       "\\item 18.1187016747628\n",
       "\\end{enumerate*}\n"
      ],
      "text/markdown": [
       "1. 22.4766082017068\n",
       "2. 19.4413074362915\n",
       "3. 23.5158061796214\n",
       "4. 21.1214921817761\n",
       "5. 19.0944320548937\n",
       "6. 18.3359134077643\n",
       "7. 17.6668589058306\n",
       "8. 17.8688188392234\n",
       "9. 16.872435897858\n",
       "10. 22.3130739943004\n",
       "11. 21.6640942571448\n",
       "12. 19.5453426171505\n",
       "13. 20.5322747233442\n",
       "14. 19.2465945628327\n",
       "15. 24.8827292577892\n",
       "16. 18.4093217654893\n",
       "17. 19.8902450525768\n",
       "18. 20.5002826457083\n",
       "19. 21.2364865871325\n",
       "20. 19.6547529947083\n",
       "21. 15.5521994519801\n",
       "22. 17.4727712300588\n",
       "23. 20.7174577919427\n",
       "24. 19.9779090430687\n",
       "25. 18.1187016747628\n",
       "\n",
       "\n"
      ],
      "text/plain": [
       " [1] 22.47661 19.44131 23.51581 21.12149 19.09443 18.33591 17.66686 17.86882\n",
       " [9] 16.87244 22.31307 21.66409 19.54534 20.53227 19.24659 24.88273 18.40932\n",
       "[17] 19.89025 20.50028 21.23649 19.65475 15.55220 17.47277 20.71746 19.97791\n",
       "[25] 18.11870"
      ]
     },
     "metadata": {},
     "output_type": "display_data"
    }
   ],
   "source": [
    "a = \"BMI\"\n",
    "df[, a]"
   ]
  },
  {
   "cell_type": "markdown",
   "metadata": {
    "collapsed": true
   },
   "source": [
    "## Subsetting\n",
    "When we talk about subsetting data frames we usually mean selection of rows while keeping columns. But if you want to only kjeep some columns, use techniquest presented above. \n",
    "\n",
    "There are many ways how to subset a data frame. The first thing to realise is that data frame is a list of vectors, therefore we can use similar functionality that lists have. The df[ROW, COLUMN] will also come in handy. If in doubt, go back to varaibles lecture about lists."
   ]
  },
  {
   "cell_type": "markdown",
   "metadata": {},
   "source": [
    "Basically we have two major ways of subsetting - using common indexing or using functions"
   ]
  },
  {
   "cell_type": "markdown",
   "metadata": {},
   "source": [
    "### Indexing\n",
    "Indexing is possible with the use of either logical vectors or indices of rows. Imagine following daat frame\n",
    "\n",
    "|age | smoker | weight |\n",
    "|----|--------|--------|\n",
    "| 17 |   yes  |  65    |\n",
    "| 23 |   yes  |  87    |\n",
    "| 25 |   no   |  74    |\n"
   ]
  },
  {
   "cell_type": "code",
   "execution_count": 40,
   "metadata": {
    "collapsed": true
   },
   "outputs": [],
   "source": [
    "small_df = data.frame(age = c(17, 23, 25), smoker = c(T, T, F), weight = c(65, 87, 74))"
   ]
  },
  {
   "cell_type": "markdown",
   "metadata": {},
   "source": [
    "That means that you select the second row in these two ways."
   ]
  },
  {
   "cell_type": "code",
   "execution_count": 41,
   "metadata": {
    "collapsed": false,
    "scrolled": true
   },
   "outputs": [
    {
     "data": {
      "text/html": [
       "<table>\n",
       "<thead><tr><th></th><th scope=col>age</th><th scope=col>smoker</th><th scope=col>weight</th></tr></thead>\n",
       "<tbody>\n",
       "\t<tr><th scope=row>2</th><td>23</td><td> 1</td><td>87</td></tr>\n",
       "</tbody>\n",
       "</table>\n"
      ],
      "text/latex": [
       "\\begin{tabular}{r|lll}\n",
       "  & age & smoker & weight\\\\\n",
       "\\hline\n",
       "\t2 & 23 &  1 & 87\\\\\n",
       "\\end{tabular}\n"
      ],
      "text/plain": [
       "  age smoker weight\n",
       "2  23   TRUE     87"
      ]
     },
     "metadata": {},
     "output_type": "display_data"
    },
    {
     "data": {
      "text/html": [
       "<table>\n",
       "<thead><tr><th></th><th scope=col>age</th><th scope=col>smoker</th><th scope=col>weight</th></tr></thead>\n",
       "<tbody>\n",
       "\t<tr><th scope=row>2</th><td>23</td><td> 1</td><td>87</td></tr>\n",
       "</tbody>\n",
       "</table>\n"
      ],
      "text/latex": [
       "\\begin{tabular}{r|lll}\n",
       "  & age & smoker & weight\\\\\n",
       "\\hline\n",
       "\t2 & 23 &  1 & 87\\\\\n",
       "\\end{tabular}\n"
      ],
      "text/plain": [
       "  age smoker weight\n",
       "2  23   TRUE     87"
      ]
     },
     "metadata": {},
     "output_type": "display_data"
    }
   ],
   "source": [
    "small_df[c(F, T, F),]\n",
    "small_df[2,]"
   ]
  },
  {
   "cell_type": "markdown",
   "metadata": {},
   "source": [
    "#### Number indexing"
   ]
  },
  {
   "cell_type": "code",
   "execution_count": 42,
   "metadata": {
    "collapsed": false
   },
   "outputs": [
    {
     "data": {
      "text/html": [
       "<ol class=list-inline>\n",
       "\t<li>4</li>\n",
       "\t<li>6</li>\n",
       "\t<li>7</li>\n",
       "\t<li>17</li>\n",
       "\t<li>21</li>\n",
       "</ol>\n"
      ],
      "text/latex": [
       "\\begin{enumerate*}\n",
       "\\item 4\n",
       "\\item 6\n",
       "\\item 7\n",
       "\\item 17\n",
       "\\item 21\n",
       "\\end{enumerate*}\n"
      ],
      "text/markdown": [
       "1. 4\n",
       "2. 6\n",
       "3. 7\n",
       "4. 17\n",
       "5. 21\n",
       "\n",
       "\n"
      ],
      "text/plain": [
       "[1]  4  6  7 17 21"
      ]
     },
     "metadata": {},
     "output_type": "display_data"
    },
    {
     "data": {
      "text/html": [
       "<table>\n",
       "<thead><tr><th></th><th scope=col>age</th><th scope=col>gender</th><th scope=col>smoker</th><th scope=col>BMI</th></tr></thead>\n",
       "<tbody>\n",
       "\t<tr><th scope=row>4</th><td>24              </td><td>female          </td><td>1               </td><td>21.1214921817761</td></tr>\n",
       "\t<tr><th scope=row>6</th><td>24              </td><td>male            </td><td>1               </td><td>18.3359134077643</td></tr>\n",
       "\t<tr><th scope=row>7</th><td>25              </td><td>female          </td><td>1               </td><td>17.6668589058306</td></tr>\n",
       "\t<tr><th scope=row>17</th><td>21              </td><td>female          </td><td>1               </td><td>19.8902450525768</td></tr>\n",
       "\t<tr><th scope=row>21</th><td>24              </td><td>female          </td><td>1               </td><td>15.5521994519801</td></tr>\n",
       "</tbody>\n",
       "</table>\n"
      ],
      "text/latex": [
       "\\begin{tabular}{r|llll}\n",
       "  & age & gender & smoker & BMI\\\\\n",
       "\\hline\n",
       "\t4 & 24               & female           & 1                & 21.1214921817761\\\\\n",
       "\t6 & 24               & male             & 1                & 18.3359134077643\\\\\n",
       "\t7 & 25               & female           & 1                & 17.6668589058306\\\\\n",
       "\t17 & 21               & female           & 1                & 19.8902450525768\\\\\n",
       "\t21 & 24               & female           & 1                & 15.5521994519801\\\\\n",
       "\\end{tabular}\n"
      ],
      "text/plain": [
       "   age gender smoker      BMI\n",
       "4   24 female   TRUE 21.12149\n",
       "6   24   male   TRUE 18.33591\n",
       "7   25 female   TRUE 17.66686\n",
       "17  21 female   TRUE 19.89025\n",
       "21  24 female   TRUE 15.55220"
      ]
     },
     "metadata": {},
     "output_type": "display_data"
    }
   ],
   "source": [
    "age20smoker = which(df$age > 20 & smoker) # creating vector of indices\n",
    "age20smoker\n",
    "df[age20smoker,]"
   ]
  },
  {
   "cell_type": "markdown",
   "metadata": {},
   "source": [
    "#### Logical indexing"
   ]
  },
  {
   "cell_type": "markdown",
   "metadata": {},
   "source": [
    "The use of logical vector style is much more common, but maybe a bit harder to wrap your head around. It basically selects all parts that evaluate to true.\n"
   ]
  },
  {
   "cell_type": "code",
   "execution_count": 43,
   "metadata": {
    "collapsed": false
   },
   "outputs": [
    {
     "data": {
      "text/html": [
       "<ol class=list-inline>\n",
       "\t<li>1</li>\n",
       "\t<li>2</li>\n",
       "\t<li>3</li>\n",
       "\t<li>4</li>\n",
       "\t<li>5</li>\n",
       "\t<li>6</li>\n",
       "\t<li>7</li>\n",
       "\t<li>8</li>\n",
       "\t<li>9</li>\n",
       "\t<li>10</li>\n",
       "</ol>\n"
      ],
      "text/latex": [
       "\\begin{enumerate*}\n",
       "\\item 1\n",
       "\\item 2\n",
       "\\item 3\n",
       "\\item 4\n",
       "\\item 5\n",
       "\\item 6\n",
       "\\item 7\n",
       "\\item 8\n",
       "\\item 9\n",
       "\\item 10\n",
       "\\end{enumerate*}\n"
      ],
      "text/markdown": [
       "1. 1\n",
       "2. 2\n",
       "3. 3\n",
       "4. 4\n",
       "5. 5\n",
       "6. 6\n",
       "7. 7\n",
       "8. 8\n",
       "9. 9\n",
       "10. 10\n",
       "\n",
       "\n"
      ],
      "text/plain": [
       " [1]  1  2  3  4  5  6  7  8  9 10"
      ]
     },
     "metadata": {},
     "output_type": "display_data"
    },
    {
     "data": {
      "text/html": [
       "<ol class=list-inline>\n",
       "\t<li>TRUE</li>\n",
       "\t<li>FALSE</li>\n",
       "\t<li>TRUE</li>\n",
       "\t<li>FALSE</li>\n",
       "\t<li>TRUE</li>\n",
       "\t<li>FALSE</li>\n",
       "\t<li>TRUE</li>\n",
       "\t<li>FALSE</li>\n",
       "\t<li>TRUE</li>\n",
       "\t<li>FALSE</li>\n",
       "</ol>\n"
      ],
      "text/latex": [
       "\\begin{enumerate*}\n",
       "\\item TRUE\n",
       "\\item FALSE\n",
       "\\item TRUE\n",
       "\\item FALSE\n",
       "\\item TRUE\n",
       "\\item FALSE\n",
       "\\item TRUE\n",
       "\\item FALSE\n",
       "\\item TRUE\n",
       "\\item FALSE\n",
       "\\end{enumerate*}\n"
      ],
      "text/markdown": [
       "1. TRUE\n",
       "2. FALSE\n",
       "3. TRUE\n",
       "4. FALSE\n",
       "5. TRUE\n",
       "6. FALSE\n",
       "7. TRUE\n",
       "8. FALSE\n",
       "9. TRUE\n",
       "10. FALSE\n",
       "\n",
       "\n"
      ],
      "text/plain": [
       " [1]  TRUE FALSE  TRUE FALSE  TRUE FALSE  TRUE FALSE  TRUE FALSE"
      ]
     },
     "metadata": {},
     "output_type": "display_data"
    },
    {
     "data": {
      "text/html": [
       "<ol class=list-inline>\n",
       "\t<li>1</li>\n",
       "\t<li>3</li>\n",
       "\t<li>5</li>\n",
       "\t<li>7</li>\n",
       "\t<li>9</li>\n",
       "</ol>\n"
      ],
      "text/latex": [
       "\\begin{enumerate*}\n",
       "\\item 1\n",
       "\\item 3\n",
       "\\item 5\n",
       "\\item 7\n",
       "\\item 9\n",
       "\\end{enumerate*}\n"
      ],
      "text/markdown": [
       "1. 1\n",
       "2. 3\n",
       "3. 5\n",
       "4. 7\n",
       "5. 9\n",
       "\n",
       "\n"
      ],
      "text/plain": [
       "[1] 1 3 5 7 9"
      ]
     },
     "metadata": {},
     "output_type": "display_data"
    }
   ],
   "source": [
    "numbers = 1:10\n",
    "log = rep(c(T,F), 5)\n",
    "numbers\n",
    "log\n",
    "numbers[log]"
   ]
  },
  {
   "cell_type": "markdown",
   "metadata": {},
   "source": [
    "You can use logical vector of the "
   ]
  },
  {
   "cell_type": "code",
   "execution_count": 44,
   "metadata": {
    "collapsed": false
   },
   "outputs": [
    {
     "data": {
      "text/html": [
       "<ol class=list-inline>\n",
       "\t<li>FALSE</li>\n",
       "\t<li>FALSE</li>\n",
       "\t<li>FALSE</li>\n",
       "\t<li>TRUE</li>\n",
       "\t<li>FALSE</li>\n",
       "\t<li>TRUE</li>\n",
       "\t<li>TRUE</li>\n",
       "\t<li>FALSE</li>\n",
       "\t<li>FALSE</li>\n",
       "\t<li>FALSE</li>\n",
       "\t<li>FALSE</li>\n",
       "\t<li>FALSE</li>\n",
       "\t<li>FALSE</li>\n",
       "\t<li>FALSE</li>\n",
       "\t<li>FALSE</li>\n",
       "\t<li>FALSE</li>\n",
       "\t<li>TRUE</li>\n",
       "\t<li>FALSE</li>\n",
       "\t<li>FALSE</li>\n",
       "\t<li>FALSE</li>\n",
       "\t<li>TRUE</li>\n",
       "\t<li>FALSE</li>\n",
       "\t<li>FALSE</li>\n",
       "\t<li>FALSE</li>\n",
       "\t<li>FALSE</li>\n",
       "</ol>\n"
      ],
      "text/latex": [
       "\\begin{enumerate*}\n",
       "\\item FALSE\n",
       "\\item FALSE\n",
       "\\item FALSE\n",
       "\\item TRUE\n",
       "\\item FALSE\n",
       "\\item TRUE\n",
       "\\item TRUE\n",
       "\\item FALSE\n",
       "\\item FALSE\n",
       "\\item FALSE\n",
       "\\item FALSE\n",
       "\\item FALSE\n",
       "\\item FALSE\n",
       "\\item FALSE\n",
       "\\item FALSE\n",
       "\\item FALSE\n",
       "\\item TRUE\n",
       "\\item FALSE\n",
       "\\item FALSE\n",
       "\\item FALSE\n",
       "\\item TRUE\n",
       "\\item FALSE\n",
       "\\item FALSE\n",
       "\\item FALSE\n",
       "\\item FALSE\n",
       "\\end{enumerate*}\n"
      ],
      "text/markdown": [
       "1. FALSE\n",
       "2. FALSE\n",
       "3. FALSE\n",
       "4. TRUE\n",
       "5. FALSE\n",
       "6. TRUE\n",
       "7. TRUE\n",
       "8. FALSE\n",
       "9. FALSE\n",
       "10. FALSE\n",
       "11. FALSE\n",
       "12. FALSE\n",
       "13. FALSE\n",
       "14. FALSE\n",
       "15. FALSE\n",
       "16. FALSE\n",
       "17. TRUE\n",
       "18. FALSE\n",
       "19. FALSE\n",
       "20. FALSE\n",
       "21. TRUE\n",
       "22. FALSE\n",
       "23. FALSE\n",
       "24. FALSE\n",
       "25. FALSE\n",
       "\n",
       "\n"
      ],
      "text/plain": [
       " [1] FALSE FALSE FALSE  TRUE FALSE  TRUE  TRUE FALSE FALSE FALSE FALSE FALSE\n",
       "[13] FALSE FALSE FALSE FALSE  TRUE FALSE FALSE FALSE  TRUE FALSE FALSE FALSE\n",
       "[25] FALSE"
      ]
     },
     "metadata": {},
     "output_type": "display_data"
    },
    {
     "data": {
      "text/html": [
       "<table>\n",
       "<thead><tr><th></th><th scope=col>age</th><th scope=col>gender</th><th scope=col>smoker</th><th scope=col>BMI</th></tr></thead>\n",
       "<tbody>\n",
       "\t<tr><th scope=row>4</th><td>24              </td><td>female          </td><td>1               </td><td>21.1214921817761</td></tr>\n",
       "\t<tr><th scope=row>6</th><td>24              </td><td>male            </td><td>1               </td><td>18.3359134077643</td></tr>\n",
       "\t<tr><th scope=row>7</th><td>25              </td><td>female          </td><td>1               </td><td>17.6668589058306</td></tr>\n",
       "\t<tr><th scope=row>17</th><td>21              </td><td>female          </td><td>1               </td><td>19.8902450525768</td></tr>\n",
       "\t<tr><th scope=row>21</th><td>24              </td><td>female          </td><td>1               </td><td>15.5521994519801</td></tr>\n",
       "</tbody>\n",
       "</table>\n"
      ],
      "text/latex": [
       "\\begin{tabular}{r|llll}\n",
       "  & age & gender & smoker & BMI\\\\\n",
       "\\hline\n",
       "\t4 & 24               & female           & 1                & 21.1214921817761\\\\\n",
       "\t6 & 24               & male             & 1                & 18.3359134077643\\\\\n",
       "\t7 & 25               & female           & 1                & 17.6668589058306\\\\\n",
       "\t17 & 21               & female           & 1                & 19.8902450525768\\\\\n",
       "\t21 & 24               & female           & 1                & 15.5521994519801\\\\\n",
       "\\end{tabular}\n"
      ],
      "text/plain": [
       "   age gender smoker      BMI\n",
       "4   24 female   TRUE 21.12149\n",
       "6   24   male   TRUE 18.33591\n",
       "7   25 female   TRUE 17.66686\n",
       "17  21 female   TRUE 19.89025\n",
       "21  24 female   TRUE 15.55220"
      ]
     },
     "metadata": {},
     "output_type": "display_data"
    }
   ],
   "source": [
    "age20smoker = age > 20 & smoker #creating logical vector\n",
    "age20smoker\n",
    "df[age20smoker,]"
   ]
  },
  {
   "cell_type": "code",
   "execution_count": 45,
   "metadata": {
    "collapsed": false
   },
   "outputs": [
    {
     "data": {
      "text/html": [
       "<ol class=list-inline>\n",
       "\t<li>FALSE</li>\n",
       "\t<li>FALSE</li>\n",
       "\t<li>FALSE</li>\n",
       "\t<li>FALSE</li>\n",
       "\t<li>FALSE</li>\n",
       "\t<li>FALSE</li>\n",
       "\t<li>FALSE</li>\n",
       "\t<li>FALSE</li>\n",
       "\t<li>FALSE</li>\n",
       "\t<li>FALSE</li>\n",
       "\t<li>FALSE</li>\n",
       "\t<li>FALSE</li>\n",
       "\t<li>FALSE</li>\n",
       "\t<li>FALSE</li>\n",
       "\t<li>FALSE</li>\n",
       "\t<li>FALSE</li>\n",
       "\t<li>FALSE</li>\n",
       "\t<li>FALSE</li>\n",
       "\t<li>FALSE</li>\n",
       "\t<li>FALSE</li>\n",
       "\t<li>FALSE</li>\n",
       "\t<li>FALSE</li>\n",
       "\t<li>FALSE</li>\n",
       "\t<li>FALSE</li>\n",
       "\t<li>TRUE</li>\n",
       "</ol>\n"
      ],
      "text/latex": [
       "\\begin{enumerate*}\n",
       "\\item FALSE\n",
       "\\item FALSE\n",
       "\\item FALSE\n",
       "\\item FALSE\n",
       "\\item FALSE\n",
       "\\item FALSE\n",
       "\\item FALSE\n",
       "\\item FALSE\n",
       "\\item FALSE\n",
       "\\item FALSE\n",
       "\\item FALSE\n",
       "\\item FALSE\n",
       "\\item FALSE\n",
       "\\item FALSE\n",
       "\\item FALSE\n",
       "\\item FALSE\n",
       "\\item FALSE\n",
       "\\item FALSE\n",
       "\\item FALSE\n",
       "\\item FALSE\n",
       "\\item FALSE\n",
       "\\item FALSE\n",
       "\\item FALSE\n",
       "\\item FALSE\n",
       "\\item TRUE\n",
       "\\end{enumerate*}\n"
      ],
      "text/markdown": [
       "1. FALSE\n",
       "2. FALSE\n",
       "3. FALSE\n",
       "4. FALSE\n",
       "5. FALSE\n",
       "6. FALSE\n",
       "7. FALSE\n",
       "8. FALSE\n",
       "9. FALSE\n",
       "10. FALSE\n",
       "11. FALSE\n",
       "12. FALSE\n",
       "13. FALSE\n",
       "14. FALSE\n",
       "15. FALSE\n",
       "16. FALSE\n",
       "17. FALSE\n",
       "18. FALSE\n",
       "19. FALSE\n",
       "20. FALSE\n",
       "21. FALSE\n",
       "22. FALSE\n",
       "23. FALSE\n",
       "24. FALSE\n",
       "25. TRUE\n",
       "\n",
       "\n"
      ],
      "text/plain": [
       " [1] FALSE FALSE FALSE FALSE FALSE FALSE FALSE FALSE FALSE FALSE FALSE FALSE\n",
       "[13] FALSE FALSE FALSE FALSE FALSE FALSE FALSE FALSE FALSE FALSE FALSE FALSE\n",
       "[25]  TRUE"
      ]
     },
     "metadata": {},
     "output_type": "display_data"
    },
    {
     "data": {
      "text/html": [
       "<table>\n",
       "<thead><tr><th></th><th scope=col>age</th><th scope=col>gender</th><th scope=col>smoker</th><th scope=col>BMI</th></tr></thead>\n",
       "<tbody>\n",
       "\t<tr><th scope=row>25</th><td>14              </td><td>female          </td><td>1               </td><td>18.1187016747628</td></tr>\n",
       "</tbody>\n",
       "</table>\n"
      ],
      "text/latex": [
       "\\begin{tabular}{r|llll}\n",
       "  & age & gender & smoker & BMI\\\\\n",
       "\\hline\n",
       "\t25 & 14               & female           & 1                & 18.1187016747628\\\\\n",
       "\\end{tabular}\n"
      ],
      "text/plain": [
       "   age gender smoker     BMI\n",
       "25  14 female   TRUE 18.1187"
      ]
     },
     "metadata": {},
     "output_type": "display_data"
    }
   ],
   "source": [
    "select_last = c(rep(F, 24), T)\n",
    "select_last\n",
    "df[select_last,]"
   ]
  },
  {
   "cell_type": "code",
   "execution_count": 46,
   "metadata": {
    "collapsed": false
   },
   "outputs": [
    {
     "data": {
      "text/html": [
       "<ol class=list-inline>\n",
       "\t<li>22.4766082017068</li>\n",
       "\t<li>23.5158061796214</li>\n",
       "\t<li>21.1214921817761</li>\n",
       "\t<li>19.0944320548937</li>\n",
       "\t<li>18.3359134077643</li>\n",
       "\t<li>17.6668589058306</li>\n",
       "\t<li>22.3130739943004</li>\n",
       "\t<li>19.5453426171505</li>\n",
       "\t<li>20.5322747233442</li>\n",
       "\t<li>19.2465945628327</li>\n",
       "\t<li>18.4093217654893</li>\n",
       "\t<li>19.8902450525768</li>\n",
       "\t<li>21.2364865871325</li>\n",
       "\t<li>15.5521994519801</li>\n",
       "\t<li>20.7174577919427</li>\n",
       "\t<li>19.9779090430687</li>\n",
       "\t<li>18.1187016747628</li>\n",
       "</ol>\n"
      ],
      "text/latex": [
       "\\begin{enumerate*}\n",
       "\\item 22.4766082017068\n",
       "\\item 23.5158061796214\n",
       "\\item 21.1214921817761\n",
       "\\item 19.0944320548937\n",
       "\\item 18.3359134077643\n",
       "\\item 17.6668589058306\n",
       "\\item 22.3130739943004\n",
       "\\item 19.5453426171505\n",
       "\\item 20.5322747233442\n",
       "\\item 19.2465945628327\n",
       "\\item 18.4093217654893\n",
       "\\item 19.8902450525768\n",
       "\\item 21.2364865871325\n",
       "\\item 15.5521994519801\n",
       "\\item 20.7174577919427\n",
       "\\item 19.9779090430687\n",
       "\\item 18.1187016747628\n",
       "\\end{enumerate*}\n"
      ],
      "text/markdown": [
       "1. 22.4766082017068\n",
       "2. 23.5158061796214\n",
       "3. 21.1214921817761\n",
       "4. 19.0944320548937\n",
       "5. 18.3359134077643\n",
       "6. 17.6668589058306\n",
       "7. 22.3130739943004\n",
       "8. 19.5453426171505\n",
       "9. 20.5322747233442\n",
       "10. 19.2465945628327\n",
       "11. 18.4093217654893\n",
       "12. 19.8902450525768\n",
       "13. 21.2364865871325\n",
       "14. 15.5521994519801\n",
       "15. 20.7174577919427\n",
       "16. 19.9779090430687\n",
       "17. 18.1187016747628\n",
       "\n",
       "\n"
      ],
      "text/plain": [
       " [1] 22.47661 23.51581 21.12149 19.09443 18.33591 17.66686 22.31307 19.54534\n",
       " [9] 20.53227 19.24659 18.40932 19.89025 21.23649 15.55220 20.71746 19.97791\n",
       "[17] 18.11870"
      ]
     },
     "metadata": {},
     "output_type": "display_data"
    },
    {
     "data": {
      "text/html": [
       "19.8676893056573"
      ],
      "text/latex": [
       "19.8676893056573"
      ],
      "text/markdown": [
       "19.8676893056573"
      ],
      "text/plain": [
       "[1] 19.86769"
      ]
     },
     "metadata": {},
     "output_type": "display_data"
    }
   ],
   "source": [
    "df_smokers = df[smoker,]\n",
    "df_smokers$BMI\n",
    "mean(df_smokers$BMI)"
   ]
  },
  {
   "cell_type": "code",
   "execution_count": 47,
   "metadata": {
    "collapsed": false
   },
   "outputs": [
    {
     "data": {
      "text/html": [
       "<table>\n",
       "<thead><tr><th></th><th scope=col>age</th><th scope=col>gender</th><th scope=col>smoker</th><th scope=col>BMI</th></tr></thead>\n",
       "<tbody>\n",
       "\t<tr><th scope=row>4</th><td>24              </td><td>female          </td><td>1               </td><td>21.1214921817761</td></tr>\n",
       "\t<tr><th scope=row>7</th><td>25              </td><td>female          </td><td>1               </td><td>17.6668589058306</td></tr>\n",
       "\t<tr><th scope=row>18</th><td>25              </td><td>female          </td><td>0               </td><td>20.5002826457083</td></tr>\n",
       "\t<tr><th scope=row>21</th><td>24              </td><td>female          </td><td>1               </td><td>15.5521994519801</td></tr>\n",
       "</tbody>\n",
       "</table>\n"
      ],
      "text/latex": [
       "\\begin{tabular}{r|llll}\n",
       "  & age & gender & smoker & BMI\\\\\n",
       "\\hline\n",
       "\t4 & 24               & female           & 1                & 21.1214921817761\\\\\n",
       "\t7 & 25               & female           & 1                & 17.6668589058306\\\\\n",
       "\t18 & 25               & female           & 0                & 20.5002826457083\\\\\n",
       "\t21 & 24               & female           & 1                & 15.5521994519801\\\\\n",
       "\\end{tabular}\n"
      ],
      "text/plain": [
       "   age gender smoker      BMI\n",
       "4   24 female   TRUE 21.12149\n",
       "7   25 female   TRUE 17.66686\n",
       "18  25 female  FALSE 20.50028\n",
       "21  24 female   TRUE 15.55220"
      ]
     },
     "metadata": {},
     "output_type": "display_data"
    }
   ],
   "source": [
    "zeny = gender == \"female\"\n",
    "age22 = age > 22\n",
    "zeny22 = zeny & age22\n",
    "df[zeny22,]"
   ]
  },
  {
   "cell_type": "code",
   "execution_count": 48,
   "metadata": {
    "collapsed": false
   },
   "outputs": [
    {
     "data": {
      "text/html": [
       "<ol class=list-inline>\n",
       "\t<li>19.4413074362915</li>\n",
       "\t<li>17.8688188392234</li>\n",
       "\t<li>16.872435897858</li>\n",
       "\t<li>24.8827292577892</li>\n",
       "\t<li>17.4727712300588</li>\n",
       "</ol>\n"
      ],
      "text/latex": [
       "\\begin{enumerate*}\n",
       "\\item 19.4413074362915\n",
       "\\item 17.8688188392234\n",
       "\\item 16.872435897858\n",
       "\\item 24.8827292577892\n",
       "\\item 17.4727712300588\n",
       "\\end{enumerate*}\n"
      ],
      "text/markdown": [
       "1. 19.4413074362915\n",
       "2. 17.8688188392234\n",
       "3. 16.872435897858\n",
       "4. 24.8827292577892\n",
       "5. 17.4727712300588\n",
       "\n",
       "\n"
      ],
      "text/plain": [
       "[1] 19.44131 17.86882 16.87244 24.88273 17.47277"
      ]
     },
     "metadata": {},
     "output_type": "display_data"
    }
   ],
   "source": [
    "# maximal BMI \"male\" age < 24 non-smoker\n",
    "males = gender == \"male\"\n",
    "age24 = age < 24\n",
    "nonsmoker = !smoker\n",
    "male24nonsmoker = males & age24 & nonsmoker\n",
    "df[male24nonsmoker,]$BMI"
   ]
  }
 ],
 "metadata": {
  "kernelspec": {
   "display_name": "R",
   "language": "R",
   "name": "ir"
  },
  "language_info": {
   "codemirror_mode": "r",
   "file_extension": ".r",
   "mimetype": "text/x-r-source",
   "name": "R",
   "pygments_lexer": "r",
   "version": "3.2.3"
  }
 },
 "nbformat": 4,
 "nbformat_minor": 0
}
