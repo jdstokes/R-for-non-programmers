{
 "cells": [
  {
   "cell_type": "markdown",
   "metadata": {},
   "source": [
    "# Recoding variables\n",
    "\n",
    "Sometimes you need to recompute varialbes, create new ones or simply recode strings to numers, strings to logicals or numbers to logical values.\n",
    "\n",
    "For example look at this table:"
   ]
  },
  {
   "cell_type": "code",
   "execution_count": 1,
   "metadata": {
    "collapsed": false
   },
   "outputs": [
    {
     "data": {
      "text/html": [
       "<table>\n",
       "<thead><tr><th></th><th scope=col>play.ID</th><th scope=col>game.ID</th><th scope=col>game.name</th><th scope=col>userid</th><th scope=col>date</th><th scope=col>quantity</th><th scope=col>location</th><th scope=col>length</th><th scope=col>incomplete</th><th scope=col>nowinstats</th><th scope=col>...</th><th scope=col>player.7.rating</th><th scope=col>player.7.win</th><th scope=col>player.8.username</th><th scope=col>player.8.name</th><th scope=col>player.8.startposition</th><th scope=col>player.8.color</th><th scope=col>player.8.score</th><th scope=col>player.8.new</th><th scope=col>player.8.rating</th><th scope=col>player.8.win</th></tr></thead>\n",
       "<tbody>\n",
       "\t<tr><th scope=row>1</th><td>9912835   </td><td>91536     </td><td>Quarriors!</td><td>NA        </td><td>2013-08-05</td><td>NA        </td><td>Roztoky   </td><td>20        </td><td>NA        </td><td>NA        </td><td>...       </td><td>NA        </td><td>NA        </td><td>NA        </td><td>          </td><td>NA        </td><td>NA        </td><td>NA        </td><td>NA        </td><td>NA        </td><td>NA        </td></tr>\n",
       "\t<tr><th scope=row>2</th><td>9912984    </td><td>40692      </td><td>Small World</td><td>NA         </td><td>2013-08-05 </td><td>NA         </td><td>Roztoky    </td><td>35         </td><td>NA         </td><td>NA         </td><td>...        </td><td>NA         </td><td>NA         </td><td>NA         </td><td>           </td><td>NA         </td><td>NA         </td><td>NA         </td><td>NA         </td><td>NA         </td><td>NA         </td></tr>\n",
       "\t<tr><th scope=row>3</th><td>9913062   </td><td>91536     </td><td>Quarriors!</td><td>NA        </td><td>2013-08-05</td><td>NA        </td><td>Roztoky   </td><td>20        </td><td>NA        </td><td>NA        </td><td>...       </td><td>NA        </td><td>NA        </td><td>NA        </td><td>          </td><td>NA        </td><td>NA        </td><td>NA        </td><td>NA        </td><td>NA        </td><td>NA        </td></tr>\n",
       "\t<tr><th scope=row>4</th><td>9953882               </td><td>96848                 </td><td>Mage Knight Board Game</td><td>NA                    </td><td>2013-08-11            </td><td>NA                    </td><td>NiÅ¾bor               </td><td>300                   </td><td>NA                    </td><td>NA                    </td><td>...                   </td><td>NA                    </td><td>NA                    </td><td>NA                    </td><td>                      </td><td>NA                    </td><td>NA                    </td><td>NA                    </td><td>NA                    </td><td>NA                    </td><td>NA                    </td></tr>\n",
       "\t<tr><th scope=row>5</th><td>9953895      </td><td>95234        </td><td>Cthulhu Gloom</td><td>NA           </td><td>1970-08-09   </td><td>NA           </td><td>NiÅ¾bor      </td><td>200          </td><td>NA           </td><td>NA           </td><td>...          </td><td>NA           </td><td>NA           </td><td>NA           </td><td>             </td><td>NA           </td><td>NA           </td><td>NA           </td><td>NA           </td><td>NA           </td><td>NA           </td></tr>\n",
       "\t<tr><th scope=row>6</th><td>9953904    </td><td>40692      </td><td>Small World</td><td>NA         </td><td>2013-08-10 </td><td>NA         </td><td>NiÅ¾bor    </td><td>120        </td><td>NA         </td><td>NA         </td><td>...        </td><td>NA         </td><td>NA         </td><td>NA         </td><td>           </td><td>NA         </td><td>NA         </td><td>NA         </td><td>NA         </td><td>NA         </td><td>NA         </td></tr>\n",
       "</tbody>\n",
       "</table>\n"
      ],
      "text/latex": [
       "\\begin{tabular}{r|lllllllllllllllllllllllllllllllllllllllllllllllllllllllllllllllllllllllllll}\n",
       "  & play.ID & game.ID & game.name & userid & date & quantity & location & length & incomplete & nowinstats & ... & player.7.rating & player.7.win & player.8.username & player.8.name & player.8.startposition & player.8.color & player.8.score & player.8.new & player.8.rating & player.8.win\\\\\n",
       "\\hline\n",
       "\t1 & 9912835    & 91536      & Quarriors! & NA         & 2013-08-05 & NA         & Roztoky    & 20         & NA         & NA         & ...        & NA         & NA         & NA         &            & NA         & NA         & NA         & NA         & NA         & NA        \\\\\n",
       "\t2 & 9912984     & 40692       & Small World & NA          & 2013-08-05  & NA          & Roztoky     & 35          & NA          & NA          & ...         & NA          & NA          & NA          &             & NA          & NA          & NA          & NA          & NA          & NA         \\\\\n",
       "\t3 & 9913062    & 91536      & Quarriors! & NA         & 2013-08-05 & NA         & Roztoky    & 20         & NA         & NA         & ...        & NA         & NA         & NA         &            & NA         & NA         & NA         & NA         & NA         & NA        \\\\\n",
       "\t4 & 9953882                & 96848                  & Mage Knight Board Game & NA                     & 2013-08-11             & NA                     & NiÅ¾bor                & 300                    & NA                     & NA                     & ...                    & NA                     & NA                     & NA                     &                        & NA                     & NA                     & NA                     & NA                     & NA                     & NA                    \\\\\n",
       "\t5 & 9953895       & 95234         & Cthulhu Gloom & NA            & 1970-08-09    & NA            & NiÅ¾bor       & 200           & NA            & NA            & ...           & NA            & NA            & NA            &               & NA            & NA            & NA            & NA            & NA            & NA           \\\\\n",
       "\t6 & 9953904     & 40692       & Small World & NA          & 2013-08-10  & NA          & NiÅ¾bor     & 120         & NA          & NA          & ...         & NA          & NA          & NA          &             & NA          & NA          & NA          & NA          & NA          & NA         \\\\\n",
       "\\end{tabular}\n"
      ],
      "text/plain": [
       "  play.ID game.ID              game.name userid       date quantity location\n",
       "1 9912835   91536             Quarriors!     NA 2013-08-05       NA  Roztoky\n",
       "2 9912984   40692            Small World     NA 2013-08-05       NA  Roztoky\n",
       "3 9913062   91536             Quarriors!     NA 2013-08-05       NA  Roztoky\n",
       "4 9953882   96848 Mage Knight Board Game     NA 2013-08-11       NA  NiÅ¾bor\n",
       "5 9953895   95234          Cthulhu Gloom     NA 1970-08-09       NA  NiÅ¾bor\n",
       "6 9953904   40692            Small World     NA 2013-08-10       NA  NiÅ¾bor\n",
       "  length incomplete nowinstats ... player.7.rating player.7.win\n",
       "1     20         NA         NA ...              NA           NA\n",
       "2     35         NA         NA ...              NA           NA\n",
       "3     20         NA         NA ...              NA           NA\n",
       "4    300         NA         NA ...              NA           NA\n",
       "5    200         NA         NA ...              NA           NA\n",
       "6    120         NA         NA ...              NA           NA\n",
       "  player.8.username player.8.name player.8.startposition player.8.color\n",
       "1                NA                                   NA             NA\n",
       "2                NA                                   NA             NA\n",
       "3                NA                                   NA             NA\n",
       "4                NA                                   NA             NA\n",
       "5                NA                                   NA             NA\n",
       "6                NA                                   NA             NA\n",
       "  player.8.score player.8.new player.8.rating player.8.win\n",
       "1             NA           NA              NA           NA\n",
       "2             NA           NA              NA           NA\n",
       "3             NA           NA              NA           NA\n",
       "4             NA           NA              NA           NA\n",
       "5             NA           NA              NA           NA\n",
       "6             NA           NA              NA           NA"
      ]
     },
     "metadata": {},
     "output_type": "display_data"
    }
   ],
   "source": [
    "plays = read.table(\"../../data//hejtmy-plays.csv\", sep = \",\", header = T)\n",
    "head(plays)"
   ]
  },
  {
   "cell_type": "code",
   "execution_count": 2,
   "metadata": {
    "collapsed": false
   },
   "outputs": [
    {
     "data": {
      "text/html": [
       "75"
      ],
      "text/latex": [
       "75"
      ],
      "text/markdown": [
       "75"
      ],
      "text/plain": [
       "[1] 75"
      ]
     },
     "metadata": {},
     "output_type": "display_data"
    }
   ],
   "source": [
    "length(names(plays))"
   ]
  },
  {
   "cell_type": "markdown",
   "metadata": {},
   "source": [
    "Do you see the weird symbols in the location column? For some reason te table looks alright when we open it in text editor but gets screwed during upload. Well, this is the time to read up on the ENCODING. As it turns out, default encoding that is set by the ```read.table``` function is ANSI. But our file contains non ansi symbols and is encoded with utf-8. Therefore we need to fix it by recoding the column.\n",
    "\n",
    "Unfortunatelly that is nore fdifficult when the table is already loaded and would need to be done for all columns, so let's just have a look at read.table parameters and fix it."
   ]
  },
  {
   "cell_type": "code",
   "execution_count": 3,
   "metadata": {
    "collapsed": false
   },
   "outputs": [
    {
     "data": {
      "text/html": [
       "<table>\n",
       "<thead><tr><th></th><th scope=col>play.ID</th><th scope=col>game.ID</th><th scope=col>game.name</th><th scope=col>userid</th><th scope=col>date</th><th scope=col>quantity</th><th scope=col>location</th><th scope=col>length</th><th scope=col>incomplete</th><th scope=col>nowinstats</th><th scope=col>...</th><th scope=col>player.7.rating</th><th scope=col>player.7.win</th><th scope=col>player.8.username</th><th scope=col>player.8.name</th><th scope=col>player.8.startposition</th><th scope=col>player.8.color</th><th scope=col>player.8.score</th><th scope=col>player.8.new</th><th scope=col>player.8.rating</th><th scope=col>player.8.win</th></tr></thead>\n",
       "<tbody>\n",
       "\t<tr><th scope=row>1</th><td>9912835   </td><td>91536     </td><td>Quarriors!</td><td>NA        </td><td>2013-08-05</td><td>NA        </td><td>Roztoky   </td><td>20        </td><td>NA        </td><td>NA        </td><td>...       </td><td>NA        </td><td>NA        </td><td>NA        </td><td>          </td><td>NA        </td><td>NA        </td><td>NA        </td><td>NA        </td><td>NA        </td><td>NA        </td></tr>\n",
       "\t<tr><th scope=row>2</th><td>9912984    </td><td>40692      </td><td>Small World</td><td>NA         </td><td>2013-08-05 </td><td>NA         </td><td>Roztoky    </td><td>35         </td><td>NA         </td><td>NA         </td><td>...        </td><td>NA         </td><td>NA         </td><td>NA         </td><td>           </td><td>NA         </td><td>NA         </td><td>NA         </td><td>NA         </td><td>NA         </td><td>NA         </td></tr>\n",
       "\t<tr><th scope=row>3</th><td>9913062   </td><td>91536     </td><td>Quarriors!</td><td>NA        </td><td>2013-08-05</td><td>NA        </td><td>Roztoky   </td><td>20        </td><td>NA        </td><td>NA        </td><td>...       </td><td>NA        </td><td>NA        </td><td>NA        </td><td>          </td><td>NA        </td><td>NA        </td><td>NA        </td><td>NA        </td><td>NA        </td><td>NA        </td></tr>\n",
       "\t<tr><th scope=row>4</th><td>9953882               </td><td>96848                 </td><td>Mage Knight Board Game</td><td>NA                    </td><td>2013-08-11            </td><td>NA                    </td><td>Nižbor                </td><td>300                   </td><td>NA                    </td><td>NA                    </td><td>...                   </td><td>NA                    </td><td>NA                    </td><td>NA                    </td><td>                      </td><td>NA                    </td><td>NA                    </td><td>NA                    </td><td>NA                    </td><td>NA                    </td><td>NA                    </td></tr>\n",
       "\t<tr><th scope=row>5</th><td>9953895      </td><td>95234        </td><td>Cthulhu Gloom</td><td>NA           </td><td>1970-08-09   </td><td>NA           </td><td>Nižbor       </td><td>200          </td><td>NA           </td><td>NA           </td><td>...          </td><td>NA           </td><td>NA           </td><td>NA           </td><td>             </td><td>NA           </td><td>NA           </td><td>NA           </td><td>NA           </td><td>NA           </td><td>NA           </td></tr>\n",
       "\t<tr><th scope=row>6</th><td>9953904    </td><td>40692      </td><td>Small World</td><td>NA         </td><td>2013-08-10 </td><td>NA         </td><td>Nižbor     </td><td>120        </td><td>NA         </td><td>NA         </td><td>...        </td><td>NA         </td><td>NA         </td><td>NA         </td><td>           </td><td>NA         </td><td>NA         </td><td>NA         </td><td>NA         </td><td>NA         </td><td>NA         </td></tr>\n",
       "</tbody>\n",
       "</table>\n"
      ],
      "text/latex": [
       "\\begin{tabular}{r|lllllllllllllllllllllllllllllllllllllllllllllllllllllllllllllllllllllllllll}\n",
       "  & play.ID & game.ID & game.name & userid & date & quantity & location & length & incomplete & nowinstats & ... & player.7.rating & player.7.win & player.8.username & player.8.name & player.8.startposition & player.8.color & player.8.score & player.8.new & player.8.rating & player.8.win\\\\\n",
       "\\hline\n",
       "\t1 & 9912835    & 91536      & Quarriors! & NA         & 2013-08-05 & NA         & Roztoky    & 20         & NA         & NA         & ...        & NA         & NA         & NA         &            & NA         & NA         & NA         & NA         & NA         & NA        \\\\\n",
       "\t2 & 9912984     & 40692       & Small World & NA          & 2013-08-05  & NA          & Roztoky     & 35          & NA          & NA          & ...         & NA          & NA          & NA          &             & NA          & NA          & NA          & NA          & NA          & NA         \\\\\n",
       "\t3 & 9913062    & 91536      & Quarriors! & NA         & 2013-08-05 & NA         & Roztoky    & 20         & NA         & NA         & ...        & NA         & NA         & NA         &            & NA         & NA         & NA         & NA         & NA         & NA        \\\\\n",
       "\t4 & 9953882                & 96848                  & Mage Knight Board Game & NA                     & 2013-08-11             & NA                     & Nižbor                 & 300                    & NA                     & NA                     & ...                    & NA                     & NA                     & NA                     &                        & NA                     & NA                     & NA                     & NA                     & NA                     & NA                    \\\\\n",
       "\t5 & 9953895       & 95234         & Cthulhu Gloom & NA            & 1970-08-09    & NA            & Nižbor        & 200           & NA            & NA            & ...           & NA            & NA            & NA            &               & NA            & NA            & NA            & NA            & NA            & NA           \\\\\n",
       "\t6 & 9953904     & 40692       & Small World & NA          & 2013-08-10  & NA          & Nižbor      & 120         & NA          & NA          & ...         & NA          & NA          & NA          &             & NA          & NA          & NA          & NA          & NA          & NA         \\\\\n",
       "\\end{tabular}\n"
      ],
      "text/plain": [
       "  play.ID game.ID              game.name userid       date quantity location\n",
       "1 9912835   91536             Quarriors!     NA 2013-08-05       NA  Roztoky\n",
       "2 9912984   40692            Small World     NA 2013-08-05       NA  Roztoky\n",
       "3 9913062   91536             Quarriors!     NA 2013-08-05       NA  Roztoky\n",
       "4 9953882   96848 Mage Knight Board Game     NA 2013-08-11       NA   Nibor\n",
       "5 9953895   95234          Cthulhu Gloom     NA 1970-08-09       NA   Nibor\n",
       "6 9953904   40692            Small World     NA 2013-08-10       NA   Nibor\n",
       "  length incomplete nowinstats ... player.7.rating player.7.win\n",
       "1     20         NA         NA ...              NA           NA\n",
       "2     35         NA         NA ...              NA           NA\n",
       "3     20         NA         NA ...              NA           NA\n",
       "4    300         NA         NA ...              NA           NA\n",
       "5    200         NA         NA ...              NA           NA\n",
       "6    120         NA         NA ...              NA           NA\n",
       "  player.8.username player.8.name player.8.startposition player.8.color\n",
       "1                NA                                   NA             NA\n",
       "2                NA                                   NA             NA\n",
       "3                NA                                   NA             NA\n",
       "4                NA                                   NA             NA\n",
       "5                NA                                   NA             NA\n",
       "6                NA                                   NA             NA\n",
       "  player.8.score player.8.new player.8.rating player.8.win\n",
       "1             NA           NA              NA           NA\n",
       "2             NA           NA              NA           NA\n",
       "3             NA           NA              NA           NA\n",
       "4             NA           NA              NA           NA\n",
       "5             NA           NA              NA           NA\n",
       "6             NA           NA              NA           NA"
      ]
     },
     "metadata": {},
     "output_type": "display_data"
    }
   ],
   "source": [
    "plays = read.table(\"../../data//hejtmy-plays.csv\", sep = \",\", header = T, encoding = \"UTF-8\")\n",
    "head(plays)"
   ]
  },
  {
   "cell_type": "markdown",
   "metadata": {},
   "source": [
    "Perfect. Now, looking at the number of columns, someting is out of order. we have amazing amount of NA values. Also, sometimes same players are in the first position, sometimes in the second, so it would make comparisons between players really obnoxious to do.\n",
    "\n",
    "What would make more sense woud be to read the table into the so called long format. Therefore we would have multiple lines for the same play with different players as values in the player column. This format is quite used in SQL and with some changes it dos impede the analysis. Unfortuntely its not as easy to o a we would might like. There are some ingenious solutins that ill sho you, but tere are also packages o smooth the way"
   ]
  },
  {
   "cell_type": "markdown",
   "metadata": {},
   "source": [
    "### ingenious way\n",
    "Because we are going to mess th table up, we need to save the ID of each play. Luckilly for us, its already in there. If we didn't have the ID, we would have needed to create one as simply as ```plays[,\"id\"] = 1:nrow(plays)```\n",
    "\n",
    "NEvertheless, let's continue.\n",
    "\n",
    "Now we need to radically restructure the player part. Basically, we need each player to become one row in the table, herefore we need to split \n",
    "\n",
    "player.X.username\tplayer.X.name\tplayer.X.startposition\tplayer.X.color\tplayer.X.score\tplayer.X.new\tplayer.X.rating\tplayer.X.win\n",
    "\n",
    "as is often useful, let's start with a single row"
   ]
  },
  {
   "cell_type": "code",
   "execution_count": 4,
   "metadata": {
    "collapsed": true
   },
   "outputs": [],
   "source": [
    "row = plays[1, ]"
   ]
  },
  {
   "cell_type": "markdown",
   "metadata": {},
   "source": [
    "We need to split players to individual rows and then \"paste\" the original play in front. So let's start with the splitting part. Luckily, the naming conventions are quite clear and column positions are very systematic and regular, so we can use a simple for loop to do it. Let's have a look at the situation we are at:"
   ]
  },
  {
   "cell_type": "code",
   "execution_count": 5,
   "metadata": {
    "collapsed": false
   },
   "outputs": [
    {
     "data": {
      "text/html": [
       "<ol class=list-inline>\n",
       "\t<li>\"play.ID\"</li>\n",
       "\t<li>\"game.ID\"</li>\n",
       "\t<li>\"game.name\"</li>\n",
       "\t<li>\"userid\"</li>\n",
       "\t<li>\"date\"</li>\n",
       "\t<li>\"quantity\"</li>\n",
       "\t<li>\"location\"</li>\n",
       "\t<li>\"length\"</li>\n",
       "\t<li>\"incomplete\"</li>\n",
       "\t<li>\"nowinstats\"</li>\n",
       "\t<li>\"comments\"</li>\n",
       "\t<li>\"player.1.username\"</li>\n",
       "\t<li>\"player.1.name\"</li>\n",
       "\t<li>\"player.1.startposition\"</li>\n",
       "\t<li>\"player.1.color\"</li>\n",
       "\t<li>\"player.1.score\"</li>\n",
       "\t<li>\"player.1.new\"</li>\n",
       "\t<li>\"player.1.rating\"</li>\n",
       "\t<li>\"player.1.win\"</li>\n",
       "\t<li>\"player.2.username\"</li>\n",
       "\t<li>\"player.2.name\"</li>\n",
       "\t<li>\"player.2.startposition\"</li>\n",
       "\t<li>\"player.2.color\"</li>\n",
       "\t<li>\"player.2.score\"</li>\n",
       "\t<li>\"player.2.new\"</li>\n",
       "\t<li>\"player.2.rating\"</li>\n",
       "\t<li>\"player.2.win\"</li>\n",
       "\t<li>\"player.3.username\"</li>\n",
       "\t<li>\"player.3.name\"</li>\n",
       "\t<li>\"player.3.startposition\"</li>\n",
       "\t<li>\"player.3.color\"</li>\n",
       "\t<li>\"player.3.score\"</li>\n",
       "\t<li>\"player.3.new\"</li>\n",
       "\t<li>\"player.3.rating\"</li>\n",
       "\t<li>\"player.3.win\"</li>\n",
       "\t<li>\"player.4.username\"</li>\n",
       "\t<li>\"player.4.name\"</li>\n",
       "\t<li>\"player.4.startposition\"</li>\n",
       "\t<li>\"player.4.color\"</li>\n",
       "\t<li>\"player.4.score\"</li>\n",
       "\t<li>\"player.4.new\"</li>\n",
       "\t<li>\"player.4.rating\"</li>\n",
       "\t<li>\"player.4.win\"</li>\n",
       "\t<li>\"player.5.username\"</li>\n",
       "\t<li>\"player.5.name\"</li>\n",
       "\t<li>\"player.5.startposition\"</li>\n",
       "\t<li>\"player.5.color\"</li>\n",
       "\t<li>\"player.5.score\"</li>\n",
       "\t<li>\"player.5.new\"</li>\n",
       "\t<li>\"player.5.rating\"</li>\n",
       "\t<li>\"player.5.win\"</li>\n",
       "\t<li>\"player.6.username\"</li>\n",
       "\t<li>\"player.6.name\"</li>\n",
       "\t<li>\"player.6.startposition\"</li>\n",
       "\t<li>\"player.6.color\"</li>\n",
       "\t<li>\"player.6.score\"</li>\n",
       "\t<li>\"player.6.new\"</li>\n",
       "\t<li>\"player.6.rating\"</li>\n",
       "\t<li>\"player.6.win\"</li>\n",
       "\t<li>\"player.7.username\"</li>\n",
       "\t<li>\"player.7.name\"</li>\n",
       "\t<li>\"player.7.startposition\"</li>\n",
       "\t<li>\"player.7.color\"</li>\n",
       "\t<li>\"player.7.score\"</li>\n",
       "\t<li>\"player.7.new\"</li>\n",
       "\t<li>\"player.7.rating\"</li>\n",
       "\t<li>\"player.7.win\"</li>\n",
       "\t<li>\"player.8.username\"</li>\n",
       "\t<li>\"player.8.name\"</li>\n",
       "\t<li>\"player.8.startposition\"</li>\n",
       "\t<li>\"player.8.color\"</li>\n",
       "\t<li>\"player.8.score\"</li>\n",
       "\t<li>\"player.8.new\"</li>\n",
       "\t<li>\"player.8.rating\"</li>\n",
       "\t<li>\"player.8.win\"</li>\n",
       "</ol>\n"
      ],
      "text/latex": [
       "\\begin{enumerate*}\n",
       "\\item \"play.ID\"\n",
       "\\item \"game.ID\"\n",
       "\\item \"game.name\"\n",
       "\\item \"userid\"\n",
       "\\item \"date\"\n",
       "\\item \"quantity\"\n",
       "\\item \"location\"\n",
       "\\item \"length\"\n",
       "\\item \"incomplete\"\n",
       "\\item \"nowinstats\"\n",
       "\\item \"comments\"\n",
       "\\item \"player.1.username\"\n",
       "\\item \"player.1.name\"\n",
       "\\item \"player.1.startposition\"\n",
       "\\item \"player.1.color\"\n",
       "\\item \"player.1.score\"\n",
       "\\item \"player.1.new\"\n",
       "\\item \"player.1.rating\"\n",
       "\\item \"player.1.win\"\n",
       "\\item \"player.2.username\"\n",
       "\\item \"player.2.name\"\n",
       "\\item \"player.2.startposition\"\n",
       "\\item \"player.2.color\"\n",
       "\\item \"player.2.score\"\n",
       "\\item \"player.2.new\"\n",
       "\\item \"player.2.rating\"\n",
       "\\item \"player.2.win\"\n",
       "\\item \"player.3.username\"\n",
       "\\item \"player.3.name\"\n",
       "\\item \"player.3.startposition\"\n",
       "\\item \"player.3.color\"\n",
       "\\item \"player.3.score\"\n",
       "\\item \"player.3.new\"\n",
       "\\item \"player.3.rating\"\n",
       "\\item \"player.3.win\"\n",
       "\\item \"player.4.username\"\n",
       "\\item \"player.4.name\"\n",
       "\\item \"player.4.startposition\"\n",
       "\\item \"player.4.color\"\n",
       "\\item \"player.4.score\"\n",
       "\\item \"player.4.new\"\n",
       "\\item \"player.4.rating\"\n",
       "\\item \"player.4.win\"\n",
       "\\item \"player.5.username\"\n",
       "\\item \"player.5.name\"\n",
       "\\item \"player.5.startposition\"\n",
       "\\item \"player.5.color\"\n",
       "\\item \"player.5.score\"\n",
       "\\item \"player.5.new\"\n",
       "\\item \"player.5.rating\"\n",
       "\\item \"player.5.win\"\n",
       "\\item \"player.6.username\"\n",
       "\\item \"player.6.name\"\n",
       "\\item \"player.6.startposition\"\n",
       "\\item \"player.6.color\"\n",
       "\\item \"player.6.score\"\n",
       "\\item \"player.6.new\"\n",
       "\\item \"player.6.rating\"\n",
       "\\item \"player.6.win\"\n",
       "\\item \"player.7.username\"\n",
       "\\item \"player.7.name\"\n",
       "\\item \"player.7.startposition\"\n",
       "\\item \"player.7.color\"\n",
       "\\item \"player.7.score\"\n",
       "\\item \"player.7.new\"\n",
       "\\item \"player.7.rating\"\n",
       "\\item \"player.7.win\"\n",
       "\\item \"player.8.username\"\n",
       "\\item \"player.8.name\"\n",
       "\\item \"player.8.startposition\"\n",
       "\\item \"player.8.color\"\n",
       "\\item \"player.8.score\"\n",
       "\\item \"player.8.new\"\n",
       "\\item \"player.8.rating\"\n",
       "\\item \"player.8.win\"\n",
       "\\end{enumerate*}\n"
      ],
      "text/markdown": [
       "1. \"play.ID\"\n",
       "2. \"game.ID\"\n",
       "3. \"game.name\"\n",
       "4. \"userid\"\n",
       "5. \"date\"\n",
       "6. \"quantity\"\n",
       "7. \"location\"\n",
       "8. \"length\"\n",
       "9. \"incomplete\"\n",
       "10. \"nowinstats\"\n",
       "11. \"comments\"\n",
       "12. \"player.1.username\"\n",
       "13. \"player.1.name\"\n",
       "14. \"player.1.startposition\"\n",
       "15. \"player.1.color\"\n",
       "16. \"player.1.score\"\n",
       "17. \"player.1.new\"\n",
       "18. \"player.1.rating\"\n",
       "19. \"player.1.win\"\n",
       "20. \"player.2.username\"\n",
       "21. \"player.2.name\"\n",
       "22. \"player.2.startposition\"\n",
       "23. \"player.2.color\"\n",
       "24. \"player.2.score\"\n",
       "25. \"player.2.new\"\n",
       "26. \"player.2.rating\"\n",
       "27. \"player.2.win\"\n",
       "28. \"player.3.username\"\n",
       "29. \"player.3.name\"\n",
       "30. \"player.3.startposition\"\n",
       "31. \"player.3.color\"\n",
       "32. \"player.3.score\"\n",
       "33. \"player.3.new\"\n",
       "34. \"player.3.rating\"\n",
       "35. \"player.3.win\"\n",
       "36. \"player.4.username\"\n",
       "37. \"player.4.name\"\n",
       "38. \"player.4.startposition\"\n",
       "39. \"player.4.color\"\n",
       "40. \"player.4.score\"\n",
       "41. \"player.4.new\"\n",
       "42. \"player.4.rating\"\n",
       "43. \"player.4.win\"\n",
       "44. \"player.5.username\"\n",
       "45. \"player.5.name\"\n",
       "46. \"player.5.startposition\"\n",
       "47. \"player.5.color\"\n",
       "48. \"player.5.score\"\n",
       "49. \"player.5.new\"\n",
       "50. \"player.5.rating\"\n",
       "51. \"player.5.win\"\n",
       "52. \"player.6.username\"\n",
       "53. \"player.6.name\"\n",
       "54. \"player.6.startposition\"\n",
       "55. \"player.6.color\"\n",
       "56. \"player.6.score\"\n",
       "57. \"player.6.new\"\n",
       "58. \"player.6.rating\"\n",
       "59. \"player.6.win\"\n",
       "60. \"player.7.username\"\n",
       "61. \"player.7.name\"\n",
       "62. \"player.7.startposition\"\n",
       "63. \"player.7.color\"\n",
       "64. \"player.7.score\"\n",
       "65. \"player.7.new\"\n",
       "66. \"player.7.rating\"\n",
       "67. \"player.7.win\"\n",
       "68. \"player.8.username\"\n",
       "69. \"player.8.name\"\n",
       "70. \"player.8.startposition\"\n",
       "71. \"player.8.color\"\n",
       "72. \"player.8.score\"\n",
       "73. \"player.8.new\"\n",
       "74. \"player.8.rating\"\n",
       "75. \"player.8.win\"\n",
       "\n",
       "\n"
      ],
      "text/plain": [
       " [1] \"play.ID\"                \"game.ID\"                \"game.name\"             \n",
       " [4] \"userid\"                 \"date\"                   \"quantity\"              \n",
       " [7] \"location\"               \"length\"                 \"incomplete\"            \n",
       "[10] \"nowinstats\"             \"comments\"               \"player.1.username\"     \n",
       "[13] \"player.1.name\"          \"player.1.startposition\" \"player.1.color\"        \n",
       "[16] \"player.1.score\"         \"player.1.new\"           \"player.1.rating\"       \n",
       "[19] \"player.1.win\"           \"player.2.username\"      \"player.2.name\"         \n",
       "[22] \"player.2.startposition\" \"player.2.color\"         \"player.2.score\"        \n",
       "[25] \"player.2.new\"           \"player.2.rating\"        \"player.2.win\"          \n",
       "[28] \"player.3.username\"      \"player.3.name\"          \"player.3.startposition\"\n",
       "[31] \"player.3.color\"         \"player.3.score\"         \"player.3.new\"          \n",
       "[34] \"player.3.rating\"        \"player.3.win\"           \"player.4.username\"     \n",
       "[37] \"player.4.name\"          \"player.4.startposition\" \"player.4.color\"        \n",
       "[40] \"player.4.score\"         \"player.4.new\"           \"player.4.rating\"       \n",
       "[43] \"player.4.win\"           \"player.5.username\"      \"player.5.name\"         \n",
       "[46] \"player.5.startposition\" \"player.5.color\"         \"player.5.score\"        \n",
       "[49] \"player.5.new\"           \"player.5.rating\"        \"player.5.win\"          \n",
       "[52] \"player.6.username\"      \"player.6.name\"          \"player.6.startposition\"\n",
       "[55] \"player.6.color\"         \"player.6.score\"         \"player.6.new\"          \n",
       "[58] \"player.6.rating\"        \"player.6.win\"           \"player.7.username\"     \n",
       "[61] \"player.7.name\"          \"player.7.startposition\" \"player.7.color\"        \n",
       "[64] \"player.7.score\"         \"player.7.new\"           \"player.7.rating\"       \n",
       "[67] \"player.7.win\"           \"player.8.username\"      \"player.8.name\"         \n",
       "[70] \"player.8.startposition\" \"player.8.color\"         \"player.8.score\"        \n",
       "[73] \"player.8.new\"           \"player.8.rating\"        \"player.8.win\"          "
      ]
     },
     "metadata": {},
     "output_type": "display_data"
    }
   ],
   "source": [
    "names(plays)"
   ]
  },
  {
   "cell_type": "code",
   "execution_count": 6,
   "metadata": {
    "collapsed": false
   },
   "outputs": [
    {
     "data": {
      "text/html": [
       "12"
      ],
      "text/latex": [
       "12"
      ],
      "text/markdown": [
       "12"
      ],
      "text/plain": [
       "[1] 12"
      ]
     },
     "metadata": {},
     "output_type": "display_data"
    },
    {
     "data": {
      "text/html": [
       "20"
      ],
      "text/latex": [
       "20"
      ],
      "text/markdown": [
       "20"
      ],
      "text/plain": [
       "[1] 20"
      ]
     },
     "metadata": {},
     "output_type": "display_data"
    }
   ],
   "source": [
    "which(names(plays) == \"player.1.username\")\n",
    "which(names(plays) == \"player.2.username\")"
   ]
  },
  {
   "cell_type": "markdown",
   "metadata": {},
   "source": [
    "So we know there are maximum of 8 player and each player has 8 columns with information. The player information also starts at the 12th place. Let's try first step of the for loop in here"
   ]
  },
  {
   "cell_type": "code",
   "execution_count": 8,
   "metadata": {
    "collapsed": false
   },
   "outputs": [
    {
     "data": {
      "text/html": [
       "<dl>\n",
       "\t<dt>$play.ID</dt>\n",
       "\t\t<dd>9912835</dd>\n",
       "\t<dt>$game.ID</dt>\n",
       "\t\t<dd>91536</dd>\n",
       "\t<dt>$game.name</dt>\n",
       "\t\t<dd>Quarriors!</dd>\n",
       "\t<dt>$userid</dt>\n",
       "\t\t<dd>NA</dd>\n",
       "\t<dt>$date</dt>\n",
       "\t\t<dd>2013-08-05</dd>\n",
       "\t<dt>$quantity</dt>\n",
       "\t\t<dd>NA</dd>\n",
       "\t<dt>$location</dt>\n",
       "\t\t<dd>Roztoky</dd>\n",
       "\t<dt>$length</dt>\n",
       "\t\t<dd>20</dd>\n",
       "\t<dt>$incomplete</dt>\n",
       "\t\t<dd>NA</dd>\n",
       "\t<dt>$nowinstats</dt>\n",
       "\t\t<dd>NA</dd>\n",
       "\t<dt>$comments</dt>\n",
       "\t\t<dd></dd>\n",
       "\t<dt>$player.1.username</dt>\n",
       "\t\t<dd>Tatsukochi</dd>\n",
       "\t<dt>$player.1.name</dt>\n",
       "\t\t<dd>hejtmy</dd>\n",
       "\t<dt>$player.1.startposition</dt>\n",
       "\t\t<dd>NA</dd>\n",
       "\t<dt>$player.1.color</dt>\n",
       "\t\t<dd></dd>\n",
       "\t<dt>$player.1.score</dt>\n",
       "\t\t<dd>20</dd>\n",
       "\t<dt>$player.1.new</dt>\n",
       "\t\t<dd>NA</dd>\n",
       "\t<dt>$player.1.rating</dt>\n",
       "\t\t<dd>NA</dd>\n",
       "\t<dt>$player.1.win</dt>\n",
       "\t\t<dd>1</dd>\n",
       "</dl>\n"
      ],
      "text/latex": [
       "\\begin{description}\n",
       "\\item[\\$play.ID] 9912835\n",
       "\\item[\\$game.ID] 91536\n",
       "\\item[\\$game.name] Quarriors!\n",
       "\\item[\\$userid] NA\n",
       "\\item[\\$date] 2013-08-05\n",
       "\\item[\\$quantity] NA\n",
       "\\item[\\$location] Roztoky\n",
       "\\item[\\$length] 20\n",
       "\\item[\\$incomplete] NA\n",
       "\\item[\\$nowinstats] NA\n",
       "\\item[\\$comments] \n",
       "\\item[\\$player.1.username] Tatsukochi\n",
       "\\item[\\$player.1.name] hejtmy\n",
       "\\item[\\$player.1.startposition] NA\n",
       "\\item[\\$player.1.color] \n",
       "\\item[\\$player.1.score] 20\n",
       "\\item[\\$player.1.new] NA\n",
       "\\item[\\$player.1.rating] NA\n",
       "\\item[\\$player.1.win] 1\n",
       "\\end{description}\n"
      ],
      "text/markdown": [
       "$play.ID\n",
       ":   9912835\n",
       "$game.ID\n",
       ":   91536\n",
       "$game.name\n",
       ":   Quarriors!\n",
       "$userid\n",
       ":   NA\n",
       "$date\n",
       ":   2013-08-05\n",
       "$quantity\n",
       ":   NA\n",
       "$location\n",
       ":   Roztoky\n",
       "$length\n",
       ":   20\n",
       "$incomplete\n",
       ":   NA\n",
       "$nowinstats\n",
       ":   NA\n",
       "$comments\n",
       ":   \n",
       "$player.1.username\n",
       ":   Tatsukochi\n",
       "$player.1.name\n",
       ":   hejtmy\n",
       "$player.1.startposition\n",
       ":   NA\n",
       "$player.1.color\n",
       ":   \n",
       "$player.1.score\n",
       ":   20\n",
       "$player.1.new\n",
       ":   NA\n",
       "$player.1.rating\n",
       ":   NA\n",
       "$player.1.win\n",
       ":   1\n",
       "\n",
       "\n"
      ],
      "text/plain": [
       "$play.ID\n",
       "[1] 9912835\n",
       "\n",
       "$game.ID\n",
       "[1] 91536\n",
       "\n",
       "$game.name\n",
       "[1] Quarriors!\n",
       "99 Levels: 7 Wonders ... Witness\n",
       "\n",
       "$userid\n",
       "[1] NA\n",
       "\n",
       "$date\n",
       "[1] 2013-08-05\n",
       "220 Levels: 1970-08-09 2013-06-07 2013-08-05 2013-08-09 ... 2016-09-03\n",
       "\n",
       "$quantity\n",
       "[1] NA\n",
       "\n",
       "$location\n",
       "[1] Roztoky\n",
       "28 Levels:  Aida Braunovka Brevnov Budapet Cernoice David Doma ... U Radka\n",
       "\n",
       "$length\n",
       "[1] 20\n",
       "\n",
       "$incomplete\n",
       "[1] NA\n",
       "\n",
       "$nowinstats\n",
       "[1] NA\n",
       "\n",
       "$comments\n",
       "[1] \n",
       "168 Levels:  ... Yig. The world has been saved, the mysteries solved before the ancient one could impose his rule onto the town of Oklahoma. Nobody died. Seemed too easy after we were able to complete the first mystery by sacrificing a research student and a vicar.\n",
       "\n",
       "$player.1.username\n",
       "[1] Tatsukochi\n",
       "Levels:  Tatsukochi\n",
       "\n",
       "$player.1.name\n",
       "[1] hejtmy\n",
       "22 Levels:  Adéla Bertík Betka Echy Ester hejtmy Helca Jana Joska ... Vaek\n",
       "\n",
       "$player.1.startposition\n",
       "[1] NA\n",
       "\n",
       "$player.1.color\n",
       "[1] \n",
       "24 Levels:  Agent Alexandria Animals Babylon Barbarians ... Weyland\n",
       "\n",
       "$player.1.score\n",
       "[1] 20\n",
       "\n",
       "$player.1.new\n",
       "[1] NA\n",
       "\n",
       "$player.1.rating\n",
       "[1] NA\n",
       "\n",
       "$player.1.win\n",
       "[1] 1\n"
      ]
     },
     "metadata": {},
     "output_type": "display_data"
    }
   ],
   "source": [
    "iPlayer_info = which(names(plays) == \"player.1.username\")\n",
    "play_info = row[1:iPlayer_info-1]\n",
    "nPlayerCol = 8\n",
    "i = 1 #this will get incremented in the loop later\n",
    "iStart = iPlayer_info*i\n",
    "iEnd = iStart + nPlayerCol - 1\n",
    "player_info = row[iStart:iEnd]\n",
    "player_row = c(play_info, player_info)\n",
    "player_row"
   ]
  },
  {
   "cell_type": "code",
   "execution_count": 9,
   "metadata": {
    "collapsed": false
   },
   "outputs": [
    {
     "data": {
      "text/html": [
       "<table>\n",
       "<thead><tr><th></th><th scope=col>play.ID</th><th scope=col>game.ID</th><th scope=col>game.name</th><th scope=col>userid</th><th scope=col>date</th><th scope=col>quantity</th><th scope=col>location</th><th scope=col>length</th><th scope=col>incomplete</th><th scope=col>nowinstats</th><th scope=col>comments</th><th scope=col>player.username</th><th scope=col>player.name</th><th scope=col>player.startposition</th><th scope=col>player.color</th><th scope=col>player.score</th><th scope=col>player.new</th><th scope=col>player.rating</th><th scope=col>player.win</th></tr></thead>\n",
       "<tbody>\n",
       "\t<tr><th scope=row>1</th><td>9912835   </td><td>91536     </td><td>Quarriors!</td><td>NA        </td><td>2013-08-05</td><td>NA        </td><td>Roztoky   </td><td>20        </td><td>NA        </td><td>NA        </td><td>          </td><td>Tatsukochi</td><td>hejtmy    </td><td>NA        </td><td>          </td><td>20        </td><td>NA        </td><td>NA        </td><td>1         </td></tr>\n",
       "\t<tr><th scope=row>2</th><td>9912835   </td><td>91536     </td><td>Quarriors!</td><td>NA        </td><td>2013-08-05</td><td>NA        </td><td>Roztoky   </td><td>20        </td><td>NA        </td><td>NA        </td><td>          </td><td>          </td><td>Betka     </td><td>NA        </td><td>          </td><td>2         </td><td>NA        </td><td>NA        </td><td>NA        </td></tr>\n",
       "\t<tr><th scope=row>3</th><td>9912835   </td><td>91536     </td><td>Quarriors!</td><td>NA        </td><td>2013-08-05</td><td>NA        </td><td>Roztoky   </td><td>20        </td><td>NA        </td><td>NA        </td><td>          </td><td>          </td><td>          </td><td>NA        </td><td>          </td><td>NA        </td><td>NA        </td><td>NA        </td><td>NA        </td></tr>\n",
       "\t<tr><th scope=row>4</th><td>9912835   </td><td>91536     </td><td>Quarriors!</td><td>NA        </td><td>2013-08-05</td><td>NA        </td><td>Roztoky   </td><td>20        </td><td>NA        </td><td>NA        </td><td>          </td><td>          </td><td>          </td><td>NA        </td><td>          </td><td>NA        </td><td>NA        </td><td>NA        </td><td>NA        </td></tr>\n",
       "\t<tr><th scope=row>5</th><td>9912835   </td><td>91536     </td><td>Quarriors!</td><td>NA        </td><td>2013-08-05</td><td>NA        </td><td>Roztoky   </td><td>20        </td><td>NA        </td><td>NA        </td><td>          </td><td>          </td><td>          </td><td>NA        </td><td>          </td><td>NA        </td><td>NA        </td><td>NA        </td><td>NA        </td></tr>\n",
       "\t<tr><th scope=row>6</th><td>9912835   </td><td>91536     </td><td>Quarriors!</td><td>NA        </td><td>2013-08-05</td><td>NA        </td><td>Roztoky   </td><td>20        </td><td>NA        </td><td>NA        </td><td>          </td><td>          </td><td>          </td><td>NA        </td><td>          </td><td>NA        </td><td>NA        </td><td>NA        </td><td>NA        </td></tr>\n",
       "\t<tr><th scope=row>7</th><td>9912835   </td><td>91536     </td><td>Quarriors!</td><td>NA        </td><td>2013-08-05</td><td>NA        </td><td>Roztoky   </td><td>20        </td><td>NA        </td><td>NA        </td><td>          </td><td>          </td><td>          </td><td>NA        </td><td>NA        </td><td>NA        </td><td>NA        </td><td>NA        </td><td>NA        </td></tr>\n",
       "\t<tr><th scope=row>8</th><td>9912835   </td><td>91536     </td><td>Quarriors!</td><td>NA        </td><td>2013-08-05</td><td>NA        </td><td>Roztoky   </td><td>20        </td><td>NA        </td><td>NA        </td><td>          </td><td>NA        </td><td>          </td><td>NA        </td><td>NA        </td><td>NA        </td><td>NA        </td><td>NA        </td><td>NA        </td></tr>\n",
       "</tbody>\n",
       "</table>\n"
      ],
      "text/latex": [
       "\\begin{tabular}{r|lllllllllllllllllll}\n",
       "  & play.ID & game.ID & game.name & userid & date & quantity & location & length & incomplete & nowinstats & comments & player.username & player.name & player.startposition & player.color & player.score & player.new & player.rating & player.win\\\\\n",
       "\\hline\n",
       "\t1 & 9912835    & 91536      & Quarriors! & NA         & 2013-08-05 & NA         & Roztoky    & 20         & NA         & NA         &            & Tatsukochi & hejtmy     & NA         &            & 20         & NA         & NA         & 1         \\\\\n",
       "\t2 & 9912835    & 91536      & Quarriors! & NA         & 2013-08-05 & NA         & Roztoky    & 20         & NA         & NA         &            &            & Betka      & NA         &            & 2          & NA         & NA         & NA        \\\\\n",
       "\t3 & 9912835    & 91536      & Quarriors! & NA         & 2013-08-05 & NA         & Roztoky    & 20         & NA         & NA         &            &            &            & NA         &            & NA         & NA         & NA         & NA        \\\\\n",
       "\t4 & 9912835    & 91536      & Quarriors! & NA         & 2013-08-05 & NA         & Roztoky    & 20         & NA         & NA         &            &            &            & NA         &            & NA         & NA         & NA         & NA        \\\\\n",
       "\t5 & 9912835    & 91536      & Quarriors! & NA         & 2013-08-05 & NA         & Roztoky    & 20         & NA         & NA         &            &            &            & NA         &            & NA         & NA         & NA         & NA        \\\\\n",
       "\t6 & 9912835    & 91536      & Quarriors! & NA         & 2013-08-05 & NA         & Roztoky    & 20         & NA         & NA         &            &            &            & NA         &            & NA         & NA         & NA         & NA        \\\\\n",
       "\t7 & 9912835    & 91536      & Quarriors! & NA         & 2013-08-05 & NA         & Roztoky    & 20         & NA         & NA         &            &            &            & NA         & NA         & NA         & NA         & NA         & NA        \\\\\n",
       "\t8 & 9912835    & 91536      & Quarriors! & NA         & 2013-08-05 & NA         & Roztoky    & 20         & NA         & NA         &            & NA         &            & NA         & NA         & NA         & NA         & NA         & NA        \\\\\n",
       "\\end{tabular}\n"
      ],
      "text/plain": [
       "  play.ID game.ID  game.name userid       date quantity location length\n",
       "1 9912835   91536 Quarriors!     NA 2013-08-05       NA  Roztoky     20\n",
       "2 9912835   91536 Quarriors!     NA 2013-08-05       NA  Roztoky     20\n",
       "3 9912835   91536 Quarriors!     NA 2013-08-05       NA  Roztoky     20\n",
       "4 9912835   91536 Quarriors!     NA 2013-08-05       NA  Roztoky     20\n",
       "5 9912835   91536 Quarriors!     NA 2013-08-05       NA  Roztoky     20\n",
       "6 9912835   91536 Quarriors!     NA 2013-08-05       NA  Roztoky     20\n",
       "7 9912835   91536 Quarriors!     NA 2013-08-05       NA  Roztoky     20\n",
       "8 9912835   91536 Quarriors!     NA 2013-08-05       NA  Roztoky     20\n",
       "  incomplete nowinstats comments player.username player.name\n",
       "1         NA         NA               Tatsukochi      hejtmy\n",
       "2         NA         NA                                Betka\n",
       "3         NA         NA                                     \n",
       "4         NA         NA                                     \n",
       "5         NA         NA                                     \n",
       "6         NA         NA                                     \n",
       "7         NA         NA                                     \n",
       "8         NA         NA                     <NA>            \n",
       "  player.startposition player.color player.score player.new player.rating\n",
       "1                   NA                        20         NA            NA\n",
       "2                   NA                         2         NA            NA\n",
       "3                   NA                        NA         NA            NA\n",
       "4                   NA                        NA         NA            NA\n",
       "5                   NA                        NA         NA            NA\n",
       "6                   NA                        NA         NA            NA\n",
       "7                   NA         <NA>           NA         NA            NA\n",
       "8                   NA         <NA>           NA         NA            NA\n",
       "  player.win\n",
       "1          1\n",
       "2         NA\n",
       "3         NA\n",
       "4         NA\n",
       "5         NA\n",
       "6         NA\n",
       "7         NA\n",
       "8         NA"
      ]
     },
     "metadata": {},
     "output_type": "display_data"
    }
   ],
   "source": [
    "new_df = data.frame()\n",
    "iPlayer_info = which(names(plays) == \"player.1.username\")\n",
    "play_info = row[, (1:(iPlayer_info - 1))]\n",
    "nPlayerCol = 8\n",
    "for (i in 1:8){\n",
    "    # now we want to extract information about the specific player\n",
    "    iStart = iPlayer_info + (i-1) * nPlayerCol\n",
    "    iEnd = iStart + nPlayerCol - 1\n",
    "    player_info = row[, iStart:iEnd]\n",
    "    colnames(player_info) = c(\"player.username\" ,\"player.name\", \"player.startposition\", \"player.color\", \"player.score\",\n",
    "                            \"player.new\", \"player.rating\", \"player.win\")\n",
    "    player_row = cbind(play_info, player_info)\n",
    "    new_df = rbind(new_df, player_row)\n",
    "}\n",
    "new_df"
   ]
  },
  {
   "cell_type": "markdown",
   "metadata": {},
   "source": [
    "Looks good. Now we need to do it for every row. Because we already did it for one row, we only need to reassign the row and resave throughout."
   ]
  },
  {
   "cell_type": "markdown",
   "metadata": {},
   "source": [
    "Now this would lead to a lot of empty values. WE can remove afterwards, but we can also speed things up by breaking the forloop when empty player is located."
   ]
  },
  {
   "cell_type": "code",
   "execution_count": 11,
   "metadata": {
    "collapsed": false
   },
   "outputs": [],
   "source": [
    "plays_recoded = data.frame()\n",
    "for (i in 1:nrow(plays)){\n",
    "  row = plays[i,]\n",
    "  play_df = data.frame()\n",
    "  iPlayer_info = which(names(plays) == \"player.1.username\")\n",
    "  play_info = row[, (1:(iPlayer_info - 1))]\n",
    "  nPlayerCol = 8\n",
    "  for (i in 1:8){\n",
    "    # now we want to extract information about the specific player\n",
    "    iStart = iPlayer_info + (i-1) * nPlayerCol\n",
    "    iEnd = iStart + nPlayerCol - 1\n",
    "    player_info = row[, iStart:iEnd]\n",
    "    colnames(player_info) = c(\"player.username\" ,\"player.name\", \"player.startposition\", \"player.color\", \"player.score\",\n",
    "                              \"player.new\", \"player.rating\", \"player.win\")\n",
    "    if(player_info$player.name == \"\"){break} #CHANGE!!!!!!\n",
    "    player_row = cbind(play_info, player_info)\n",
    "    play_df = rbind(play_df, player_row)\n",
    "  }\n",
    "  plays_recoded = rbind(plays_recoded, play_df)\n",
    "}"
   ]
  },
  {
   "cell_type": "markdown",
   "metadata": {},
   "source": [
    "Now have a look at it"
   ]
  },
  {
   "cell_type": "code",
   "execution_count": 12,
   "metadata": {
    "collapsed": false
   },
   "outputs": [
    {
     "data": {
      "text/html": [
       "<table>\n",
       "<thead><tr><th></th><th scope=col>play.ID</th><th scope=col>game.ID</th><th scope=col>game.name</th><th scope=col>userid</th><th scope=col>date</th><th scope=col>quantity</th><th scope=col>location</th><th scope=col>length</th><th scope=col>incomplete</th><th scope=col>nowinstats</th><th scope=col>comments</th><th scope=col>player.username</th><th scope=col>player.name</th><th scope=col>player.startposition</th><th scope=col>player.color</th><th scope=col>player.score</th><th scope=col>player.new</th><th scope=col>player.rating</th><th scope=col>player.win</th></tr></thead>\n",
       "<tbody>\n",
       "\t<tr><th scope=row>1</th><td>9912835   </td><td>91536     </td><td>Quarriors!</td><td>NA        </td><td>2013-08-05</td><td>NA        </td><td>Roztoky   </td><td>20        </td><td>NA        </td><td>NA        </td><td>          </td><td>Tatsukochi</td><td>hejtmy    </td><td>NA        </td><td>          </td><td>20        </td><td>NA        </td><td>NA        </td><td>1         </td></tr>\n",
       "\t<tr><th scope=row>2</th><td>9912835   </td><td>91536     </td><td>Quarriors!</td><td>NA        </td><td>2013-08-05</td><td>NA        </td><td>Roztoky   </td><td>20        </td><td>NA        </td><td>NA        </td><td>          </td><td>          </td><td>Betka     </td><td>NA        </td><td>          </td><td>2         </td><td>NA        </td><td>NA        </td><td>NA        </td></tr>\n",
       "\t<tr><th scope=row>22</th><td>9912984    </td><td>40692      </td><td>Small World</td><td>NA         </td><td>2013-08-05 </td><td>NA         </td><td>Roztoky    </td><td>35         </td><td>NA         </td><td>NA         </td><td>           </td><td>Tatsukochi </td><td>hejtmy     </td><td>1          </td><td>           </td><td>106        </td><td>NA         </td><td>NA         </td><td>1          </td></tr>\n",
       "\t<tr><th scope=row>21</th><td>9912984    </td><td>40692      </td><td>Small World</td><td>NA         </td><td>2013-08-05 </td><td>NA         </td><td>Roztoky    </td><td>35         </td><td>NA         </td><td>NA         </td><td>           </td><td>           </td><td>Betka      </td><td>NA         </td><td>           </td><td>94         </td><td>NA         </td><td>NA         </td><td>NA         </td></tr>\n",
       "\t<tr><th scope=row>3</th><td>9913062   </td><td>91536     </td><td>Quarriors!</td><td>NA        </td><td>2013-08-05</td><td>NA        </td><td>Roztoky   </td><td>20        </td><td>NA        </td><td>NA        </td><td>          </td><td>Tatsukochi</td><td>hejtmy    </td><td>2         </td><td>          </td><td>20        </td><td>NA        </td><td>NA        </td><td>NA        </td></tr>\n",
       "\t<tr><th scope=row>31</th><td>9913062   </td><td>91536     </td><td>Quarriors!</td><td>NA        </td><td>2013-08-05</td><td>NA        </td><td>Roztoky   </td><td>20        </td><td>NA        </td><td>NA        </td><td>          </td><td>          </td><td>Betka     </td><td>1         </td><td>          </td><td>10        </td><td>NA        </td><td>NA        </td><td>NA        </td></tr>\n",
       "</tbody>\n",
       "</table>\n"
      ],
      "text/latex": [
       "\\begin{tabular}{r|lllllllllllllllllll}\n",
       "  & play.ID & game.ID & game.name & userid & date & quantity & location & length & incomplete & nowinstats & comments & player.username & player.name & player.startposition & player.color & player.score & player.new & player.rating & player.win\\\\\n",
       "\\hline\n",
       "\t1 & 9912835    & 91536      & Quarriors! & NA         & 2013-08-05 & NA         & Roztoky    & 20         & NA         & NA         &            & Tatsukochi & hejtmy     & NA         &            & 20         & NA         & NA         & 1         \\\\\n",
       "\t2 & 9912835    & 91536      & Quarriors! & NA         & 2013-08-05 & NA         & Roztoky    & 20         & NA         & NA         &            &            & Betka      & NA         &            & 2          & NA         & NA         & NA        \\\\\n",
       "\t22 & 9912984     & 40692       & Small World & NA          & 2013-08-05  & NA          & Roztoky     & 35          & NA          & NA          &             & Tatsukochi  & hejtmy      & 1           &             & 106         & NA          & NA          & 1          \\\\\n",
       "\t21 & 9912984     & 40692       & Small World & NA          & 2013-08-05  & NA          & Roztoky     & 35          & NA          & NA          &             &             & Betka       & NA          &             & 94          & NA          & NA          & NA         \\\\\n",
       "\t3 & 9913062    & 91536      & Quarriors! & NA         & 2013-08-05 & NA         & Roztoky    & 20         & NA         & NA         &            & Tatsukochi & hejtmy     & 2          &            & 20         & NA         & NA         & NA        \\\\\n",
       "\t31 & 9913062    & 91536      & Quarriors! & NA         & 2013-08-05 & NA         & Roztoky    & 20         & NA         & NA         &            &            & Betka      & 1          &            & 10         & NA         & NA         & NA        \\\\\n",
       "\\end{tabular}\n"
      ],
      "text/plain": [
       "   play.ID game.ID   game.name userid       date quantity location length\n",
       "1  9912835   91536  Quarriors!     NA 2013-08-05       NA  Roztoky     20\n",
       "2  9912835   91536  Quarriors!     NA 2013-08-05       NA  Roztoky     20\n",
       "22 9912984   40692 Small World     NA 2013-08-05       NA  Roztoky     35\n",
       "21 9912984   40692 Small World     NA 2013-08-05       NA  Roztoky     35\n",
       "3  9913062   91536  Quarriors!     NA 2013-08-05       NA  Roztoky     20\n",
       "31 9913062   91536  Quarriors!     NA 2013-08-05       NA  Roztoky     20\n",
       "   incomplete nowinstats comments player.username player.name\n",
       "1          NA         NA               Tatsukochi      hejtmy\n",
       "2          NA         NA                                Betka\n",
       "22         NA         NA               Tatsukochi      hejtmy\n",
       "21         NA         NA                                Betka\n",
       "3          NA         NA               Tatsukochi      hejtmy\n",
       "31         NA         NA                                Betka\n",
       "   player.startposition player.color player.score player.new player.rating\n",
       "1                    NA                        20         NA            NA\n",
       "2                    NA                         2         NA            NA\n",
       "22                    1                       106         NA            NA\n",
       "21                   NA                        94         NA            NA\n",
       "3                     2                        20         NA            NA\n",
       "31                    1                        10         NA            NA\n",
       "   player.win\n",
       "1           1\n",
       "2          NA\n",
       "22          1\n",
       "21         NA\n",
       "3          NA\n",
       "31         NA"
      ]
     },
     "metadata": {},
     "output_type": "display_data"
    }
   ],
   "source": [
    "head(plays_recoded)"
   ]
  },
  {
   "cell_type": "markdown",
   "metadata": {},
   "source": [
    "Now it works but the function looks horrible. We can fix stuff using functions to make things clearer."
   ]
  },
  {
   "cell_type": "markdown",
   "metadata": {},
   "source": [
    "Now the stat tests will be slightly more complicated, because we need to do them play.ID wise, but we should manage. There are packages to easy our ways into that."
   ]
  },
  {
   "cell_type": "markdown",
   "metadata": {},
   "source": [
    "### reshape way\n",
    "\n"
   ]
  },
  {
   "cell_type": "code",
   "execution_count": null,
   "metadata": {
    "collapsed": false
   },
   "outputs": [],
   "source": [
    "reshape(plays, direction = \"long\", varying = 11:75)"
   ]
  },
  {
   "cell_type": "markdown",
   "metadata": {},
   "source": [
    "## Time play\n",
    "\n",
    "there is more complicated issue when dealing with time. Time can be written in many ways - as string, as posix format, datetime, datenum, time with zones or without, miliseconds since something etc. Depending on how you encode it, you can do simple or complicate stuff with it :)"
   ]
  },
  {
   "cell_type": "code",
   "execution_count": null,
   "metadata": {
    "collapsed": true
   },
   "outputs": [],
   "source": []
  },
  {
   "cell_type": "code",
   "execution_count": null,
   "metadata": {
    "collapsed": true
   },
   "outputs": [],
   "source": []
  }
 ],
 "metadata": {
  "kernelspec": {
   "display_name": "R",
   "language": "R",
   "name": "ir"
  },
  "language_info": {
   "codemirror_mode": "r",
   "file_extension": ".r",
   "mimetype": "text/x-r-source",
   "name": "R",
   "pygments_lexer": "r",
   "version": "3.2.3"
  }
 },
 "nbformat": 4,
 "nbformat_minor": 0
}
