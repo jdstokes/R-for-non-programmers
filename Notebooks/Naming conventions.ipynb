{
 "cells": [
  {
   "cell_type": "markdown",
   "metadata": {},
   "source": [
    "# Naming conventions\n",
    "Each programming language has some sort of a guide as to how it want's to be written. Following code does the same thing, but one is R preffered and the other not.\n",
    "\n",
    "Name things exclusively\n",
    "tab = read.csv()\n",
    "tab2 = read.csv()\n",
    "\n",
    "# Never use special characters"
   ]
  },
  {
   "cell_type": "markdown",
   "metadata": {},
   "source": [
    "# Special characters\n",
    "Special characters are characters that have meaning in the R syntax. Therefore they should never be used in variable names or functions!"
   ]
  },
  {
   "cell_type": "markdown",
   "metadata": {},
   "source": [
    "asignments\n",
    "= <-\n",
    "\n",
    "comparing\n",
    "== < > %in%\n",
    "\n",
    "logical\n",
    "& |\n",
    "\n",
    "algebra\n",
    "+ - * / % ^\n",
    "\n",
    "no braces, brackets or parenthesis\n",
    "[]{}()"
   ]
  },
  {
   "cell_type": "markdown",
   "metadata": {},
   "source": [
    "# Just keep to letters, numbers and underscore when naming Things"
   ]
  }
 ],
 "metadata": {
  "kernelspec": {
   "display_name": "R",
   "language": "R",
   "name": "ir"
  },
  "language_info": {
   "codemirror_mode": "r",
   "file_extension": ".r",
   "mimetype": "text/x-r-source",
   "name": "R",
   "pygments_lexer": "r",
   "version": "3.2.5"
  }
 },
 "nbformat": 4,
 "nbformat_minor": 0
}
